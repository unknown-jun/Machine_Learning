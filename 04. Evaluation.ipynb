{
 "cells": [
  {
   "cell_type": "markdown",
   "id": "16f338ec",
   "metadata": {},
   "source": [
    "# 평가\n",
    "\n",
    "![image](https://user-images.githubusercontent.com/70187490/127277046-16f05508-5dcd-4b79-9854-c624cac619bb.png)\n",
    "\n",
    "\n",
    "- 분류의 성능평가 지표\n",
    "    - 정확도( Accuracy )\n",
    "    - 오차행렬( Confusion Matrix )\n",
    "    - 정밀도( Precision )\n",
    "    - 재현률( Recall )\n",
    "    - F1 스코어\n",
    "    - ROC AUC"
   ]
  },
  {
   "cell_type": "markdown",
   "id": "2dd427e0",
   "metadata": {},
   "source": [
    "## 1. 정확도(Accuracy)\n",
    "\n",
    "- 정확도는 실제 데이터에서 예측 데이터가 얼마나 같은지를 판단하는 지표\n",
    "$$Accuracy = \\frac{Number \\ of \\ correct \\ prediction}{Total \\ number \\ of \\ prediction}$$\n",
    "\n",
    "- 가장 직관적인 모델 예측 성능 평가 지표지만, 정확도 수치 하나만 가지고 성능을 평가하지 않음\n",
    "- 타이타닉과 같은 경우 별다른 알고리즘의 적용없이 무조건 여자면 생존으로 예측해도 높은 정확도가 나올 수 있음\n",
    "    > 성별 하나만으로 결정하는 단순한 알고리즘도 높은 정확도를 나타내는 상황이 발생"
   ]
  },
  {
   "cell_type": "code",
   "execution_count": 1,
   "id": "47463f69",
   "metadata": {},
   "outputs": [],
   "source": [
    "import numpy as np\n",
    "import pandas as pd\n",
    "from sklearn.base import BaseEstimator\n",
    "\n",
    "class MyDummyClassifier(BaseEstimator):\n",
    "    # fit( ) 메서드는 아무것도 학습하지 않음\n",
    "    def fit(self, X, y=None):\n",
    "        pass\n",
    "    # predict( ) 메서드는 단순히 Sex 피처가 1이면 0, 그렇지 않으면 1로 예측함\n",
    "    def predict(self, X):\n",
    "        pred = np.zeros( (X.shape[0],1) )\n",
    "        for i in range(X.shape[0]):\n",
    "            if X['Sex'].iloc[i] == 1:\n",
    "                pred[i]=0\n",
    "            else:\n",
    "                pred[i]=1\n",
    "        \n",
    "        return pred"
   ]
  },
  {
   "cell_type": "markdown",
   "id": "8c28675b",
   "metadata": {},
   "source": [
    "- 사이킷런의 BaseEstimator 클래스를 상속받아 아무런 학습을 하지 않고, 성별에 따라 생존자를 예측하는 단순한 Classifier를 생성\n",
    "    - 사이킷런은 BaseEstimator를 상속받으면 Customized 형태의 Estimator를 개발자가 생성할 수 있음\n",
    "    \n",
    "<br>\n",
    "\n",
    "위의 생성한 MyDummyClassifier 클래스는 \n",
    "- 학습을 수행하는 fit( ) 메서드는 아무것도 수행하지 않으며\n",
    "- 예측을 수행하는 predict( ) 메소드는 단순히 Sex 피처가 1이면 0, 그렇지 않으면 1로 예측"
   ]
  },
  {
   "cell_type": "code",
   "execution_count": 2,
   "id": "d3645349",
   "metadata": {},
   "outputs": [],
   "source": [
    "# Null 처리 함수\n",
    "def fillna(df):\n",
    "    df['Age'].fillna(df['Age'].mean(), inplace=True)\n",
    "    df['Cabin'].fillna('N', inplace=True)\n",
    "    df['Embarked'].fillna('N', inplace=True)\n",
    "    df['Fare'].fillna(0, inplace=True)\n",
    "    return df\n",
    "\n",
    "# 불필요한 속성 제거\n",
    "def drop_features(df):\n",
    "    df.drop(['PassengerId','Name','Ticket'], axis=1, inplace=True)\n",
    "    return df\n",
    "\n",
    "# 레이블 인코딩 수행\n",
    "def format_features(df):\n",
    "    from sklearn.preprocessing import LabelEncoder\n",
    "    df['Cabin'] = df['Cabin'].str[:1]\n",
    "    features = ['Cabin', 'Sex','Embarked']\n",
    "    for feature in features:\n",
    "        le = LabelEncoder()\n",
    "        le = le.fit(df[feature])\n",
    "        df[feature] = le.transform(df[feature])\n",
    "    return df\n",
    "\n",
    "# 설정한 데이터 전처리 함수 호출\n",
    "def transform_features(df):\n",
    "    df = fillna(df)\n",
    "    df = drop_features(df)\n",
    "    df = format_features(df)\n",
    "    return df"
   ]
  },
  {
   "cell_type": "code",
   "execution_count": 3,
   "id": "422721e1",
   "metadata": {},
   "outputs": [
    {
     "name": "stdout",
     "output_type": "stream",
     "text": [
      "Dummy Classifier의 정확도는: 0.7877\n"
     ]
    }
   ],
   "source": [
    "from sklearn.model_selection import train_test_split\n",
    "from sklearn.metrics import accuracy_score\n",
    "\n",
    "# 원본 데이터를 재로딩, 데이터 가공, 학습 데이터/테스트 데이터 분할\n",
    "titanic_df = pd.read_csv('titanic_train.csv')\n",
    "y_titanic_df = titanic_df['Survived']\n",
    "X_titanic_df = titanic_df.drop('Survived', axis=1)\n",
    "X_titanic_df = transform_features(X_titanic_df)\n",
    "X_train, X_test, y_train, y_test = train_test_split(X_titanic_df, y_titanic_df,\n",
    "                                                    test_size=0.2, random_state=0)\n",
    "\n",
    "# 위에서 생성한 Dummy Classifier를 이용해 학습/예측/평가 수행\n",
    "myclf = MyDummyClassifier()\n",
    "myclf.fit(X_train, y_train)\n",
    "\n",
    "mypredictions = myclf.predict(X_test)\n",
    "print('Dummy Classifier의 정확도는: {0:.4f}'.format(accuracy_score(y_test, mypredictions)))"
   ]
  },
  {
   "cell_type": "markdown",
   "id": "527bf139",
   "metadata": {},
   "source": [
    "MNIST 데이터 세트를 변환해 불균현한 데이터 세트로 만든 뒤에 정확도 지표 적용시 문제 발생되는 예시\n",
    "- 레이블 값이 7인것만이 True, 나머지 값은 모두 False로 변환해 이진 분류로 자료를 변환\n",
    "> 즉, 전체 데이터의 10%만 True, 나머지 90%는 False인 불균형 데이터 세트로 변형"
   ]
  },
  {
   "cell_type": "code",
   "execution_count": 4,
   "id": "a54c07ab",
   "metadata": {},
   "outputs": [],
   "source": [
    "from sklearn.datasets import load_digits\n",
    "from sklearn.model_selection import train_test_split\n",
    "from sklearn.base import BaseEstimator\n",
    "from sklearn.metrics import accuracy_score\n",
    "import numpy as np\n",
    "import pandas as pd\n",
    "import seaborn as sns\n",
    "import matplotlib.pyplot as plt\n",
    "\n",
    "# 사이킷런의 내장 데이터 세트인 load_digits( )을 이용해 MNIST 데이터 로딩\n",
    "digits = load_digits( )\n",
    "\n",
    "# digits 번호가 7번이면 True이고 이를 astype(int)로 1로 변환, 7번이 아니면 False이고 0으로 변환\n",
    "y = (digits.target == 7).astype(int)\n",
    "X_train, X_test, y_train, y_test = train_test_split( digits.data, y, random_state= 11 )"
   ]
  },
  {
   "cell_type": "markdown",
   "id": "20933ca5",
   "metadata": {},
   "source": [
    "단순한 알고리즘 제작\n",
    "- 단순히 predict의 결과를 np.zeros( )로 모두 0값으로 반환하는 클래스 생성\n",
    "- fit( )단계에서 학습을 하지 않음"
   ]
  },
  {
   "cell_type": "code",
   "execution_count": 5,
   "id": "e7c29ca1",
   "metadata": {},
   "outputs": [],
   "source": [
    "class MyFakeClassifier(BaseEstimator):\n",
    "    def fit(self, X, y):\n",
    "        pass\n",
    "    \n",
    "    # 입력값으로 들어오는 X 데이터 세트의 크기만큼 모두 0 값으로 만들어서 반환\n",
    "    def predict(self, X):\n",
    "        return np.zeros( (len(X),1), dtype=bool )"
   ]
  },
  {
   "cell_type": "code",
   "execution_count": 6,
   "id": "d2d5f70f",
   "metadata": {},
   "outputs": [
    {
     "name": "stdout",
     "output_type": "stream",
     "text": [
      "레이블 테스트 세트 크기: (450,)\n",
      "테스트 세트 레이블 0과 1의 분포도\n",
      "0    405\n",
      "1     45\n",
      "dtype: int64\n"
     ]
    },
    {
     "data": {
      "image/png": "[encoded data removed]",
      "text/plain": [
       "<Figure size 432x288 with 1 Axes>"
      ]
     },
     "metadata": {},
     "output_type": "display_data"
    }
   ],
   "source": [
    "# 불균형한 레이블 데이터 분포도 확인\n",
    "dist = pd.Series(y_test).value_counts()\n",
    "print('레이블 테스트 세트 크기:', y_test.shape)\n",
    "print('테스트 세트 레이블 0과 1의 분포도')\n",
    "print(dist)\n",
    "\n",
    "plt.style.use(['seaborn-whitegrid'])\n",
    "plt.bar([0,1], dist.values)\n",
    "plt.xticks([0,1], [0,1]);"
   ]
  },
  {
   "cell_type": "code",
   "execution_count": 7,
   "id": "f3530eb1",
   "metadata": {},
   "outputs": [
    {
     "name": "stdout",
     "output_type": "stream",
     "text": [
      "모든 예측을 0으로 하여도 정확도는:0.900\n"
     ]
    }
   ],
   "source": [
    "# Dummy Classifier로 학습/예측/정확도 평가\n",
    "fakeclf = MyFakeClassifier()\n",
    "fakeclf.fit(X_train, y_train)\n",
    "fakepred = fakeclf.predict(X_test)\n",
    "print('모든 예측을 0으로 하여도 정확도는:{:.3f}'.format(accuracy_score(y_test, fakepred)))"
   ]
  },
  {
   "cell_type": "markdown",
   "id": "7f48da0a",
   "metadata": {},
   "source": [
    "- 이렇게 불균형한 데이터 세트에서 모든 데이터를 Flase, 즉 0으로 예측하는 classifier를 이용해 정확도를 측정하면 90%에 가까운 예측 정확도를 나타냄\n",
    "    - 데이터 분포도가 균일하지 않은 경우 높은 수치가 나타날 수 있는 것이 정확도 평가 지표의 맹점\n",
    "    \n",
    "> 이러한 정확도가 가지는 분류 평가 지표로서 한계점을 극복하기 위해선 여러가지 분류 지표와 함께 적용해야 함"
   ]
  },
  {
   "cell_type": "markdown",
   "id": "9412d559",
   "metadata": {},
   "source": [
    "## 오차행렬\n",
    "- 이진 분류의 예측 오류가 얼마인지와 더불어 어떠한 유형의 예측 오류가 발생하고 있는지를 함께 나타내는 지표\n",
    "- 오차 행렬은 4분면 행렬에서 실제 레이블 클래스 값과 예측 레이블 클래스 값이 어떠한 유형을 가지고 매핑되는 지를 알수 있음\n",
    "\n",
    "![image](https://user-images.githubusercontent.com/70187490/127271611-443adf08-1e59-405a-8ed8-00a434f13ca9.png)\n",
    "\n",
    "\n",
    "- TN, FP, FN, TP 기호가 의미하는 것은 \n",
    "    - 앞 문자 True/False는 예측값과 실제값이 '같은가/틀린가'를 의미\n",
    "    - 뒤 문자 Negative/Positive는 예측 결과값이 부정(0)/긍정(1)을 의미\n",
    "\n",
    "<br>\n",
    "\n",
    "* TN은 예측값으로 Negative 값 0으로 예측했고 실제 값 역시 Negative 값 0\n",
    "* FP는 예측값으로 Positive 값 1으로 예측했고 실제 값은 Negative 값 0\n",
    "* FN은 예측값으로 Negative 값 0으로 예측했고 실제 값은 Positive 값 1\n",
    "* TP는 예측값으로 Positive 값 1으로 예측했고 실제 값도 Positive 값 1"
   ]
  },
  {
   "cell_type": "markdown",
   "id": "ace69dd5",
   "metadata": {},
   "source": [
    "사이킷런은 오차 행렬을 구하기 위해 confusion_matrix( ) API를 제공함  \n",
    "- 출력된 오차 행렬은 ndarray형태로 출력함\n",
    "- 즉, TN은 array[0,0]으로 405\n",
    "- FP는 array[0,1]으로 0\n",
    "- FN은 array[1,0]으로 45\n",
    "- TP는 array[1,1]으로 0 에 해당됨"
   ]
  },
  {
   "cell_type": "code",
   "execution_count": 8,
   "id": "aa1135e0",
   "metadata": {},
   "outputs": [
    {
     "data": {
      "text/plain": [
       "array([[405,   0],\n",
       "       [ 45,   0]], dtype=int64)"
      ]
     },
     "execution_count": 8,
     "metadata": {},
     "output_type": "execute_result"
    }
   ],
   "source": [
    "from sklearn.metrics import confusion_matrix\n",
    "conf_mat = confusion_matrix(y_test, fakepred)\n",
    "conf_mat"
   ]
  },
  {
   "cell_type": "code",
   "execution_count": 9,
   "id": "e7a22ca0",
   "metadata": {},
   "outputs": [
    {
     "data": {
      "image/png": "[encoded data removed]",
      "text/plain": [
       "<Figure size 180x180 with 1 Axes>"
      ]
     },
     "metadata": {},
     "output_type": "display_data"
    }
   ],
   "source": [
    "\n",
    "fig, ax = plt.subplots(figsize=(2.5, 2.5))\n",
    "ax.matshow(conf_mat, cmap=plt.cm.Blues, alpha=0.3)\n",
    "for i in range(conf_mat.shape[0]):\n",
    "    for j in range(conf_mat.shape[1]):\n",
    "        ax.text(x=j, y=i, s=conf_mat[i, j], va='center', ha='center', fontsize=19 )\n",
    "        \n",
    "plt.xlabel('Predicted label')\n",
    "plt.ylabel('True label')\n",
    "plt.tight_layout()\n",
    "plt.show()"
   ]
  },
  {
   "cell_type": "markdown",
   "id": "12f830fe",
   "metadata": {},
   "source": [
    "오차행렬의 값을 조합해 Classifier의 성능을 측정할 수 있는 주요 지표인\n",
    "* 정확도(Accuracy)\n",
    "* 정밀도(Precision)\n",
    "* 재현율(Recall)  \n",
    "값을 구할 수 있다."
   ]
  },
  {
   "cell_type": "markdown",
   "id": "d8454b9a",
   "metadata": {},
   "source": [
    "정확도는 예측값과 실제 값이 얼마나 동일한가에 대한 비율만으로 결정됨  \n",
    "&nbsp;&nbsp;&nbsp;&nbsp;즉, 오차행렬에서 True에 해당하는 TN과 TP에 좌우  \n",
    "\n",
    "정확도$= \\frac{TN + TP}{TN+TP+FP+FN}$"
   ]
  },
  {
   "cell_type": "markdown",
   "id": "f853df95",
   "metadata": {},
   "source": [
    "일반적으로 불균형한 레이블 클래스를 가지는 이진 분류 모델에서는 많은 데이터 중에서 중점적으로 찾아야 하는 매우 적은 수의 결괏값에 postive를 설정해 1값을 부여하고, 그렇지 않은 경우는 Negative로 0 값을 부여하는 경우가 많음\n",
    "> 결과적으로 정확도 지표는 비대칭한 데이터 세트에서 Positive에 대한 예측 정확도를 판단하지 못한 채 Negative에 대한 예측 정확도만으로도 분류의 정확도가 매우 높게 나타나는 수치적인 판단 오류를 일으키게 됌"
   ]
  },
  {
   "cell_type": "markdown",
   "id": "7be06147",
   "metadata": {},
   "source": [
    "## 정밀도와 재현율\n",
    "\n",
    "![image](https://user-images.githubusercontent.com/70187490/127277046-16f05508-5dcd-4b79-9854-c624cac619bb.png)\n",
    "\n",
    "- Positive 데이터 세트의 예측 성능에 좀 더 초점을 맞춘 평가 지표  \n",
    "$$precision= \\frac{TP}{FP+TP}$$\n",
    "$$recall= \\frac{TP}{FN+TP}$$\n",
    "- 정밀도는 예측을 Positive로 한 대상 중에 예측과 실제 값이 Positive로 일치한 데이터의 비율\n",
    "    - 예측 성능을 더욱 정밀하게 측정하기 위한 평가 지표\n",
    "\n",
    "<br>\n",
    "\n",
    "- 재현율은 실제 값이 Positive인 대상 중에 예측과 실제 값이 Positive로 일치한 데이터의 비율\n",
    "    - 민감도라고도 불림"
   ]
  },
  {
   "cell_type": "markdown",
   "id": "f656da21",
   "metadata": {},
   "source": [
    "- 재현율이 중요한 경우:  \n",
    " **실제 Positive 양성인 데이터 예측을 Negative로 잘못 판단하게 되면 업무상 큰 영향이 발생하는 경우**\n",
    "        - 실제 Positive인 암환자를 Negative음성으로 잘못 판단할 경우\n",
    "        - 금융거리 사기인 Positive인 거래를 Negative로 잘못 판단한 경우\n",
    "- 정밀도가 중요한 경우:  \n",
    " **실제 Negative 음성인 데이터 예측을 Positive 양성으로 잘못 판단하게 되면 업무상 큰 영향이 발생하는 경우**\n",
    "        - 실제 Negative인 일반 메일을 Positive인 스팸 메일로 분류할 경우"
   ]
  },
  {
   "cell_type": "markdown",
   "id": "122d8eef",
   "metadata": {},
   "source": [
    "재현율과 정밀도 모두 TP를 높이는 데 동일하게 초점을 맞추지만\n",
    "- 재현율은 FN(실제 Positive, 예측 Negative)\n",
    "- 정밀도는 FP(실제 Negative, 예측 Positive) 를 낮추는데 초점\n",
    "\n",
    "<br>\n",
    "\n",
    "사이킷런은 \n",
    "- 정밀도 계산을 위해 precision_score( )\n",
    "- 재현율 계산을 위해 recall_score( ) 을 API로 제공"
   ]
  },
  {
   "cell_type": "code",
   "execution_count": 10,
   "id": "0e55c94c",
   "metadata": {},
   "outputs": [],
   "source": [
    "# 평가를 간편하게 적용하기 위해서 confusion matrix, accuracy, precision, recall 등의 평가를 한꺼번에 호출하는 함수\n",
    "\n",
    "def get_clf_eval(y_test, pred):\n",
    "    from sklearn.metrics import accuracy_score, precision_score, recall_score, confusion_matrix\n",
    "    import matplotlib.pyplot as plt\n",
    "\n",
    "    confusion = confusion_matrix(y_test, pred)\n",
    "    accuracy = accuracy_score(y_test, pred)\n",
    "    precision = precision_score(y_test, pred)\n",
    "    recall = recall_score(y_test, pred)\n",
    "    print('오차 행렬')\n",
    "    print(confusion)\n",
    "    print('정확도: {0:.4f}, 정밀도: {1:.4f}, 재현율: {2:.4f}'.format(accuracy, precision, recall))\n",
    "    \n",
    "    fig, ax = plt.subplots(figsize=(2.5, 2.5))\n",
    "    ax.matshow(confusion, cmap=plt.cm.Blues, alpha=0.3)\n",
    "    for i in range(confusion.shape[0]):\n",
    "        for z in range(confusion.shape[1]):\n",
    "            ax.text(x=z, y=i, s= confusion[i,z], va='center', ha='center', fontsize=19)\n",
    "    plt.xlabel('Predicted label')\n",
    "    plt.ylabel('True label')\n",
    "    plt.tight_layout()\n",
    "    plt.show()"
   ]
  },
  {
   "cell_type": "code",
   "execution_count": 11,
   "id": "c27cd8b2",
   "metadata": {},
   "outputs": [
    {
     "name": "stdout",
     "output_type": "stream",
     "text": [
      "오차 행렬\n",
      "[[104  14]\n",
      " [ 13  48]]\n",
      "정확도: 0.8492, 정밀도: 0.7742, 재현율: 0.7869\n"
     ]
    },
    {
     "name": "stderr",
     "output_type": "stream",
     "text": [
      "C:\\Users\\Jun\\anaconda3\\lib\\site-packages\\sklearn\\linear_model\\_logistic.py:763: ConvergenceWarning: lbfgs failed to converge (status=1):\n",
      "STOP: TOTAL NO. of ITERATIONS REACHED LIMIT.\n",
      "\n",
      "Increase the number of iterations (max_iter) or scale the data as shown in:\n",
      "    https://scikit-learn.org/stable/modules/preprocessing.html\n",
      "Please also refer to the documentation for alternative solver options:\n",
      "    https://scikit-learn.org/stable/modules/linear_model.html#logistic-regression\n",
      "  n_iter_i = _check_optimize_result(\n"
     ]
    },
    {
     "data": {
      "image/png": "[encoded data removed]",
      "text/plain": [
       "<Figure size 180x180 with 1 Axes>"
      ]
     },
     "metadata": {},
     "output_type": "display_data"
    }
   ],
   "source": [
    "# 로지스틱 회귀 기반으로 타이타닉 생존자 예측 후 평가 지표 출력\n",
    "\n",
    "import pandas as pd\n",
    "from sklearn.model_selection import train_test_split\n",
    "from sklearn.linear_model import LogisticRegression\n",
    "\n",
    "# 원본 데이터를 재로딩, 데이터 가공, 학습 데이터/테스트 데이터 분할.\n",
    "titanic_df = pd.read_csv('titanic_train.csv')\n",
    "y_titanic_df = titanic_df['Survived']\n",
    "X_titanic_df = titanic_df.drop('Survived', axis=1)\n",
    "X_titanic_df = transform_features(X_titanic_df)\n",
    "\n",
    "X_train, X_test, y_train, y_test = train_test_split(X_titanic_df, y_titanic_df,\n",
    "                                                   test_size=0.2, random_state=11)\n",
    "\n",
    "lr_clf = LogisticRegression( )\n",
    "\n",
    "lr_clf.fit(X_train, y_train)\n",
    "pred = lr_clf.predict(X_test)\n",
    "get_clf_eval(y_test, pred)"
   ]
  },
  {
   "cell_type": "markdown",
   "id": "e6691af8",
   "metadata": {},
   "source": [
    "### 정밀도/재현율 트레이드 오프\n",
    "- 분류하려는 업무의 특성상 정밀도 또는 재현율이 특별히 강조돼야 할 경우 분류의 결정 임곗값(Threshold)을 조정해 정밀도 또는 재현율의 수치를 높일 수 있음\n",
    "- 하지만 정밀도와 재현율은 상호 보완적인 평가 지표이기 때문에 어느 한쪽을 강제로 높이면 다른 하나의 수치가 떨어지기 쉬움\n",
    "    - 정밀도/재현율의 트레이드오프(Trade-off)\n",
    "    \n",
    "<br>\n",
    "\n",
    "사이킷런은 개별 데이터별로 예측 확률을 반환하는 메서드인 predict_proba()를 제공\n",
    "- predict_proba( )메소드는 학습이 완료된 사이킷런 Classifier 객체에서 호출이 가능하며 테스트 피처 데이터를 파라미터로 입력해주면 테스트 피처 레코드의 개별 클래스 예측 확률을 반환함\n",
    "- predict와 비슷하지만 반환 결과가 예측 결과 확률\n"
   ]
  },
  {
   "cell_type": "code",
   "execution_count": 12,
   "id": "3d36dc2f",
   "metadata": {},
   "outputs": [
    {
     "name": "stdout",
     "output_type": "stream",
     "text": [
      "pred_proba() 결과 shape: (179, 2)\n",
      "pred_proba array에서 앞 3개만 샘플로 추출: \n",
      " [[0.46197701 0.53802299]\n",
      " [0.87868649 0.12131351]\n",
      " [0.87716331 0.12283669]]\n",
      "두 개의 class 중에서 더 큰 확률을 클래스 값으로 예측 \n",
      " [[0.46197701 0.53802299 1.        ]\n",
      " [0.87868649 0.12131351 0.        ]\n",
      " [0.87716331 0.12283669 0.        ]]\n"
     ]
    }
   ],
   "source": [
    "pred_proba = lr_clf.predict_proba(X_test)\n",
    "pred = lr_clf.predict(X_test)\n",
    "print('pred_proba() 결과 shape: {}'.format(pred_proba.shape))\n",
    "print('pred_proba array에서 앞 3개만 샘플로 추출: \\n', pred_proba[:3])\n",
    "\n",
    "# 예측 확률 array와 예측 결괏값 array를 병합(concatenate)해 예측 확률과 결괏값을 한눈에 파악\n",
    "pred_proba_result = np.concatenate([pred_proba, pred.reshape(-1, 1)], axis=1)\n",
    "print('두 개의 class 중에서 더 큰 확률을 클래스 값으로 예측 \\n', pred_proba_result[:3])"
   ]
  },
  {
   "cell_type": "markdown",
   "id": "00c35203",
   "metadata": {},
   "source": [
    "threshold 변수를 특정 값으로 설정하고 Binarizer 클래스를 객체로 생성.  \n",
    "- 생성된 Binarizer 객체의 fit_transform( ) 메서드를 이용해 ndarray를 입력하면  \n",
    "- 입력된 ndarray의 값을 지정된 threshold보다 같거나 작으면 0값으로, 크면 1값으로 변환해 반환함"
   ]
  },
  {
   "cell_type": "code",
   "execution_count": 13,
   "id": "c4b1a43a",
   "metadata": {},
   "outputs": [
    {
     "name": "stdout",
     "output_type": "stream",
     "text": [
      "[[0. 0. 1.]\n",
      " [1. 0. 0.]\n",
      " [0. 0. 1.]]\n"
     ]
    }
   ],
   "source": [
    "from sklearn.preprocessing import Binarizer\n",
    "\n",
    "X = [[1, -1, 2],\n",
    "     [2, 0, 0],\n",
    "     [0, 1.1, 1.2]]\n",
    "\n",
    "# X의 개별 원소들이 threshold 값보다 같거나 작으면 0을, 크면 1을 반환\n",
    "binarizer = Binarizer(threshold=1.1)\n",
    "print(binarizer.fit_transform(X))\n",
    "# 입력된 X 데이터 세트에서 Binarizer의 threshold 값이 1.1보다 같거나 작으면 0, 크면 1로 변환"
   ]
  },
  {
   "cell_type": "markdown",
   "id": "f48fd0db",
   "metadata": {},
   "source": [
    "LogisticRegression객체의 predict_proba( ) 메서드로 구한 각 클래스별 예측 확률값인 pred_proba 객체 변수에  \n",
    "분류 결정 임곗값(threshold)을 0.5로 지정한 Binarizer클래스를 적용해 최종 예측값을 구하는 예제"
   ]
  },
  {
   "cell_type": "code",
   "execution_count": 14,
   "id": "4998a81a",
   "metadata": {},
   "outputs": [
    {
     "name": "stdout",
     "output_type": "stream",
     "text": [
      "오차 행렬\n",
      "[[104  14]\n",
      " [ 13  48]]\n",
      "정확도: 0.8492, 정밀도: 0.7742, 재현율: 0.7869\n"
     ]
    },
    {
     "data": {
      "image/png": "[encoded data removed]",
      "text/plain": [
       "<Figure size 180x180 with 1 Axes>"
      ]
     },
     "metadata": {},
     "output_type": "display_data"
    }
   ],
   "source": [
    "from sklearn.preprocessing import Binarizer\n",
    "\n",
    "# Binarizer의 threshold 설정값, 분류 결정 임곗값임\n",
    "custom_threshold =0.5\n",
    "\n",
    "# predict_proba( ) 반환값의 두 번째 컬럼, 즉 Positive 클래스 칼럼 하나만 추출해 Binarizer를 적용\n",
    "pred_proba_1 = pred_proba[:, 1].reshape(-1, 1)\n",
    "binarizer = Binarizer(threshold=custom_threshold).fit(pred_proba_1)\n",
    "custom_predict = binarizer.transform(pred_proba_1)\n",
    "\n",
    "get_clf_eval(y_test, custom_predict)"
   ]
  },
  {
   "cell_type": "code",
   "execution_count": 15,
   "id": "6200e533",
   "metadata": {},
   "outputs": [
    {
     "name": "stdout",
     "output_type": "stream",
     "text": [
      "오차 행렬\n",
      "[[98 20]\n",
      " [10 51]]\n",
      "정확도: 0.8324, 정밀도: 0.7183, 재현율: 0.8361\n"
     ]
    },
    {
     "data": {
      "image/png": "[encoded data removed]",
      "text/plain": [
       "<Figure size 180x180 with 1 Axes>"
      ]
     },
     "metadata": {},
     "output_type": "display_data"
    }
   ],
   "source": [
    "# Binarizer의 threshold 설정값을 0.4로 설정. 즉, 결정 임곗값을 0.5에서 0.4로 낮춤\n",
    "custom_threshold=.4\n",
    "pred_proba_1 = pred_proba[:,1].reshape(-1, 1)\n",
    "binarizer=Binarizer(threshold=custom_threshold).fit(pred_proba_1)\n",
    "custom_predict = binarizer.transform(pred_proba_1)\n",
    "\n",
    "get_clf_eval(y_test, custom_predict)"
   ]
  },
  {
   "cell_type": "markdown",
   "id": "6a48f14a",
   "metadata": {},
   "source": [
    "임곗값을 낮추니 **재현율 값이 올라가고 정밀도가 떨어짐**  \n",
    "-> 분류 결정 임곗값은 Positive 예측 값을 결정하는 확률의 기준 ( Positive로 예측하는 기준이 낮음 )  \n",
    "\n",
    "재현률 $= \\frac{TP}{TP+FN} = \\frac{51}{51+10}$\n"
   ]
  },
  {
   "cell_type": "code",
   "execution_count": 16,
   "id": "3abba662",
   "metadata": {},
   "outputs": [],
   "source": [
    "# Thresholds 값에 따른 DataFrame을 만들기 위해 return 값을 추가\n",
    "\n",
    "def get_clf_eval(y_test, pred):\n",
    "    from sklearn.metrics import accuracy_score, precision_score, recall_score, confusion_matrix\n",
    "    import matplotlib.pyplot as plt\n",
    "\n",
    "    confusion = confusion_matrix(y_test, pred)\n",
    "    accuracy = accuracy_score(y_test, pred)\n",
    "    precision = precision_score(y_test, pred)\n",
    "    recall = recall_score(y_test, pred)\n",
    "    print('오차 행렬')\n",
    "    print(confusion)\n",
    "    print('정확도: {0:.4f}, 정밀도: {1:.4f}, 재현율: {2:.4f}'.format(accuracy, precision, recall))\n",
    "    \n",
    "    fig, ax = plt.subplots(figsize=(2.5, 2.5))\n",
    "    ax.matshow(confusion, cmap=plt.cm.Blues, alpha=0.3)\n",
    "    for i in range(confusion.shape[0]):\n",
    "        for z in range(confusion.shape[1]):\n",
    "            ax.text(x=z, y=i, s= confusion[i,z], va='center', ha='center', fontsize=19)\n",
    "    plt.xlabel('Predicted label')\n",
    "    plt.ylabel('True label')\n",
    "    plt.tight_layout()\n",
    "    plt.show()\n",
    "    \n",
    "    return accuracy, precision, recall"
   ]
  },
  {
   "cell_type": "code",
   "execution_count": 17,
   "id": "0d64f60f",
   "metadata": {
    "scrolled": false
   },
   "outputs": [
    {
     "name": "stdout",
     "output_type": "stream",
     "text": [
      "임곗값: 0.4\n",
      "오차 행렬\n",
      "[[98 20]\n",
      " [10 51]]\n",
      "정확도: 0.8324, 정밀도: 0.7183, 재현율: 0.8361\n"
     ]
    },
    {
     "data": {
      "image/png": "[encoded data removed]",
      "text/plain": [
       "<Figure size 180x180 with 1 Axes>"
      ]
     },
     "metadata": {},
     "output_type": "display_data"
    },
    {
     "name": "stdout",
     "output_type": "stream",
     "text": [
      "임곗값: 0.45\n",
      "오차 행렬\n",
      "[[103  15]\n",
      " [ 12  49]]\n",
      "정확도: 0.8492, 정밀도: 0.7656, 재현율: 0.8033\n"
     ]
    },
    {
     "data": {
      "image/png": "[encoded data removed]",
      "text/plain": [
       "<Figure size 180x180 with 1 Axes>"
      ]
     },
     "metadata": {},
     "output_type": "display_data"
    },
    {
     "name": "stdout",
     "output_type": "stream",
     "text": [
      "임곗값: 0.5\n",
      "오차 행렬\n",
      "[[104  14]\n",
      " [ 13  48]]\n",
      "정확도: 0.8492, 정밀도: 0.7742, 재현율: 0.7869\n"
     ]
    },
    {
     "data": {
      "image/png": "[encoded data removed]",
      "text/plain": [
       "<Figure size 180x180 with 1 Axes>"
      ]
     },
     "metadata": {},
     "output_type": "display_data"
    },
    {
     "name": "stdout",
     "output_type": "stream",
     "text": [
      "임곗값: 0.55\n",
      "오차 행렬\n",
      "[[109   9]\n",
      " [ 15  46]]\n",
      "정확도: 0.8659, 정밀도: 0.8364, 재현율: 0.7541\n"
     ]
    },
    {
     "data": {
      "image/png": "[encoded data removed]",
      "text/plain": [
       "<Figure size 180x180 with 1 Axes>"
      ]
     },
     "metadata": {},
     "output_type": "display_data"
    },
    {
     "name": "stdout",
     "output_type": "stream",
     "text": [
      "임곗값: 0.6\n",
      "오차 행렬\n",
      "[[112   6]\n",
      " [ 16  45]]\n",
      "정확도: 0.8771, 정밀도: 0.8824, 재현율: 0.7377\n"
     ]
    },
    {
     "data": {
      "image/png": "[encoded data removed]",
      "text/plain": [
       "<Figure size 180x180 with 1 Axes>"
      ]
     },
     "metadata": {},
     "output_type": "display_data"
    },
    {
     "data": {
      "text/html": [
       "<div>\n",
       "<style scoped>\n",
       "    .dataframe tbody tr th:only-of-type {\n",
       "        vertical-align: middle;\n",
       "    }\n",
       "\n",
       "    .dataframe tbody tr th {\n",
       "        vertical-align: top;\n",
       "    }\n",
       "\n",
       "    .dataframe thead th {\n",
       "        text-align: right;\n",
       "    }\n",
       "</style>\n",
       "<table border=\"1\" class=\"dataframe\">\n",
       "  <thead>\n",
       "    <tr style=\"text-align: right;\">\n",
       "      <th></th>\n",
       "      <th>0.40</th>\n",
       "      <th>0.45</th>\n",
       "      <th>0.50</th>\n",
       "      <th>0.55</th>\n",
       "      <th>0.60</th>\n",
       "    </tr>\n",
       "  </thead>\n",
       "  <tbody>\n",
       "    <tr>\n",
       "      <th>정확도</th>\n",
       "      <td>0.832402</td>\n",
       "      <td>0.849162</td>\n",
       "      <td>0.849162</td>\n",
       "      <td>0.865922</td>\n",
       "      <td>0.877095</td>\n",
       "    </tr>\n",
       "    <tr>\n",
       "      <th>정밀도</th>\n",
       "      <td>0.718310</td>\n",
       "      <td>0.765625</td>\n",
       "      <td>0.774194</td>\n",
       "      <td>0.836364</td>\n",
       "      <td>0.882353</td>\n",
       "    </tr>\n",
       "    <tr>\n",
       "      <th>재현율</th>\n",
       "      <td>0.836066</td>\n",
       "      <td>0.803279</td>\n",
       "      <td>0.786885</td>\n",
       "      <td>0.754098</td>\n",
       "      <td>0.737705</td>\n",
       "    </tr>\n",
       "  </tbody>\n",
       "</table>\n",
       "</div>"
      ],
      "text/plain": [
       "         0.40      0.45      0.50      0.55      0.60\n",
       "정확도  0.832402  0.849162  0.849162  0.865922  0.877095\n",
       "정밀도  0.718310  0.765625  0.774194  0.836364  0.882353\n",
       "재현율  0.836066  0.803279  0.786885  0.754098  0.737705"
      ]
     },
     "execution_count": 17,
     "metadata": {},
     "output_type": "execute_result"
    }
   ],
   "source": [
    "# 테스트를 수행할 모든 임곗값을 리스트 객체로 저장\n",
    "thresholds = [0.4, 0.45, 0.5, 0.55, 0.6]\n",
    "\n",
    "def get_eval_by_threshold(y_test, pred_proba_c1, thresholds):\n",
    "    # thresholds list 객체 내의 값을 차례로 iteration 하면서 Evaluation을 수행\n",
    "    table = pd.DataFrame(index=['정확도','정밀도','재현율'])\n",
    "\n",
    "    for custom_threshold in thresholds:\n",
    "        binarizer = Binarizer(threshold=custom_threshold).fit(pred_proba_c1)\n",
    "        custom_predict=binarizer.transform(pred_proba_c1)\n",
    "        print('임곗값:', custom_threshold)\n",
    "        \n",
    "        eval_df = pd.DataFrame(list(get_clf_eval(y_test, custom_predict)), \n",
    "                                   index=['정확도','정밀도','재현율'])\n",
    "        table=pd.concat([table,eval_df], axis=1)\n",
    "    table.columns = thresholds\n",
    "    return table\n",
    "        \n",
    "get_eval_by_threshold(y_test, pred_proba[:,1].reshape(-1, 1), thresholds)"
   ]
  },
  {
   "cell_type": "markdown",
   "id": "3f73a02b",
   "metadata": {},
   "source": [
    "사이킷런은 이와 유사한 precision_recall_curve( ) API를 제공함\n",
    "- 입력파라미터\n",
    "    - y_true: 실제 클래스값 배열(배열 크기=[데이터 건수])\n",
    "    - probas_pred: Postive 컬럼의 예측 확률 배열( 배열크기=[데이터 건수] )\n",
    "- 반환값\n",
    "    - 정밀도: 임곗값별 정밀도 값을 배열로 반환\n",
    "    - 재현율: 임곗값별 재현율 값을 배열로 반환"
   ]
  },
  {
   "cell_type": "code",
   "execution_count": 22,
   "id": "bb292f93",
   "metadata": {},
   "outputs": [
    {
     "name": "stdout",
     "output_type": "stream",
     "text": [
      "반환된 분류 결정 임곗값 배열의 Shape: (143,)\n",
      "샘플 추출을 위한 임계값 배열의 index 10개: [  0  15  30  45  60  75  90 105 120 135]\n",
      "샘플용 10개의 임곗값: [0.1  0.12 0.14 0.19 0.28 0.4  0.56 0.67 0.82 0.95]\n",
      "샘플 임계값별 정밀도:  [0.389 0.44  0.466 0.539 0.647 0.729 0.836 0.949 0.958 1.   ]\n",
      "샘플 임계값별 재현율:  [1.    0.967 0.902 0.902 0.902 0.836 0.754 0.607 0.377 0.148]\n"
     ]
    }
   ],
   "source": [
    "from sklearn.metrics import precision_recall_curve\n",
    "\n",
    "# 레이블 값이 1일 때의 예측 확률을 추출\n",
    "pred_proba_class1 = lr_clf.predict_proba(X_test)[:,1]\n",
    "\n",
    "# 실제값 데이터 세트와 레이블 값이 1일 때의 예측 확률을 precision_recall_curve 인자로 입력\n",
    "precisions, recalls, thresholds = precision_recall_curve(y_test, pred_proba_class1)\n",
    "print('반환된 분류 결정 임곗값 배열의 Shape:', thresholds.shape)\n",
    "\n",
    "# 반환된 임계값 배열 로우가 147건이므로 샘플로 10건만 추출하되, 임곗값을 15 step으로 추출\n",
    "thr_index = np.arange(0, thresholds.shape[0], 15)\n",
    "print('샘플 추출을 위한 임계값 배열의 index 10개:', thr_index)\n",
    "print('샘플용 10개의 임곗값:', np.round(thresholds[thr_index], 2))\n",
    "\n",
    "# 15 step 단위로 추출된 임계값에 따른 정밀도와 재현율 값\n",
    "print('샘플 임계값별 정밀도: ', np.round(precisions[thr_index], 3))\n",
    "print('샘플 임계값별 재현율: ', np.round(recalls[thr_index], 3) )"
   ]
  },
  {
   "cell_type": "markdown",
   "id": "b2036d7a",
   "metadata": {},
   "source": [
    "정밀도와 재현율 곡선을 시각화하기"
   ]
  },
  {
   "cell_type": "code",
   "execution_count": 31,
   "id": "618e1930",
   "metadata": {},
   "outputs": [
    {
     "data": {
      "image/png": "[encoded data removed]",
      "text/plain": [
       "<Figure size 576x432 with 1 Axes>"
      ]
     },
     "metadata": {},
     "output_type": "display_data"
    }
   ],
   "source": [
    "import matplotlib.pyplot as plt\n",
    "import matplotlib.ticker as ticker\n",
    "%matplotlib inline\n",
    "plt.style.use(['seaborn-whitegrid'])\n",
    "\n",
    "def precision_recall_curve_plot(y_test, pred_proba_c1):\n",
    "    # threshold ndarray와 이 threshold에 따른 정밀도, 재현율 ndarray 추출\n",
    "    precisions, recalls, thresholds = precision_recall_curve(y_test, pred_proba_c1)\n",
    "\n",
    "    # x축을 threshold값으로, y축은 정밀도, 재현율 값으로 각각 plot 수행. 정밀도는 점선으로 표시\n",
    "    plt.figure(figsize=(8, 6))\n",
    "    threshold_boundary = thresholds.shape[0]\n",
    "    plt.plot(thresholds, precisions[0:threshold_boundary], linestyle='--', label='precision')\n",
    "    plt.plot(thresholds, recalls[0:threshold_boundary], label='recall')\n",
    "    \n",
    "    # threshold 값 x 축의 Scale을 0.1 단위로 변경\n",
    "    start, end = plt.xlim()\n",
    "    plt.xticks(np.round(np.arange(start, end, 0.1), 2))\n",
    "    \n",
    "    # x축, y축 label과 legend, 그리고 grid 설정\n",
    "    plt.xlabel('Threshold value'); plt.ylabel('Precision and Recall value')\n",
    "    plt.legend(frameon=True); \n",
    "    plt.show()\n",
    "    \n",
    "precision_recall_curve_plot( y_test, lr_clf.predict_proba(X_test)[:,1])"
   ]
  },
  {
   "cell_type": "markdown",
   "id": "964360ec",
   "metadata": {},
   "source": [
    "임곗값이 낮을수록 많은 수의 양성 예측으로 인해 \n",
    "- 재현율 값이 극도로 높아지고  \n",
    "- 정밀도 값이 극도로 낮아짐\n",
    "\n",
    "### 정밀도와 재현율의 맹점\n",
    "\n",
    "정밀도 또는 재현율 평가 지표 수치 중 하나를 극단적으로 높이는 방법이지만 숫자 놀음에 불과한 방법   \n",
    "\n",
    "<br> \n",
    "\n",
    "**정밀도가 100%가 되는 방법**  \n",
    "- 확실한 기준이 되는 경우만 Positive로 예측하고 나머지 모두를 Negative로 예측함\n",
    "- 정밀도 = TP / (TP + FP)\n",
    "- 전체 환자 1000명 중 확실한 Positive 환자는 단 한명이라고 하면 \n",
    "    - 이 한명만 Positive로 예측하고 나머지 모두를 Negative로 예측하더라도 \n",
    "    - FP는 0, TP는 1이 되므로 정밀도는 1/(1+0)으로 100%가 됨\n",
    "    \n",
    "<br> \n",
    "    \n",
    "**재현율이 100%가 되는 방법**\n",
    "- 모든 환자를 Positive로 예측\n",
    "- 재현율 = TP /(TP + FN)\n",
    "- 실제 양성인 사람이 30명 정도라도 TN이 수치에 포함되지 않고 FN은 아예 0이므로 30/(30+0)으로 100%가 됨"
   ]
  }
 ],
 "metadata": {
  "kernelspec": {
   "display_name": "Python 3",
   "language": "python",
   "name": "python3"
  },
  "language_info": {
   "codemirror_mode": {
    "name": "ipython",
    "version": 3
   },
   "file_extension": ".py",
   "mimetype": "text/x-python",
   "name": "python",
   "nbconvert_exporter": "python",
   "pygments_lexer": "ipython3",
   "version": "3.8.8"
  },
  "toc": {
   "base_numbering": 1,
   "nav_menu": {},
   "number_sections": true,
   "sideBar": true,
   "skip_h1_title": false,
   "title_cell": "Table of Contents",
   "title_sidebar": "Contents",
   "toc_cell": false,
   "toc_position": {},
   "toc_section_display": true,
   "toc_window_display": true
  }
 },
 "nbformat": 4,
 "nbformat_minor": 5
}
