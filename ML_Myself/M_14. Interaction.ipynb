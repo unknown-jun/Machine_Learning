{
 "cells": [
  {
   "cell_type": "markdown",
   "id": "5bdd3121",
   "metadata": {},
   "source": [
    "# 교호작용(상호작용: interaction)\n",
    "- 설명변수끼리의 상호작용을 고려해 상호곱 변수 생성, 그 중 의미 있는 변수를 추출하기 위함\n",
    "- 적은 설명변수로 많은 설명변수로의 확장 가능(설명변수 추가 없이)\n",
    "- 초기 변수 연구 단계에서 고려되는 기법\n",
    "- 대체적으로 2변수 결합이 가장 많음  \n",
    "```\n",
    "예제1 )\n",
    "x1, x2, x3\n",
    "1) 2차항 고려: x1^2, x2^2, x3^2, x1x2, x1x3, x2x3\n",
    "2) 3차항 고려: x1^2, x2^2, x3^2, x1x2, x1x3, x2x3\n",
    "              x1^3, x2^3, x3^3, x1^2x2, ... , x2x3^2, x1x2x3\n",
    "예제2 ) 게임 이탈 예측\n",
    "게임 회사 신규게임에 대한 이탈 요인/여부 예측 필요\n",
    "킬수 모델에 적용   ->   변수를 변형하여 모델에 적용   ->  예측력이 올라감\n",
    "                  (게임 수 대비 킬수, 시간수 대비 킬수)\n",
    "```\n",
    "\n",
    "> Interaction: Iris data"
   ]
  },
  {
   "cell_type": "code",
   "execution_count": 23,
   "id": "c91b7ea1",
   "metadata": {},
   "outputs": [],
   "source": [
    "# tree boundary를 그리게 하는 함수 생성\n",
    "def visualize_boundary(estimator, X, y):\n",
    "    import matplotlib.pyplot as plt\n",
    "    from sklearn.metrics import accuracy_score\n",
    "    import numpy as np\n",
    "    \n",
    "    estimator.fit(X, y)\n",
    "    fig, ax = plt.subplots(figsize=(12, 6))\n",
    "    ax.scatter(X[:,0], X[:,1], c=y, cmap='rainbow', edgecolor='k', s=20, zorder=3);\n",
    "    ax.axis('tight')\n",
    "    ax.axis('off')\n",
    "    \n",
    "    estimator.fit(X, y)\n",
    "    \n",
    "    xlim_start , xlim_end = ax.get_xlim()\n",
    "    ylim_start , ylim_end = ax.get_ylim()        \n",
    "    \n",
    "    xx, yy = np.meshgrid( np.arange(xlim_start, xlim_end, 0.02),\n",
    "                          np.arange(ylim_start, ylim_end, 0.02))\n",
    "    \n",
    "    Z = estimator.predict(np.c_[xx.ravel(), yy.ravel()])\n",
    "    Z = Z.reshape(xx.shape)\n",
    "\n",
    "    ax.contourf(xx, yy, Z, alpha=0.5,\n",
    "                           levels=np.arange(len(np.unique(y)) + 1) - 0.5,\n",
    "                           cmap='rainbow');"
   ]
  },
  {
   "cell_type": "code",
   "execution_count": 5,
   "id": "06d2e4aa",
   "metadata": {},
   "outputs": [
    {
     "data": {
      "text/plain": [
       "['1',\n",
       " 'x0',\n",
       " 'x1',\n",
       " 'x2',\n",
       " 'x3',\n",
       " 'x0^2',\n",
       " 'x0 x1',\n",
       " 'x0 x2',\n",
       " 'x0 x3',\n",
       " 'x1^2',\n",
       " 'x1 x2',\n",
       " 'x1 x3',\n",
       " 'x2^2',\n",
       " 'x2 x3',\n",
       " 'x3^2']"
      ]
     },
     "execution_count": 5,
     "metadata": {},
     "output_type": "execute_result"
    }
   ],
   "source": [
    "from sklearn.preprocessing import PolynomialFeatures\n",
    "from sklearn.model_selection import train_test_split\n",
    "from sklearn.datasets import load_iris\n",
    "import pandas as pd\n",
    "import numpy as np\n",
    "\n",
    "# 1. 데이터 로딩 및 분리\n",
    "iris = load_iris()\n",
    "X_train, X_test, y_train, y_test = train_test_split(iris.data, iris.target, random_state=0)\n",
    "\n",
    "# 2. interaction 모델 생성\n",
    "m_poly = PolynomialFeatures(degree=2)  # 2차항 생성\n",
    "\n",
    "# 3. 모델에 데이터 학습 -> 설명변수 변환기준 찾기\n",
    "# 설명변수를 증가함: x1, x2 => x1x1, x1x2, x2x2\n",
    "m_poly.fit(X_train) \n",
    "\n",
    "# 4. 실데이터 변환(교호작용 기준에 맞게 설명변수 변환)\n",
    "train_x_poly= m_poly.transform(X_train) # x에 해당하는 값들을 변환시킴\n",
    "\n",
    "# 5. 변환된 변수 형태 확인\n",
    "m_poly.get_feature_names()"
   ]
  },
  {
   "cell_type": "code",
   "execution_count": 6,
   "id": "897cb960",
   "metadata": {},
   "outputs": [
    {
     "data": {
      "text/plain": [
       "['1',\n",
       " 'sepal length (cm)',\n",
       " 'sepal width (cm)',\n",
       " 'petal length (cm)',\n",
       " 'petal width (cm)',\n",
       " 'sepal length (cm)^2',\n",
       " 'sepal length (cm) sepal width (cm)',\n",
       " 'sepal length (cm) petal length (cm)',\n",
       " 'sepal length (cm) petal width (cm)',\n",
       " 'sepal width (cm)^2',\n",
       " 'sepal width (cm) petal length (cm)',\n",
       " 'sepal width (cm) petal width (cm)',\n",
       " 'petal length (cm)^2',\n",
       " 'petal length (cm) petal width (cm)',\n",
       " 'petal width (cm)^2']"
      ]
     },
     "execution_count": 6,
     "metadata": {},
     "output_type": "execute_result"
    }
   ],
   "source": [
    "m_poly.get_feature_names(iris.feature_names)"
   ]
  },
  {
   "cell_type": "code",
   "execution_count": 24,
   "id": "78e2142b",
   "metadata": {},
   "outputs": [
    {
     "name": "stdout",
     "output_type": "stream",
     "text": [
      "0.8947368421052632\n"
     ]
    }
   ],
   "source": [
    "# 6. 확장된 데이터셋으로 tree 모델 적용\n",
    "from sklearn.tree import DecisionTreeClassifier\n",
    "\n",
    "tree= DecisionTreeClassifier(min_samples_leaf= 5)\n",
    "tree.fit(X_train, y_train)\n",
    "print(tree.score(X_test, y_test))"
   ]
  },
  {
   "cell_type": "code",
   "execution_count": 25,
   "id": "1a596899",
   "metadata": {
    "scrolled": false
   },
   "outputs": [
    {
     "data": {
      "image/svg+xml": [
       "<?xml version=\"1.0\" encoding=\"UTF-8\" standalone=\"no\"?>\r\n",
       "<!DOCTYPE svg PUBLIC \"-//W3C//DTD SVG 1.1//EN\"\r\n",
       " \"http://www.w3.org/Graphics/SVG/1.1/DTD/svg11.dtd\">\r\n",
       "<!-- Generated by graphviz version 2.48.0 (20210717.1556)\r\n",
       " -->\r\n",
       "<!-- Title: Tree Pages: 1 -->\r\n",
       "<svg width=\"535pt\" height=\"433pt\"\r\n",
       " viewBox=\"0.00 0.00 535.00 433.00\" xmlns=\"http://www.w3.org/2000/svg\" xmlns:xlink=\"http://www.w3.org/1999/xlink\">\r\n",
       "<g id=\"graph0\" class=\"graph\" transform=\"scale(1 1) rotate(0) translate(4 429)\">\r\n",
       "<title>Tree</title>\r\n",
       "<polygon fill=\"white\" stroke=\"transparent\" points=\"-4,4 -4,-429 531,-429 531,4 -4,4\"/>\r\n",
       "<!-- 0 -->\r\n",
       "<g id=\"node1\" class=\"node\">\r\n",
       "<title>0</title>\r\n",
       "<polygon fill=\"#f8f4fe\" stroke=\"black\" points=\"264.5,-425 115.5,-425 115.5,-342 264.5,-342 264.5,-425\"/>\r\n",
       "<text text-anchor=\"middle\" x=\"190\" y=\"-409.8\" font-family=\"Times New Roman,serif\" font-size=\"14.00\">petal width (cm) &lt;= 0.8</text>\r\n",
       "<text text-anchor=\"middle\" x=\"190\" y=\"-394.8\" font-family=\"Times New Roman,serif\" font-size=\"14.00\">gini = 0.665</text>\r\n",
       "<text text-anchor=\"middle\" x=\"190\" y=\"-379.8\" font-family=\"Times New Roman,serif\" font-size=\"14.00\">samples = 112</text>\r\n",
       "<text text-anchor=\"middle\" x=\"190\" y=\"-364.8\" font-family=\"Times New Roman,serif\" font-size=\"14.00\">value = [37, 34, 41]</text>\r\n",
       "<text text-anchor=\"middle\" x=\"190\" y=\"-349.8\" font-family=\"Times New Roman,serif\" font-size=\"14.00\">class = virginica</text>\r\n",
       "</g>\r\n",
       "<!-- 1 -->\r\n",
       "<g id=\"node2\" class=\"node\">\r\n",
       "<title>1</title>\r\n",
       "<polygon fill=\"#e58139\" stroke=\"black\" points=\"170,-298.5 58,-298.5 58,-230.5 170,-230.5 170,-298.5\"/>\r\n",
       "<text text-anchor=\"middle\" x=\"114\" y=\"-283.3\" font-family=\"Times New Roman,serif\" font-size=\"14.00\">gini = 0.0</text>\r\n",
       "<text text-anchor=\"middle\" x=\"114\" y=\"-268.3\" font-family=\"Times New Roman,serif\" font-size=\"14.00\">samples = 37</text>\r\n",
       "<text text-anchor=\"middle\" x=\"114\" y=\"-253.3\" font-family=\"Times New Roman,serif\" font-size=\"14.00\">value = [37, 0, 0]</text>\r\n",
       "<text text-anchor=\"middle\" x=\"114\" y=\"-238.3\" font-family=\"Times New Roman,serif\" font-size=\"14.00\">class = setosa</text>\r\n",
       "</g>\r\n",
       "<!-- 0&#45;&gt;1 -->\r\n",
       "<g id=\"edge1\" class=\"edge\">\r\n",
       "<title>0&#45;&gt;1</title>\r\n",
       "<path fill=\"none\" stroke=\"black\" d=\"M163.63,-341.91C156.32,-330.65 148.37,-318.42 141.03,-307.11\"/>\r\n",
       "<polygon fill=\"black\" stroke=\"black\" points=\"143.93,-305.15 135.54,-298.67 138.06,-308.96 143.93,-305.15\"/>\r\n",
       "<text text-anchor=\"middle\" x=\"130.35\" y=\"-319.42\" font-family=\"Times New Roman,serif\" font-size=\"14.00\">True</text>\r\n",
       "</g>\r\n",
       "<!-- 2 -->\r\n",
       "<g id=\"node3\" class=\"node\">\r\n",
       "<title>2</title>\r\n",
       "<polygon fill=\"#e9ddfb\" stroke=\"black\" points=\"346,-306 188,-306 188,-223 346,-223 346,-306\"/>\r\n",
       "<text text-anchor=\"middle\" x=\"267\" y=\"-290.8\" font-family=\"Times New Roman,serif\" font-size=\"14.00\">petal length (cm) &lt;= 4.95</text>\r\n",
       "<text text-anchor=\"middle\" x=\"267\" y=\"-275.8\" font-family=\"Times New Roman,serif\" font-size=\"14.00\">gini = 0.496</text>\r\n",
       "<text text-anchor=\"middle\" x=\"267\" y=\"-260.8\" font-family=\"Times New Roman,serif\" font-size=\"14.00\">samples = 75</text>\r\n",
       "<text text-anchor=\"middle\" x=\"267\" y=\"-245.8\" font-family=\"Times New Roman,serif\" font-size=\"14.00\">value = [0, 34, 41]</text>\r\n",
       "<text text-anchor=\"middle\" x=\"267\" y=\"-230.8\" font-family=\"Times New Roman,serif\" font-size=\"14.00\">class = virginica</text>\r\n",
       "</g>\r\n",
       "<!-- 0&#45;&gt;2 -->\r\n",
       "<g id=\"edge2\" class=\"edge\">\r\n",
       "<title>0&#45;&gt;2</title>\r\n",
       "<path fill=\"none\" stroke=\"black\" d=\"M216.71,-341.91C222.51,-333.1 228.7,-323.7 234.68,-314.61\"/>\r\n",
       "<polygon fill=\"black\" stroke=\"black\" points=\"237.76,-316.3 240.33,-306.02 231.91,-312.45 237.76,-316.3\"/>\r\n",
       "<text text-anchor=\"middle\" x=\"245.38\" y=\"-326.81\" font-family=\"Times New Roman,serif\" font-size=\"14.00\">False</text>\r\n",
       "</g>\r\n",
       "<!-- 3 -->\r\n",
       "<g id=\"node4\" class=\"node\">\r\n",
       "<title>3</title>\r\n",
       "<polygon fill=\"#4be78c\" stroke=\"black\" points=\"258.5,-187 103.5,-187 103.5,-104 258.5,-104 258.5,-187\"/>\r\n",
       "<text text-anchor=\"middle\" x=\"181\" y=\"-171.8\" font-family=\"Times New Roman,serif\" font-size=\"14.00\">petal width (cm) &lt;= 1.55</text>\r\n",
       "<text text-anchor=\"middle\" x=\"181\" y=\"-156.8\" font-family=\"Times New Roman,serif\" font-size=\"14.00\">gini = 0.153</text>\r\n",
       "<text text-anchor=\"middle\" x=\"181\" y=\"-141.8\" font-family=\"Times New Roman,serif\" font-size=\"14.00\">samples = 36</text>\r\n",
       "<text text-anchor=\"middle\" x=\"181\" y=\"-126.8\" font-family=\"Times New Roman,serif\" font-size=\"14.00\">value = [0, 33, 3]</text>\r\n",
       "<text text-anchor=\"middle\" x=\"181\" y=\"-111.8\" font-family=\"Times New Roman,serif\" font-size=\"14.00\">class = versicolor</text>\r\n",
       "</g>\r\n",
       "<!-- 2&#45;&gt;3 -->\r\n",
       "<g id=\"edge3\" class=\"edge\">\r\n",
       "<title>2&#45;&gt;3</title>\r\n",
       "<path fill=\"none\" stroke=\"black\" d=\"M237.16,-222.91C230.63,-214.01 223.64,-204.51 216.89,-195.33\"/>\r\n",
       "<polygon fill=\"black\" stroke=\"black\" points=\"219.53,-193.01 210.78,-187.02 213.89,-197.15 219.53,-193.01\"/>\r\n",
       "</g>\r\n",
       "<!-- 6 -->\r\n",
       "<g id=\"node7\" class=\"node\">\r\n",
       "<title>6</title>\r\n",
       "<polygon fill=\"#843ee6\" stroke=\"black\" points=\"431.5,-187 276.5,-187 276.5,-104 431.5,-104 431.5,-187\"/>\r\n",
       "<text text-anchor=\"middle\" x=\"354\" y=\"-171.8\" font-family=\"Times New Roman,serif\" font-size=\"14.00\">petal width (cm) &lt;= 1.85</text>\r\n",
       "<text text-anchor=\"middle\" x=\"354\" y=\"-156.8\" font-family=\"Times New Roman,serif\" font-size=\"14.00\">gini = 0.05</text>\r\n",
       "<text text-anchor=\"middle\" x=\"354\" y=\"-141.8\" font-family=\"Times New Roman,serif\" font-size=\"14.00\">samples = 39</text>\r\n",
       "<text text-anchor=\"middle\" x=\"354\" y=\"-126.8\" font-family=\"Times New Roman,serif\" font-size=\"14.00\">value = [0, 1, 38]</text>\r\n",
       "<text text-anchor=\"middle\" x=\"354\" y=\"-111.8\" font-family=\"Times New Roman,serif\" font-size=\"14.00\">class = virginica</text>\r\n",
       "</g>\r\n",
       "<!-- 2&#45;&gt;6 -->\r\n",
       "<g id=\"edge6\" class=\"edge\">\r\n",
       "<title>2&#45;&gt;6</title>\r\n",
       "<path fill=\"none\" stroke=\"black\" d=\"M297.18,-222.91C303.86,-213.92 311.01,-204.32 317.9,-195.05\"/>\r\n",
       "<polygon fill=\"black\" stroke=\"black\" points=\"320.71,-197.13 323.87,-187.02 315.09,-192.96 320.71,-197.13\"/>\r\n",
       "</g>\r\n",
       "<!-- 4 -->\r\n",
       "<g id=\"node5\" class=\"node\">\r\n",
       "<title>4</title>\r\n",
       "<polygon fill=\"#39e581\" stroke=\"black\" points=\"116,-68 0,-68 0,0 116,0 116,-68\"/>\r\n",
       "<text text-anchor=\"middle\" x=\"58\" y=\"-52.8\" font-family=\"Times New Roman,serif\" font-size=\"14.00\">gini = 0.0</text>\r\n",
       "<text text-anchor=\"middle\" x=\"58\" y=\"-37.8\" font-family=\"Times New Roman,serif\" font-size=\"14.00\">samples = 30</text>\r\n",
       "<text text-anchor=\"middle\" x=\"58\" y=\"-22.8\" font-family=\"Times New Roman,serif\" font-size=\"14.00\">value = [0, 30, 0]</text>\r\n",
       "<text text-anchor=\"middle\" x=\"58\" y=\"-7.8\" font-family=\"Times New Roman,serif\" font-size=\"14.00\">class = versicolor</text>\r\n",
       "</g>\r\n",
       "<!-- 3&#45;&gt;4 -->\r\n",
       "<g id=\"edge4\" class=\"edge\">\r\n",
       "<title>3&#45;&gt;4</title>\r\n",
       "<path fill=\"none\" stroke=\"black\" d=\"M135.2,-103.73C124.65,-94.33 113.43,-84.35 102.92,-74.99\"/>\r\n",
       "<polygon fill=\"black\" stroke=\"black\" points=\"105.2,-72.33 95.41,-68.3 100.55,-77.56 105.2,-72.33\"/>\r\n",
       "</g>\r\n",
       "<!-- 5 -->\r\n",
       "<g id=\"node6\" class=\"node\">\r\n",
       "<title>5</title>\r\n",
       "<polygon fill=\"#ffffff\" stroke=\"black\" points=\"250,-68 134,-68 134,0 250,0 250,-68\"/>\r\n",
       "<text text-anchor=\"middle\" x=\"192\" y=\"-52.8\" font-family=\"Times New Roman,serif\" font-size=\"14.00\">gini = 0.5</text>\r\n",
       "<text text-anchor=\"middle\" x=\"192\" y=\"-37.8\" font-family=\"Times New Roman,serif\" font-size=\"14.00\">samples = 6</text>\r\n",
       "<text text-anchor=\"middle\" x=\"192\" y=\"-22.8\" font-family=\"Times New Roman,serif\" font-size=\"14.00\">value = [0, 3, 3]</text>\r\n",
       "<text text-anchor=\"middle\" x=\"192\" y=\"-7.8\" font-family=\"Times New Roman,serif\" font-size=\"14.00\">class = versicolor</text>\r\n",
       "</g>\r\n",
       "<!-- 3&#45;&gt;5 -->\r\n",
       "<g id=\"edge5\" class=\"edge\">\r\n",
       "<title>3&#45;&gt;5</title>\r\n",
       "<path fill=\"none\" stroke=\"black\" d=\"M185.1,-103.73C185.93,-95.43 186.81,-86.67 187.65,-78.28\"/>\r\n",
       "<polygon fill=\"black\" stroke=\"black\" points=\"191.14,-78.6 188.65,-68.3 184.17,-77.9 191.14,-78.6\"/>\r\n",
       "</g>\r\n",
       "<!-- 7 -->\r\n",
       "<g id=\"node8\" class=\"node\">\r\n",
       "<title>7</title>\r\n",
       "<polygon fill=\"#9152e8\" stroke=\"black\" points=\"396.5,-68 289.5,-68 289.5,0 396.5,0 396.5,-68\"/>\r\n",
       "<text text-anchor=\"middle\" x=\"343\" y=\"-52.8\" font-family=\"Times New Roman,serif\" font-size=\"14.00\">gini = 0.198</text>\r\n",
       "<text text-anchor=\"middle\" x=\"343\" y=\"-37.8\" font-family=\"Times New Roman,serif\" font-size=\"14.00\">samples = 9</text>\r\n",
       "<text text-anchor=\"middle\" x=\"343\" y=\"-22.8\" font-family=\"Times New Roman,serif\" font-size=\"14.00\">value = [0, 1, 8]</text>\r\n",
       "<text text-anchor=\"middle\" x=\"343\" y=\"-7.8\" font-family=\"Times New Roman,serif\" font-size=\"14.00\">class = virginica</text>\r\n",
       "</g>\r\n",
       "<!-- 6&#45;&gt;7 -->\r\n",
       "<g id=\"edge7\" class=\"edge\">\r\n",
       "<title>6&#45;&gt;7</title>\r\n",
       "<path fill=\"none\" stroke=\"black\" d=\"M349.9,-103.73C349.07,-95.43 348.19,-86.67 347.35,-78.28\"/>\r\n",
       "<polygon fill=\"black\" stroke=\"black\" points=\"350.83,-77.9 346.35,-68.3 343.86,-78.6 350.83,-77.9\"/>\r\n",
       "</g>\r\n",
       "<!-- 8 -->\r\n",
       "<g id=\"node9\" class=\"node\">\r\n",
       "<title>8</title>\r\n",
       "<polygon fill=\"#8139e5\" stroke=\"black\" points=\"527,-68 415,-68 415,0 527,0 527,-68\"/>\r\n",
       "<text text-anchor=\"middle\" x=\"471\" y=\"-52.8\" font-family=\"Times New Roman,serif\" font-size=\"14.00\">gini = 0.0</text>\r\n",
       "<text text-anchor=\"middle\" x=\"471\" y=\"-37.8\" font-family=\"Times New Roman,serif\" font-size=\"14.00\">samples = 30</text>\r\n",
       "<text text-anchor=\"middle\" x=\"471\" y=\"-22.8\" font-family=\"Times New Roman,serif\" font-size=\"14.00\">value = [0, 0, 30]</text>\r\n",
       "<text text-anchor=\"middle\" x=\"471\" y=\"-7.8\" font-family=\"Times New Roman,serif\" font-size=\"14.00\">class = virginica</text>\r\n",
       "</g>\r\n",
       "<!-- 6&#45;&gt;8 -->\r\n",
       "<g id=\"edge8\" class=\"edge\">\r\n",
       "<title>6&#45;&gt;8</title>\r\n",
       "<path fill=\"none\" stroke=\"black\" d=\"M397.57,-103.73C407.51,-94.42 418.06,-84.54 427.98,-75.26\"/>\r\n",
       "<polygon fill=\"black\" stroke=\"black\" points=\"430.51,-77.69 435.42,-68.3 425.73,-72.58 430.51,-77.69\"/>\r\n",
       "</g>\r\n",
       "</g>\r\n",
       "</svg>\r\n"
      ],
      "text/plain": [
       "<graphviz.files.Source at 0x1bbee1a9dc0>"
      ]
     },
     "execution_count": 25,
     "metadata": {},
     "output_type": "execute_result"
    }
   ],
   "source": [
    "# 확장하지 않은 데이터셋 시각화\n",
    "from sklearn.tree import export_graphviz\n",
    "import graphviz\n",
    "\n",
    "dot_graph= export_graphviz(tree, class_names=iris.target_names, \n",
    "               feature_names = iris.feature_names, impurity=True, filled=True)\n",
    "graphviz.Source(dot_graph)"
   ]
  },
  {
   "cell_type": "code",
   "execution_count": 36,
   "id": "3c5745f2",
   "metadata": {},
   "outputs": [
    {
     "data": {
      "image/png": "[encoded data removed]",
      "text/plain": [
       "<Figure size 864x432 with 1 Axes>"
      ]
     },
     "metadata": {
      "needs_background": "light"
     },
     "output_type": "display_data"
    }
   ],
   "source": [
    "visualize_boundary(tree, X_train[:,1:3], y_train)"
   ]
  },
  {
   "cell_type": "code",
   "execution_count": 37,
   "id": "9a2dcf63",
   "metadata": {},
   "outputs": [
    {
     "data": {
      "text/plain": [
       "0.9736842105263158"
      ]
     },
     "execution_count": 37,
     "metadata": {},
     "output_type": "execute_result"
    }
   ],
   "source": [
    "tree= DecisionTreeClassifier(min_samples_leaf= 5)\n",
    "tree.fit(train_x_poly, y_train)\n",
    "test_x_poly= m_poly.transform(X_test)    # dimention을 맞추어주기 위해 꼭 필요!\n",
    "tree.score(test_x_poly, y_test)"
   ]
  },
  {
   "cell_type": "code",
   "execution_count": 38,
   "id": "59013e8f",
   "metadata": {},
   "outputs": [
    {
     "data": {
      "image/svg+xml": [
       "<?xml version=\"1.0\" encoding=\"UTF-8\" standalone=\"no\"?>\r\n",
       "<!DOCTYPE svg PUBLIC \"-//W3C//DTD SVG 1.1//EN\"\r\n",
       " \"http://www.w3.org/Graphics/SVG/1.1/DTD/svg11.dtd\">\r\n",
       "<!-- Generated by graphviz version 2.48.0 (20210717.1556)\r\n",
       " -->\r\n",
       "<!-- Title: Tree Pages: 1 -->\r\n",
       "<svg width=\"495pt\" height=\"433pt\"\r\n",
       " viewBox=\"0.00 0.00 495.00 433.00\" xmlns=\"http://www.w3.org/2000/svg\" xmlns:xlink=\"http://www.w3.org/1999/xlink\">\r\n",
       "<g id=\"graph0\" class=\"graph\" transform=\"scale(1 1) rotate(0) translate(4 429)\">\r\n",
       "<title>Tree</title>\r\n",
       "<polygon fill=\"white\" stroke=\"transparent\" points=\"-4,4 -4,-429 491,-429 491,4 -4,4\"/>\r\n",
       "<!-- 0 -->\r\n",
       "<g id=\"node1\" class=\"node\">\r\n",
       "<title>0</title>\r\n",
       "<polygon fill=\"#f8f4fe\" stroke=\"black\" points=\"285,-425 31,-425 31,-342 285,-342 285,-425\"/>\r\n",
       "<text text-anchor=\"middle\" x=\"158\" y=\"-409.8\" font-family=\"Times New Roman,serif\" font-size=\"14.00\">sepal length (cm) petal width (cm) &lt;= 3.95</text>\r\n",
       "<text text-anchor=\"middle\" x=\"158\" y=\"-394.8\" font-family=\"Times New Roman,serif\" font-size=\"14.00\">gini = 0.665</text>\r\n",
       "<text text-anchor=\"middle\" x=\"158\" y=\"-379.8\" font-family=\"Times New Roman,serif\" font-size=\"14.00\">samples = 112</text>\r\n",
       "<text text-anchor=\"middle\" x=\"158\" y=\"-364.8\" font-family=\"Times New Roman,serif\" font-size=\"14.00\">value = [37, 34, 41]</text>\r\n",
       "<text text-anchor=\"middle\" x=\"158\" y=\"-349.8\" font-family=\"Times New Roman,serif\" font-size=\"14.00\">class = virginica</text>\r\n",
       "</g>\r\n",
       "<!-- 1 -->\r\n",
       "<g id=\"node2\" class=\"node\">\r\n",
       "<title>1</title>\r\n",
       "<polygon fill=\"#e58139\" stroke=\"black\" points=\"112,-298.5 0,-298.5 0,-230.5 112,-230.5 112,-298.5\"/>\r\n",
       "<text text-anchor=\"middle\" x=\"56\" y=\"-283.3\" font-family=\"Times New Roman,serif\" font-size=\"14.00\">gini = 0.0</text>\r\n",
       "<text text-anchor=\"middle\" x=\"56\" y=\"-268.3\" font-family=\"Times New Roman,serif\" font-size=\"14.00\">samples = 37</text>\r\n",
       "<text text-anchor=\"middle\" x=\"56\" y=\"-253.3\" font-family=\"Times New Roman,serif\" font-size=\"14.00\">value = [37, 0, 0]</text>\r\n",
       "<text text-anchor=\"middle\" x=\"56\" y=\"-238.3\" font-family=\"Times New Roman,serif\" font-size=\"14.00\">class = setosa</text>\r\n",
       "</g>\r\n",
       "<!-- 0&#45;&gt;1 -->\r\n",
       "<g id=\"edge1\" class=\"edge\">\r\n",
       "<title>0&#45;&gt;1</title>\r\n",
       "<path fill=\"none\" stroke=\"black\" d=\"M122.61,-341.91C112.61,-330.43 101.72,-317.94 91.69,-306.44\"/>\r\n",
       "<polygon fill=\"black\" stroke=\"black\" points=\"94.12,-303.9 84.91,-298.67 88.85,-308.5 94.12,-303.9\"/>\r\n",
       "<text text-anchor=\"middle\" x=\"83.21\" y=\"-319.91\" font-family=\"Times New Roman,serif\" font-size=\"14.00\">True</text>\r\n",
       "</g>\r\n",
       "<!-- 2 -->\r\n",
       "<g id=\"node3\" class=\"node\">\r\n",
       "<title>2</title>\r\n",
       "<polygon fill=\"#e9ddfb\" stroke=\"black\" points=\"389.5,-306 130.5,-306 130.5,-223 389.5,-223 389.5,-306\"/>\r\n",
       "<text text-anchor=\"middle\" x=\"260\" y=\"-290.8\" font-family=\"Times New Roman,serif\" font-size=\"14.00\">petal length (cm) petal width (cm) &lt;= 7.425</text>\r\n",
       "<text text-anchor=\"middle\" x=\"260\" y=\"-275.8\" font-family=\"Times New Roman,serif\" font-size=\"14.00\">gini = 0.496</text>\r\n",
       "<text text-anchor=\"middle\" x=\"260\" y=\"-260.8\" font-family=\"Times New Roman,serif\" font-size=\"14.00\">samples = 75</text>\r\n",
       "<text text-anchor=\"middle\" x=\"260\" y=\"-245.8\" font-family=\"Times New Roman,serif\" font-size=\"14.00\">value = [0, 34, 41]</text>\r\n",
       "<text text-anchor=\"middle\" x=\"260\" y=\"-230.8\" font-family=\"Times New Roman,serif\" font-size=\"14.00\">class = virginica</text>\r\n",
       "</g>\r\n",
       "<!-- 0&#45;&gt;2 -->\r\n",
       "<g id=\"edge2\" class=\"edge\">\r\n",
       "<title>0&#45;&gt;2</title>\r\n",
       "<path fill=\"none\" stroke=\"black\" d=\"M193.39,-341.91C201.3,-332.83 209.77,-323.12 217.92,-313.77\"/>\r\n",
       "<polygon fill=\"black\" stroke=\"black\" points=\"220.74,-315.86 224.67,-306.02 215.46,-311.26 220.74,-315.86\"/>\r\n",
       "<text text-anchor=\"middle\" x=\"226.38\" y=\"-327.26\" font-family=\"Times New Roman,serif\" font-size=\"14.00\">False</text>\r\n",
       "</g>\r\n",
       "<!-- 3 -->\r\n",
       "<g id=\"node4\" class=\"node\">\r\n",
       "<title>3</title>\r\n",
       "<polygon fill=\"#39e581\" stroke=\"black\" points=\"217,-179.5 101,-179.5 101,-111.5 217,-111.5 217,-179.5\"/>\r\n",
       "<text text-anchor=\"middle\" x=\"159\" y=\"-164.3\" font-family=\"Times New Roman,serif\" font-size=\"14.00\">gini = 0.0</text>\r\n",
       "<text text-anchor=\"middle\" x=\"159\" y=\"-149.3\" font-family=\"Times New Roman,serif\" font-size=\"14.00\">samples = 31</text>\r\n",
       "<text text-anchor=\"middle\" x=\"159\" y=\"-134.3\" font-family=\"Times New Roman,serif\" font-size=\"14.00\">value = [0, 31, 0]</text>\r\n",
       "<text text-anchor=\"middle\" x=\"159\" y=\"-119.3\" font-family=\"Times New Roman,serif\" font-size=\"14.00\">class = versicolor</text>\r\n",
       "</g>\r\n",
       "<!-- 2&#45;&gt;3 -->\r\n",
       "<g id=\"edge3\" class=\"edge\">\r\n",
       "<title>2&#45;&gt;3</title>\r\n",
       "<path fill=\"none\" stroke=\"black\" d=\"M224.96,-222.91C215.05,-211.43 204.27,-198.94 194.34,-187.44\"/>\r\n",
       "<polygon fill=\"black\" stroke=\"black\" points=\"196.82,-184.95 187.63,-179.67 191.52,-189.52 196.82,-184.95\"/>\r\n",
       "</g>\r\n",
       "<!-- 4 -->\r\n",
       "<g id=\"node5\" class=\"node\">\r\n",
       "<title>4</title>\r\n",
       "<polygon fill=\"#8a47e7\" stroke=\"black\" points=\"487,-187 235,-187 235,-104 487,-104 487,-187\"/>\r\n",
       "<text text-anchor=\"middle\" x=\"361\" y=\"-171.8\" font-family=\"Times New Roman,serif\" font-size=\"14.00\">petal length (cm) petal width (cm) &lt;= 8.73</text>\r\n",
       "<text text-anchor=\"middle\" x=\"361\" y=\"-156.8\" font-family=\"Times New Roman,serif\" font-size=\"14.00\">gini = 0.127</text>\r\n",
       "<text text-anchor=\"middle\" x=\"361\" y=\"-141.8\" font-family=\"Times New Roman,serif\" font-size=\"14.00\">samples = 44</text>\r\n",
       "<text text-anchor=\"middle\" x=\"361\" y=\"-126.8\" font-family=\"Times New Roman,serif\" font-size=\"14.00\">value = [0, 3, 41]</text>\r\n",
       "<text text-anchor=\"middle\" x=\"361\" y=\"-111.8\" font-family=\"Times New Roman,serif\" font-size=\"14.00\">class = virginica</text>\r\n",
       "</g>\r\n",
       "<!-- 2&#45;&gt;4 -->\r\n",
       "<g id=\"edge4\" class=\"edge\">\r\n",
       "<title>2&#45;&gt;4</title>\r\n",
       "<path fill=\"none\" stroke=\"black\" d=\"M295.04,-222.91C302.88,-213.83 311.26,-204.12 319.33,-194.77\"/>\r\n",
       "<polygon fill=\"black\" stroke=\"black\" points=\"322.14,-196.88 326.02,-187.02 316.84,-192.3 322.14,-196.88\"/>\r\n",
       "</g>\r\n",
       "<!-- 5 -->\r\n",
       "<g id=\"node6\" class=\"node\">\r\n",
       "<title>5</title>\r\n",
       "<polygon fill=\"#e0cef8\" stroke=\"black\" points=\"350.5,-68 243.5,-68 243.5,0 350.5,0 350.5,-68\"/>\r\n",
       "<text text-anchor=\"middle\" x=\"297\" y=\"-52.8\" font-family=\"Times New Roman,serif\" font-size=\"14.00\">gini = 0.49</text>\r\n",
       "<text text-anchor=\"middle\" x=\"297\" y=\"-37.8\" font-family=\"Times New Roman,serif\" font-size=\"14.00\">samples = 7</text>\r\n",
       "<text text-anchor=\"middle\" x=\"297\" y=\"-22.8\" font-family=\"Times New Roman,serif\" font-size=\"14.00\">value = [0, 3, 4]</text>\r\n",
       "<text text-anchor=\"middle\" x=\"297\" y=\"-7.8\" font-family=\"Times New Roman,serif\" font-size=\"14.00\">class = virginica</text>\r\n",
       "</g>\r\n",
       "<!-- 4&#45;&gt;5 -->\r\n",
       "<g id=\"edge5\" class=\"edge\">\r\n",
       "<title>4&#45;&gt;5</title>\r\n",
       "<path fill=\"none\" stroke=\"black\" d=\"M337.17,-103.73C332.1,-95.06 326.75,-85.9 321.65,-77.18\"/>\r\n",
       "<polygon fill=\"black\" stroke=\"black\" points=\"324.53,-75.17 316.46,-68.3 318.49,-78.7 324.53,-75.17\"/>\r\n",
       "</g>\r\n",
       "<!-- 6 -->\r\n",
       "<g id=\"node7\" class=\"node\">\r\n",
       "<title>6</title>\r\n",
       "<polygon fill=\"#8139e5\" stroke=\"black\" points=\"481,-68 369,-68 369,0 481,0 481,-68\"/>\r\n",
       "<text text-anchor=\"middle\" x=\"425\" y=\"-52.8\" font-family=\"Times New Roman,serif\" font-size=\"14.00\">gini = 0.0</text>\r\n",
       "<text text-anchor=\"middle\" x=\"425\" y=\"-37.8\" font-family=\"Times New Roman,serif\" font-size=\"14.00\">samples = 37</text>\r\n",
       "<text text-anchor=\"middle\" x=\"425\" y=\"-22.8\" font-family=\"Times New Roman,serif\" font-size=\"14.00\">value = [0, 0, 37]</text>\r\n",
       "<text text-anchor=\"middle\" x=\"425\" y=\"-7.8\" font-family=\"Times New Roman,serif\" font-size=\"14.00\">class = virginica</text>\r\n",
       "</g>\r\n",
       "<!-- 4&#45;&gt;6 -->\r\n",
       "<g id=\"edge6\" class=\"edge\">\r\n",
       "<title>4&#45;&gt;6</title>\r\n",
       "<path fill=\"none\" stroke=\"black\" d=\"M384.83,-103.73C389.9,-95.06 395.25,-85.9 400.35,-77.18\"/>\r\n",
       "<polygon fill=\"black\" stroke=\"black\" points=\"403.51,-78.7 405.54,-68.3 397.47,-75.17 403.51,-78.7\"/>\r\n",
       "</g>\r\n",
       "</g>\r\n",
       "</svg>\r\n"
      ],
      "text/plain": [
       "<graphviz.files.Source at 0x1bc024b03a0>"
      ]
     },
     "execution_count": 38,
     "metadata": {},
     "output_type": "execute_result"
    }
   ],
   "source": [
    "from sklearn.tree import export_graphviz\n",
    "import graphviz\n",
    "\n",
    "dot_graph= export_graphviz(tree, class_names=iris.target_names, \n",
    "               feature_names = m_poly.get_feature_names(iris.feature_names), impurity=True, filled=True)\n",
    "graphviz.Source(dot_graph)"
   ]
  },
  {
   "cell_type": "code",
   "execution_count": 39,
   "id": "8722d5a5",
   "metadata": {},
   "outputs": [
    {
     "data": {
      "image/png": "[encoded data removed]",
      "text/plain": [
       "<Figure size 864x432 with 1 Axes>"
      ]
     },
     "metadata": {
      "needs_background": "light"
     },
     "output_type": "display_data"
    }
   ],
   "source": [
    "visualize_boundary(tree, train_x_poly[:,1:3], y_train)"
   ]
  },
  {
   "cell_type": "markdown",
   "id": "e3bcb458",
   "metadata": {},
   "source": [
    "> Interaction: cancer data"
   ]
  },
  {
   "cell_type": "code",
   "execution_count": 82,
   "id": "32054ad3",
   "metadata": {},
   "outputs": [
    {
     "name": "stdout",
     "output_type": "stream",
     "text": [
      "0.972\n",
      "0.958\n"
     ]
    }
   ],
   "source": [
    "# 1. 데이터 로딩 및 분할\n",
    "from sklearn.datasets import load_breast_cancer \n",
    "cancer= load_breast_cancer()\n",
    "\n",
    "X_train, X_test, y_train, y_test= train_test_split(cancer.data, cancer.target,\n",
    "                                                   random_state=0)\n",
    "\n",
    "# 2. 2차원 추가 변수 형태 변경\n",
    "m_poly= PolynomialFeatures(degree=2)\n",
    "m_poly.fit(X_train)\n",
    "\n",
    "X_train_poly= m_poly.transform(X_train)\n",
    "X_test_poly= m_poly.transform(X_test)\n",
    "\n",
    "cancer_poly_col= m_poly.get_feature_names(cancer.feature_names) # 확장된 data set에 컬럼 이름 순차적으로 정렬\n",
    "\n",
    "# 3. 확장된 데이터셋으로 randomforest 적용\n",
    "from sklearn.ensemble import RandomForestClassifier\n",
    "\n",
    "rf_clf= RandomForestClassifier()\n",
    "rf_clf.fit(X_train, y_train)\n",
    "print(np.round(rf_clf.score(X_test, y_test), 3))\n",
    "\n",
    "rf_clf= RandomForestClassifier()\n",
    "rf_clf.fit(X_train_poly, y_train)\n",
    "print(np.round(rf_clf.score(X_test_poly, y_test), 3))\n"
   ]
  },
  {
   "cell_type": "markdown",
   "id": "84d81294",
   "metadata": {},
   "source": [
    "- 상호작용 변수를 늘린다고 무조건 더 좋아지는 것은 아니다.(overfitting 문제)\n",
    "- PCA등과 같은 차원축소 기법도 고려해야 할 데이터가 존재한다."
   ]
  }
 ],
 "metadata": {
  "kernelspec": {
   "display_name": "Python 3",
   "language": "python",
   "name": "python3"
  },
  "language_info": {
   "codemirror_mode": {
    "name": "ipython",
    "version": 3
   },
   "file_extension": ".py",
   "mimetype": "text/x-python",
   "name": "python",
   "nbconvert_exporter": "python",
   "pygments_lexer": "ipython3",
   "version": "3.8.8"
  },
  "toc": {
   "base_numbering": 1,
   "nav_menu": {},
   "number_sections": true,
   "sideBar": true,
   "skip_h1_title": false,
   "title_cell": "Table of Contents",
   "title_sidebar": "Contents",
   "toc_cell": false,
   "toc_position": {},
   "toc_section_display": true,
   "toc_window_display": false
  },
  "varInspector": {
   "cols": {
    "lenName": 16,
    "lenType": 16,
    "lenVar": 40
   },
   "kernels_config": {
    "python": {
     "delete_cmd_postfix": "",
     "delete_cmd_prefix": "del ",
     "library": "var_list.py",
     "varRefreshCmd": "print(var_dic_list())"
    },
    "r": {
     "delete_cmd_postfix": ") ",
     "delete_cmd_prefix": "rm(",
     "library": "var_list.r",
     "varRefreshCmd": "cat(var_dic_list()) "
    }
   },
   "types_to_exclude": [
    "module",
    "function",
    "builtin_function_or_method",
    "instance",
    "_Feature"
   ],
   "window_display": false
  }
 },
 "nbformat": 4,
 "nbformat_minor": 5
}
