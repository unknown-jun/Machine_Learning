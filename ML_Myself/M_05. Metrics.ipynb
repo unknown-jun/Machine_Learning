{
 "cells": [
  {
   "cell_type": "markdown",
   "id": "2ca0dc5e",
   "metadata": {},
   "source": [
    "# Classification_성능평가지표\n",
    "\n",
    "정확도가 있는데 왜 다른 평가지표도 사용하는가?  \n",
    "=> 정확도는 불균형한 레이블 값 분포에서 사용할 시, 적합한 평가지표가 아니기 때문\n",
    "\n",
    "![image](https://user-images.githubusercontent.com/70187490/128453966-c61ae49c-19a5-420c-a142-884154b7994f.png)\n",
    "\n",
    "|지표|공식|의미|\n",
    "|:-|:-|:-|\n",
    "|정확도(Accuracy)| (TN + TP) / (TN + FP + FN + TP) |예측한 값이 실제값과 일치하는 비율|\n",
    "|오류율(Error rate)| (FP + FN) / (TN + FP + FN + TP) |예측한 값이 실제값과 일치하지 않는 비율|\n",
    "|정밀도(Precision)| TP / ( TP + FP ) |예측 값 Positive 중에 Positive인 비율|\n",
    "|민감도/재현율(Sensitivity or Recall)| TP / ( FN + TP ) |실제 값 Positive 중에 Positive로 예측한 비율|\n",
    "|특이도(Specificty)| TN / ( TN + FP ) |실제 값 Negative중에 Negative로 예측한 비율|\n",
    "\n",
    "민감도(재현율)가 상대적으로 중요할 때: 실제 Positive 양성인 데이터 예측을 Negative로 잘못 판단하게 되면 업무상 큰 영향이 발생하는 경우\n",
    "- 암진단, 금융거래 사기를 판단할 경우  \n",
    "\n",
    "정밀도가 상대적으로 중요할 때: 실제 Negative 음성인 데이터 예측을 Positive 양성으로 잘못 판단하게 되면 업무상 큰 영향이 발생하는 경우\n",
    "- 스팸메일 분류"
   ]
  },
  {
   "cell_type": "code",
   "execution_count": null,
   "id": "f9a1f2e4",
   "metadata": {},
   "outputs": [],
   "source": [
    "\n"
   ]
  }
 ],
 "metadata": {
  "kernelspec": {
   "display_name": "Python 3",
   "language": "python",
   "name": "python3"
  },
  "language_info": {
   "codemirror_mode": {
    "name": "ipython",
    "version": 3
   },
   "file_extension": ".py",
   "mimetype": "text/x-python",
   "name": "python",
   "nbconvert_exporter": "python",
   "pygments_lexer": "ipython3",
   "version": "3.8.8"
  },
  "toc": {
   "base_numbering": 1,
   "nav_menu": {},
   "number_sections": true,
   "sideBar": true,
   "skip_h1_title": false,
   "title_cell": "Table of Contents",
   "title_sidebar": "Contents",
   "toc_cell": false,
   "toc_position": {},
   "toc_section_display": true,
   "toc_window_display": false
  }
 },
 "nbformat": 4,
 "nbformat_minor": 5
}
