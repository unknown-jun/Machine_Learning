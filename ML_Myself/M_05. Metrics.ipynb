{
 "cells": [
  {
   "cell_type": "markdown",
   "id": "2ca0dc5e",
   "metadata": {},
   "source": [
    "# Classification_성능평가지표\n",
    "\n",
    "정확도가 있는데 왜 다른 평가지표도 사용하는가?  \n",
    "=> 정확도는 불균형한 레이블 값 분포에서 사용할 시, 적합한 평가지표가 아니기 때문\n",
    "\n",
    "![image](https://user-images.githubusercontent.com/70187490/128453966-c61ae49c-19a5-420c-a142-884154b7994f.png)\n",
    "\n",
    "|지표|공식|의미|\n",
    "|:-|:-|:-|\n",
    "|정확도(Accuracy)| (TN + TP) / (TN + FP + FN + TP) |예측한 값이 실제값과 일치하는 비율|\n",
    "|오류율(Error rate)| (FP + FN) / (TN + FP + FN + TP) |예측한 값이 실제값과 일치하지 않는 비율|\n",
    "|정밀도(Precision)| TP / ( TP + FP ) |예측한 값 Positive 중에 Positive인 비율|\n",
    "|민감도/재현율(Sensitivity or Recall)| TP / ( FN + TP ) |실제 값 Positive 중에 Positive로 예측한 비율|\n",
    "|특이도(Specificty)| TN / ( TN + FP ) |실제 값 Negative중에 Negative로 예측한 비율|"
   ]
  },
  {
   "cell_type": "markdown",
   "id": "e08471fa",
   "metadata": {},
   "source": [
    "## 오차행렬 / 정확도/  정밀도/ 민감도"
   ]
  },
  {
   "cell_type": "code",
   "execution_count": 1,
   "id": "f9a1f2e4",
   "metadata": {
    "scrolled": true
   },
   "outputs": [
    {
     "data": {
      "text/plain": [
       "array([[462,  24],\n",
       "       [ 60, 454]], dtype=int64)"
      ]
     },
     "execution_count": 1,
     "metadata": {},
     "output_type": "execute_result"
    }
   ],
   "source": [
    "from sklearn.datasets import make_classification\n",
    "from sklearn.linear_model import LogisticRegression\n",
    "from sklearn.model_selection import train_test_split\n",
    "from sklearn.metrics import confusion_matrix\n",
    "\n",
    "X, y = make_classification(n_samples=5000, n_features=2, n_informative=2,\n",
    "                           n_redundant=0, n_clusters_per_class=1)\n",
    "\n",
    "X_train, X_test, y_train, y_test = train_test_split(X, y, \n",
    "                                                    test_size=0.2, random_state=156)\n",
    "\n",
    "model = LogisticRegression(max_iter=32)\n",
    "model.fit(X_train, y_train)\n",
    "pred=model.predict(X_test)\n",
    "\n",
    "confmat = confusion_matrix(y_test, pred)\n",
    "confmat"
   ]
  },
  {
   "cell_type": "code",
   "execution_count": 2,
   "id": "2f4291ef",
   "metadata": {},
   "outputs": [
    {
     "name": "stdout",
     "output_type": "stream",
     "text": [
      "              precision    recall  f1-score   support\n",
      "\n",
      "     Class 0       0.89      0.95      0.92       486\n",
      "     Class 1       0.95      0.88      0.92       514\n",
      "\n",
      "    accuracy                           0.92      1000\n",
      "   macro avg       0.92      0.92      0.92      1000\n",
      "weighted avg       0.92      0.92      0.92      1000\n",
      "\n",
      "정확도: 0.92\n",
      "재현률: 0.88\n",
      "정밀도: 0.95\n"
     ]
    }
   ],
   "source": [
    "from sklearn.metrics import accuracy_score, recall_score, precision_score\n",
    "from sklearn.metrics import classification_report\n",
    "import pandas as pd\n",
    "import numpy as np\n",
    "\n",
    "def classifier_report(y_test, pred):\n",
    "\n",
    "    print(classification_report(y_test, pred, target_names=['Class ' + str(i) for i in pd.unique(y_test)]))\n",
    "    print('정확도:', np.round(accuracy_score(y_test, pred), 2))\n",
    "    print('재현률:', np.round(recall_score(y_test, pred), 2))\n",
    "    print('정밀도:', np.round(precision_score(y_test, pred), 2))\n",
    "    \n",
    "classifier_report(y_test, pred)"
   ]
  },
  {
   "cell_type": "markdown",
   "id": "300d2597",
   "metadata": {},
   "source": [
    "## 오차 행렬 시각화"
   ]
  },
  {
   "cell_type": "code",
   "execution_count": 3,
   "id": "2c821cce",
   "metadata": {},
   "outputs": [
    {
     "data": {
      "image/png": "[encoded data removed]",
      "text/plain": [
       "<Figure size 180x180 with 1 Axes>"
      ]
     },
     "metadata": {
      "needs_background": "light"
     },
     "output_type": "display_data"
    }
   ],
   "source": [
    "import matplotlib.pyplot as plt\n",
    "\n",
    "def confu_mat_vi(confusion_matrix):\n",
    "    fig, ax = plt.subplots(figsize=(2.5, 2.5))\n",
    "    ax.matshow(confusion_matrix, cmap=plt.cm.Blues, alpha=0.3)\n",
    "\n",
    "    for i in range(confusion_matrix.shape[0]):\n",
    "        for j in range(confusion_matrix.shape[1]):\n",
    "            ax.text(x=j, y=i, s=confusion_matrix[i,j], va='center', ha='center', fontdict={'fontsize':15})\n",
    "\n",
    "    plt.xlabel('Predict label',fontdict={'fontsize':13}, labelpad=13)\n",
    "    plt.ylabel('True label',fontdict={'fontsize':13}, labelpad=12)\n",
    "    plt.show()\n",
    "\n",
    "confu_mat_vi(confmat)"
   ]
  },
  {
   "cell_type": "markdown",
   "id": "e57401f7",
   "metadata": {},
   "source": [
    "## 정밀도와 재현율의 관계\n",
    "정확도는 때때로 좋은 평가지표가 아니기 때문에 다른 평가지표가 필요함  \n",
    "\n",
    "재현율의 공식 = TP / (FN + TP)  \n",
    "정밀도의 공식 = TP / (FP + TP)  \n",
    "\n",
    "- 재현율과 정밀도 모두 TP를 높이는 데 동일하게 초점, 그러나\n",
    "- 재현율은 FN(실제 Positive, 예측 Negative)을 낮추는데\n",
    "- 정밀도는 FP(실제 Negative, 예측 Positive)을 낮추는데 초점\n",
    "\n",
    "민감도(재현율)가 상대적으로 중요할 때: 실제 Positive 양성인 데이터 예측을 Negative로 잘못 판단하게 되면 업무상 큰 영향이 발생하는 경우\n",
    "- 암진단, 금융거래 사기를 판단할 경우  \n",
    "\n",
    "정밀도가 상대적으로 중요할 때: 실제 Negative 음성인 데이터 예측을 Positive 양성으로 잘못 판단하게 되면 업무상 큰 영향이 발생하는 경우\n",
    "- 스팸메일 분류"
   ]
  },
  {
   "cell_type": "markdown",
   "id": "ec6d0819",
   "metadata": {},
   "source": [
    "## 정밀도와 재현율의 Trade off\n",
    "\n",
    "분류의 결정 임곗값(Threshold)을 조정해 정밀도 또는 재현율의 수치를 높일 수 있지만  \n",
    "두 수치 모두를 함께 올릴 순 없음\n",
    "\n",
    "사이킷런의 분류 알고리즘은 개별 레이블별로 결정 확률을 구하는데 이 결정확률을 조정하여  \n",
    "정밀도와 재현율의 수치를 조정할 수 있음"
   ]
  },
  {
   "cell_type": "code",
   "execution_count": 4,
   "id": "61e25a7c",
   "metadata": {},
   "outputs": [
    {
     "name": "stdout",
     "output_type": "stream",
     "text": [
      "              precision    recall  f1-score   support\n",
      "\n",
      "     Class 0       0.87      0.96      0.91       486\n",
      "     Class 1       0.96      0.87      0.91       514\n",
      "\n",
      "    accuracy                           0.91      1000\n",
      "   macro avg       0.91      0.91      0.91      1000\n",
      "weighted avg       0.92      0.91      0.91      1000\n",
      "\n",
      "정확도: 0.91\n",
      "재현률: 0.87\n",
      "정밀도: 0.96\n"
     ]
    },
    {
     "data": {
      "image/png": "[encoded data removed]",
      "text/plain": [
       "<Figure size 180x180 with 1 Axes>"
      ]
     },
     "metadata": {
      "needs_background": "light"
     },
     "output_type": "display_data"
    }
   ],
   "source": [
    "from sklearn.preprocessing import Binarizer\n",
    "\n",
    "# Binarizer의 threshold 설정값. 분류 결정 임계값임\n",
    "custom_threshold=0.56\n",
    "\n",
    "# 모델을 통해 예측한 확률을 객체화한 뒤\n",
    "pred_proba = model.predict_proba(X_test)\n",
    "pred_proba_1 = pred_proba[:,1].reshape(-1, 1)\n",
    "\n",
    "binarizer = Binarizer(threshold=custom_threshold).fit(pred_proba_1)\n",
    "custom_predict = binarizer.transform(pred_proba_1)\n",
    "\n",
    "binar_mat = confusion_matrix(y_test, custom_predict)\n",
    "\n",
    "\n",
    "classifier_report(y_test, custom_predict)\n",
    "confu_mat_vi(binar_mat)"
   ]
  },
  {
   "cell_type": "markdown",
   "id": "2825a865",
   "metadata": {},
   "source": [
    "## 정밀도와 재현율의 trade off 관계 시각화"
   ]
  },
  {
   "cell_type": "code",
   "execution_count": 5,
   "id": "411928e5",
   "metadata": {},
   "outputs": [
    {
     "data": {
      "image/png": "[encoded data removed]",
      "text/plain": [
       "<Figure size 576x432 with 1 Axes>"
      ]
     },
     "metadata": {
      "needs_background": "light"
     },
     "output_type": "display_data"
    }
   ],
   "source": [
    "def precision_recall_curve_plot(y_test, pred_proba_c1):\n",
    "    from sklearn.metrics import precision_recall_curve\n",
    "    # threshold ndarray와 이 threshold에 따른 정밀도, 재현율 ndarray 추출\n",
    "    precisions, recalls, thresholds = precision_recall_curve(y_test, pred_proba_c1)\n",
    "    # precision_recall_curve는 0.11~095 정도의 임계값과 그에 해당하는 정밀도 및 재현율 값을 담은 ndarray를 반환\n",
    "    \n",
    "    # X축을 threshold값으로, Y축은 정밀도, 재현율 값으로 각각 Plot수행. 정밀도는 점선으로 표시\n",
    "    plt.figure(figsize=(8, 6))\n",
    "    threshold_boundary = thresholds.shape[0]\n",
    "    plt.plot(thresholds, precisions[0:threshold_boundary], linestyle='--', label='precision')\n",
    "    plt.plot(thresholds, recalls[0:threshold_boundary], label='recall')\n",
    "\n",
    "    # threshold 값 X축의 Scale을 0.1 단위로 변경\n",
    "    start, end = plt.xlim()\n",
    "    plt.xticks(np.round(np.arange(start, end, 0.1), 2))\n",
    "    \n",
    "    # x축과 y축 label과 legend, 그리고 grid 설정\n",
    "    plt.xlabel('Threshold value'); plt.ylabel('Precision and Recall value')\n",
    "    plt.legend(); plt.grid()\n",
    "    plt.show()\n",
    "    \n",
    "precision_recall_curve_plot(y_test, model.predict_proba(X_test)[:,1])"
   ]
  },
  {
   "cell_type": "markdown",
   "id": "a7805eb2",
   "metadata": {},
   "source": [
    "## F1 Score\n",
    "\n",
    "정밀도가 100%가 되는 방법:  \n",
    "- 확실한 기준이 되는 경우만 Positive로 예측하고 나머지를 모두 Negative로 예측\n",
    "\n",
    "재현율이 100%가 되는 방법\n",
    "- 모든 환자를 Positive로 예측\n",
    "\n",
    "이러한 단점을 보완하여 F1 Score는 정밀도와 재현율을 결합하여 점수를 반환함  \n",
    "어느쪽으로도 치우치지 않는 수치를 나타낼 때 상대적으로 높은 값을 가짐\n",
    "\n",
    "$$f1 = \\frac{2}{\\frac{1}{recall}+\\frac{1}{precision}}=2 \\times \\frac{precision \\times recall}{precision + recall}$$\n",
    "\n"
   ]
  },
  {
   "cell_type": "code",
   "execution_count": 6,
   "id": "584df785",
   "metadata": {},
   "outputs": [
    {
     "name": "stdout",
     "output_type": "stream",
     "text": [
      "0.92\n",
      "0.99\n"
     ]
    }
   ],
   "source": [
    "from sklearn.metrics import f1_score\n",
    "\n",
    "original_f1 = f1_score(y_test, pred)\n",
    "print(np.round(original_f1, 2))\n",
    "\n",
    "tunning_f1 = f1_score(custom_predict, pred)\n",
    "print(np.round(tunning_f1, 2))"
   ]
  },
  {
   "cell_type": "markdown",
   "id": "46718e57",
   "metadata": {},
   "source": [
    "## ROC 곡선과 AUC\n",
    "- ROC 곡선은 FPR(False Positive Rate)이 변할 때 TPR(True Positive Rate)이 어떻게 변하는지 나타내는 곡선\n",
    "    - TPR는 재현율(TP / FN + TP)\n",
    "    - FPR은 1-TNR(특이도 = TN / FP + TN)\n",
    "    - ROC 곡선이 가운데 직선에 가까울수록 성능이 떨어지는 것이며\n",
    "    - 곡선이 가운데에서 멀어질 수록 성능이 뛰어난 모델\n",
    "- ROC 곡선은 FPR을 0부터 1까지 변경(분류 결정 임곗값을 변경)하면서 TPR의 변화량을 구함\n",
    "\n",
    "<br>\n",
    "\n",
    "- AUC(Area Under Curve)값은 ROC 곡선 밑의 면적을 구한 것으로서 일반적으로 1에 가까울수록 좋은 수치\n",
    "- AUC 수치가 커지려면 FPR이 작은 상태에서 얼마나 큰 TPR을 얻을 수 있느냐가 관건"
   ]
  },
  {
   "cell_type": "code",
   "execution_count": 29,
   "id": "f837f01b",
   "metadata": {},
   "outputs": [
    {
     "data": {
      "image/png": "[encoded data removed]",
      "text/plain": [
       "<Figure size 648x504 with 1 Axes>"
      ]
     },
     "metadata": {
      "needs_background": "light"
     },
     "output_type": "display_data"
    }
   ],
   "source": [
    "from sklearn.metrics import roc_curve\n",
    "\n",
    "def roc_curve_plot(y_test, pred_proba_c1):\n",
    "    plt.figure(figsize=(9, 7))\n",
    "    # 임곗값에 따른 FPR, TPR 값을 반환받음\n",
    "    fprs, tprs, thresholds = roc_curve(y_test, pred_proba_c1)\n",
    "    # ROC 곡선을 그래프 곡선으로 그림\n",
    "    plt.plot(fprs, tprs, label='ROC')\n",
    "    # 가운데 대각선 직선을 그림\n",
    "    plt.plot([0, 1], [0, 1], 'k--', label='Random')\n",
    "    \n",
    "    # FPR X 축의 Scale을 0.1 단위로 변경, X, Y축 명 설정 등\n",
    "    start, end = plt.xlim()\n",
    "    plt.xticks(np.round(np.arange(start, end, 0.1), 2))\n",
    "    plt.xlim(-0.01, 1)\n",
    "    plt.ylim(0, 1.01)\n",
    "    plt.xlabel('FPR ( 1- Sensitivity )', fontsize=15, labelpad=5)\n",
    "    plt.ylabel('TPR ( Recall )', fontsize=15, labelpad=5)\n",
    "    plt.legend(fontsize=13)\n",
    "    \n",
    "roc_curve_plot(y_test, pred_proba[:,1])"
   ]
  }
 ],
 "metadata": {
  "kernelspec": {
   "display_name": "Python 3",
   "language": "python",
   "name": "python3"
  },
  "language_info": {
   "codemirror_mode": {
    "name": "ipython",
    "version": 3
   },
   "file_extension": ".py",
   "mimetype": "text/x-python",
   "name": "python",
   "nbconvert_exporter": "python",
   "pygments_lexer": "ipython3",
   "version": "3.8.8"
  },
  "toc": {
   "base_numbering": 1,
   "nav_menu": {},
   "number_sections": true,
   "sideBar": true,
   "skip_h1_title": false,
   "title_cell": "Table of Contents",
   "title_sidebar": "Contents",
   "toc_cell": false,
   "toc_position": {},
   "toc_section_display": true,
   "toc_window_display": true
  },
  "varInspector": {
   "cols": {
    "lenName": 16,
    "lenType": 16,
    "lenVar": 40
   },
   "kernels_config": {
    "python": {
     "delete_cmd_postfix": "",
     "delete_cmd_prefix": "del ",
     "library": "var_list.py",
     "varRefreshCmd": "print(var_dic_list())"
    },
    "r": {
     "delete_cmd_postfix": ") ",
     "delete_cmd_prefix": "rm(",
     "library": "var_list.r",
     "varRefreshCmd": "cat(var_dic_list()) "
    }
   },
   "types_to_exclude": [
    "module",
    "function",
    "builtin_function_or_method",
    "instance",
    "_Feature"
   ],
   "window_display": false
  }
 },
 "nbformat": 4,
 "nbformat_minor": 5
}
