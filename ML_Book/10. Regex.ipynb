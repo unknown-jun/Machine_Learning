{
 "cells": [
  {
   "cell_type": "markdown",
   "id": "84daec8a",
   "metadata": {},
   "source": [
    "# 정규표현식\n",
    "## 암호 유효성 검사\n",
    "- 암호의 유효성을 검사하는 isPassword함수를 만들기\n",
    "- 암호 유효성 검사 규칙은 다음과 같다\n",
    "    - 총 길이는 10글자 이상이어야 한다,\n",
    "    - 1개 이상의 숫자, 영문 대문자, 영문 소문자가 포함되어 있어야 한다\n",
    "    - !@#$%^&*() 문자중 1개 이상의 특수 문자를 포함해야 한다\n",
    "    - verify( ) 함수는 isPassword의 결과에 따른 출력을 하는 함수로 제공됨"
   ]
  },
  {
   "cell_type": "code",
   "execution_count": 1,
   "id": "542eba26",
   "metadata": {},
   "outputs": [],
   "source": [
    "# 정규식을 사용하지 않은 코드\n",
    "\n",
    "# 특정 특수 문자인지 확인하는 함수\n",
    "def isspecial(ch):\n",
    "    if ch in '!@#$%^&*()':\n",
    "        return ch\n",
    "    \n",
    "# 암호 유효성 검사 함수\n",
    "def isPassword_1(pw):\n",
    "    if len(pw) < 10:\n",
    "        return False\n",
    "    check = [False] * 4\n",
    "    for ch in pw:\n",
    "        if ch.islower()   : check[0] = [True]\n",
    "        if ch.isupper()   : check[1] = [True]\n",
    "        if ch.isdecimal() : check[2] = [True]\n",
    "        if isspecial(ch)  : check[3] = [True]\n",
    "        if all(check)     : return True\n",
    "    return False"
   ]
  },
  {
   "cell_type": "code",
   "execution_count": 2,
   "id": "6d4e8896",
   "metadata": {},
   "outputs": [],
   "source": [
    "# 정규식을 사용한 코드\n",
    "import re\n",
    "\n",
    "# 암호 유효성 검사 함수\n",
    "def isPassword_2(pw):\n",
    "    if len(pw) < 10 : return False\n",
    "    rules = ( r'[0-9]+', r'[a-z]+', r'[A-Z]+', r'[~!@#$%^&*]+') \n",
    "    # []은 문자열을 뜻함 \n",
    "    # r'[0-9]+ 문자열 중에 0에서 9까지의 수가 하나 이상 반복\n",
    "    # r'[a-z]+ 문자열 중에서 알파벳이 a부터 z까지 하나 이상 반복\n",
    "    # r'[~!@#$%^&*()]+' 특수문자'\n",
    "    for rule in rules:\n",
    "        if not re.search(rule, pw):return False\n",
    "    return True"
   ]
  },
  {
   "cell_type": "code",
   "execution_count": 3,
   "id": "5a818cab",
   "metadata": {},
   "outputs": [
    {
     "name": "stdout",
     "output_type": "stream",
     "text": [
      "asbdJKL12**  - Correct\n",
      "123jkKL*     - Wrong\n",
      "ajkdk123kjKL - Wrong\n",
      "ABC123*^5D   - Wrong\n"
     ]
    }
   ],
   "source": [
    "isPassword = isPassword_2\n",
    "\n",
    "pwlist = ['asbdJKL12**', '123jkKL*', 'ajkdk123kjKL', 'ABC123*^5D']\n",
    "maxLen = max( len(x) for x in pwlist )\n",
    "def verity(pw) :\n",
    "    return f'{pw:<{maxLen}} - {\"Correct\" if isPassword(pw) else \"Wrong\"}'\n",
    "\n",
    "print('\\n'.join( verity(pw) for pw in pwlist ))"
   ]
  },
  {
   "cell_type": "markdown",
   "id": "81f5f39a",
   "metadata": {},
   "source": [
    "#### Practice\n",
    "-총 길이는 10글자 이상이어야 한다,\n",
    "- 1개 이상의 숫자, 영문 대문자, 영문 소문자가 포함되어 있어야 한다\n",
    "- !@#$%^&*() 문자중 1개 이상의 특수 문자를 포함해야 한다\n",
    "- verify( ) 함수는 isPassword의 결과에 따른 출력을 하는 함수로 제공됨"
   ]
  },
  {
   "cell_type": "code",
   "execution_count": 25,
   "id": "d604bc7a",
   "metadata": {},
   "outputs": [
    {
     "name": "stdout",
     "output_type": "stream",
     "text": [
      "Correct\n",
      "Wrong\n",
      "Wrong\n",
      "Wrong\n"
     ]
    }
   ],
   "source": [
    "pwlist = ['asbdJKL12**', '123jkKL*', 'ajkdk123kjKL', 'ABC123*^5D']\n",
    "\n",
    "def CheckPassword(pw):\n",
    "    if len(pw) < 10:\n",
    "        return False\n",
    "    \n",
    "    rules = ( r'[a-z]+', r'[A-Z]+', r'[~!@#$%^&*\\(\\)]+' )\n",
    "    \n",
    "    for rule in rules:\n",
    "        if not re.search(rule, pw):\n",
    "            return False\n",
    "    return True\n",
    "\n",
    "def verify(pw):\n",
    "    return f'{\"Correct\" if CheckPassword(pw) else \"Wrong\"}'\n",
    "\n",
    "print('\\n'.join( verify(pw) for pw in pwlist ))"
   ]
  },
  {
   "cell_type": "code",
   "execution_count": 28,
   "id": "8220eeff",
   "metadata": {},
   "outputs": [
    {
     "name": "stdout",
     "output_type": "stream",
     "text": [
      "<re.Match object; span=(0, 1), match='a'>\n",
      "<re.Match object; span=(10, 14), match='zzdd'>\n"
     ]
    }
   ],
   "source": [
    "print(re.search('a','abc'))\n",
    "print(re.search('zzdd','adexzzzzeezzdd'))"
   ]
  },
  {
   "cell_type": "markdown",
   "id": "434ddac3",
   "metadata": {},
   "source": [
    "## 휴대폰 번호 유효성 검사\n",
    "- 휴대폰 번호 여부를 확인하는 isPhoneNumber 함수 검토\n",
    "- 휴대폰 번호에 사용되는 규칙\n",
    "    - 3개의 그룹의 숫자로 되어 있으며 그룹은 ‘-’로 구분\n",
    "    - 첫 번째 그룹은 3글자이며, [010, 011, 012, 016, 017, 018, 019] 중 하나를 사용함\n",
    "    - 두 번째 그룹은 3글자 또는 4글자로 되어 있음\n",
    "    - 세 번째 그룹은 4글자로 되어 있음\n",
    "    - verify()함수는 isPhoneNumber의 결과에 따른 출력을 하는 함수로 제공됨"
   ]
  },
  {
   "cell_type": "code",
   "execution_count": 4,
   "id": "f00ba5d3",
   "metadata": {},
   "outputs": [],
   "source": [
    "pno = [1, 1, 1, 0, 0, 0, 1, 1, 1, 1]\n",
    "def isPhoneNumber_T1(num):\n",
    "    if len(num) < 12 or len(num) > 13:\n",
    "        return False\n",
    "    \n",
    "    grp = num.split('-')\n",
    "    \n",
    "    if (len(grp) != 3 ):\n",
    "        return False\n",
    "    if len(grp[0]) !=3 or grp[0].isdecimal()== False:\n",
    "        return False\n",
    "    if grp[0][0:2] != '01':\n",
    "        return False\n",
    "    if not pno[int(grp[0][2])]:\n",
    "        return False\n",
    "    if len(grp[1]) < 3 or len(grp[1]) > 4 or grp[1].isdecimal() == False:\n",
    "        return False\n",
    "    if len(grp[2]) != 4 or not grp[2].isdecimal():\n",
    "        return False\n",
    "    return True"
   ]
  },
  {
   "cell_type": "code",
   "execution_count": 5,
   "id": "cfa13ad4",
   "metadata": {},
   "outputs": [],
   "source": [
    "def isPhoneNumber_T2(num):\n",
    "    if re.search(r'^01[0-26-9]-[0-9]{3,4}-[0-9]{4}$', num):\n",
    "        # ^01: 처음 시작이 01로 시작하고\n",
    "        # [0-26-9]: 다음 문자열이 0에서 2까지거나 6에서 9까지거나\n",
    "        # -[0-9]{3,4}: -다음의 문자열이 0에서 9까지의 문자가 3번이나 4번 반복되거나\n",
    "        # -[0-9]{4}$: - 다음의 문자열이 0에서 9까지 문자가 4번 반복되는 것으로 끝나는 것들을 찾아라\n",
    "        return True\n",
    "    return False"
   ]
  },
  {
   "cell_type": "code",
   "execution_count": 6,
   "id": "25cd8702",
   "metadata": {},
   "outputs": [
    {
     "name": "stdout",
     "output_type": "stream",
     "text": [
      "010-456-7892      - Correct\n",
      "010-2345-1234     - Correct\n",
      "013-123-1231      - Wrong\n",
      "012 1234 1234     - Wrong\n",
      "016-12-1234       - Wrong\n",
      "TEL: 012-123-1234 - Wrong\n",
      "017-123-1234!     - Wrong\n"
     ]
    }
   ],
   "source": [
    "isPhoneNumber = isPhoneNumber_T2\n",
    "phone_numbers = ['010-456-7892',\n",
    "                 '010-2345-1234',\n",
    "                 '013-123-1231',\n",
    "                 '012 1234 1234',\n",
    "                 '016-12-1234',\n",
    "                 'TEL: 012-123-1234',\n",
    "                 '017-123-1234!']\n",
    "\n",
    "maxLen = max( len(x) for x in phone_numbers )                 \n",
    "def verity(pn) :\n",
    "    return  f'{pn:<{maxLen}} - {\"Correct\" if isPhoneNumber(pn) else \"Wrong\"}'   \n",
    "\n",
    "answers = [ verity(pn) for pn in phone_numbers]\n",
    "print('\\n'.join(answers))"
   ]
  },
  {
   "cell_type": "markdown",
   "id": "f25752a7",
   "metadata": {},
   "source": [
    "#### Practice\n",
    "- 휴대폰 번호 여부를 확인하는 isPhoneNumber 함수 검토\n",
    "- 휴대폰 번호에 사용되는 규칙\n",
    "    - 3개의 그룹의 숫자로 되어 있으며 그룹은 ‘-’로 구분\n",
    "    - 첫 번째 그룹은 3글자이며, [010, 011, 012, 016, 017, 018, 019] 중 하나를 사용함\n",
    "    - 두 번째 그룹은 3글자 또는 4글자로 되어 있음\n",
    "    - 세 번째 그룹은 4글자로 되어 있음\n",
    "    - verify()함수는 isPhoneNumber의 결과에 따른 출력을 하는 함수로 제공됨"
   ]
  },
  {
   "cell_type": "code",
   "execution_count": 57,
   "id": "400e7d7f",
   "metadata": {},
   "outputs": [
    {
     "name": "stdout",
     "output_type": "stream",
     "text": [
      "010-456-7892 - Correct\n",
      "010-2345-1234 - Correct\n",
      "013-123-1231 - Wrong\n",
      "012 1234 1234 - Wrong\n",
      "016-12-1234 - Wrong\n",
      "TEL: 012-123-1234 - Wrong\n",
      "017-123-1234! - Wrong\n"
     ]
    }
   ],
   "source": [
    "phone_numbers = ['010-456-7892',\n",
    "                 '010-2345-1234',\n",
    "                 '013-123-1231',\n",
    "                 '012 1234 1234',\n",
    "                 '016-12-1234',\n",
    "                 'TEL: 012-123-1234',\n",
    "                 '017-123-1234!']\n",
    "\n",
    "def CheckPhone(number):\n",
    "    if re.search(r'^01[0-26-9]-[0-9]{3,4}-[0-9]{4}$', number):\n",
    "        return True\n",
    "    return False\n",
    "\n",
    "def verify(number):\n",
    "    return f'{number} - {\"Correct\" if CheckPhone(number) else \"Wrong\"}'\n",
    "\n",
    "for number in phone_numbers:\n",
    "    print( verify(number) )"
   ]
  },
  {
   "cell_type": "markdown",
   "id": "39225730",
   "metadata": {},
   "source": [
    "### 문자열에서 휴대폰 번호 검색\n",
    "- 문자열에서 휴대폰 번호를 검색 및 출력하는 코드 확인\n",
    "- 문자열은 문자와 숫자가 함께 사용되며, 여러 휴대폰 번호 포함 가능\n",
    "    - msg = 'julie 010-123-1234 peter 011-1234-1234 office 031-123-1234'\n",
    " - 휴대폰 번호에 사용되는 규칙\n",
    "    - 3개의 그룹의 숫자로 되어 있으며 그룹은 ‘-’로 구분\n",
    "    - 첫 번째 그룹은 3글자이며, [010, 011, 012, 016, 017, 018, 019] 중 하나를 사용함\n",
    "    - 두 번째 그룹은 3글자 또는 4글자로 되어 있음\n",
    "    - 세 번째 그룹은 4글자로 되어 있음"
   ]
  },
  {
   "cell_type": "code",
   "execution_count": 7,
   "id": "745c282e",
   "metadata": {},
   "outputs": [
    {
     "name": "stdout",
     "output_type": "stream",
     "text": [
      "Phone number1 : 010-123-1234\n",
      "Phone number2 : 011-1234-1234\n"
     ]
    }
   ],
   "source": [
    "msg = 'julie 010-123-1234 peter 011-1234-1234 office 031-123-1234'\n",
    "pno = [1, 1, 1, 0, 0, 0, 1, 1, 1, 1]\n",
    "\n",
    "def isPhoneNumber(num):\n",
    "    if len(num) < 12 or len(num) > 13:\n",
    "        return False\n",
    "    \n",
    "    grp = num.split('-')\n",
    "    \n",
    "    if (len(grp) != 3 ):\n",
    "        return False\n",
    "    if len(grp[0]) !=3 or grp[0].isdecimal()== False:\n",
    "        return False\n",
    "    if grp[0][0:2] != '01':\n",
    "        return False\n",
    "    if not pno[int(grp[0][2])]:\n",
    "        return False\n",
    "    if len(grp[1]) < 3 or len(grp[1]) > 4 or grp[1].isdecimal() == False:\n",
    "        return False\n",
    "    if len(grp[2]) != 4 or not grp[2].isdecimal():\n",
    "        return False\n",
    "    return True\n",
    "\n",
    "idx = 0\n",
    "for i in range(len(msg)-12):\n",
    "    phone12 = msg[i:i+12]\n",
    "    phone13 = msg[i:i+13]\n",
    "    phone = None\n",
    "    if isPhoneNumber(phone12):\n",
    "        phone = phone12\n",
    "    elif isPhoneNumber(phone13):\n",
    "        phone = phone13\n",
    "    if phone:\n",
    "        idx += 1\n",
    "        print(f'Phone number{idx} : {phone}')"
   ]
  },
  {
   "cell_type": "code",
   "execution_count": 68,
   "id": "45c53478",
   "metadata": {},
   "outputs": [
    {
     "name": "stdout",
     "output_type": "stream",
     "text": [
      "Phone number1: 010-123-1234\n",
      "Phone number2: 011-1234-1234\n"
     ]
    }
   ],
   "source": [
    "msg = 'julie 010-123-1234 peter 011-1234-1234 office 031-123-1234'\n",
    "\n",
    "r = re.finditer(r'01[0-26-9]-[0-9]{3,4}-[0-9]{4}',msg)\n",
    "for idx, m in enumerate(r, start = 1):\n",
    "    print(f'Phone number{idx}: {m.group()}')"
   ]
  },
  {
   "cell_type": "markdown",
   "id": "fb2d6d86",
   "metadata": {},
   "source": [
    "#### Practice\n",
    "- 문자열에서 휴대폰 번호를 검색 및 출력하는 코드 확인\n",
    "- 문자열은 문자와 숫자가 함께 사용되며, 여러 휴대폰 번호 포함 가능\n",
    "- msg = 'julie 010-123-1234 peter 011-1234-1234 office 031-123-1234'\n",
    "     - 휴대폰 번호에 사용되는 규칙\n",
    "        - 3개의 그룹의 숫자로 되어 있으며 그룹은 ‘-’로 구분\n",
    "        - 첫 번째 그룹은 3글자이며, [010, 011, 012, 016, 017, 018, 019] 중 하나를 사용함\n",
    "        - 두 번째 그룹은 3글자 또는 4글자로 되어 있음\n",
    "        - 세 번째 그룹은 4글자로 되어 있음"
   ]
  },
  {
   "cell_type": "code",
   "execution_count": 87,
   "id": "9d9f5195",
   "metadata": {},
   "outputs": [
    {
     "name": "stdout",
     "output_type": "stream",
     "text": [
      "Phond number1: 010-123-1234\n",
      "Phond number2: 011-1234-1234\n"
     ]
    }
   ],
   "source": [
    "msg = 'julie 010-123-1234 peter 011-1234-1234 office 031-123-1234'\n",
    "\n",
    "r = re.finditer(r'01[0-26-9]-[0-9]{3,4}-[0-9]{4}', msg)\n",
    "\n",
    "for idx, j in enumerate(r, start=1):\n",
    "    print(f'Phond number{idx}: {j.group()}')"
   ]
  },
  {
   "cell_type": "markdown",
   "id": "de570c52",
   "metadata": {},
   "source": [
    "# 정규식 패턴 작성"
   ]
  },
  {
   "cell_type": "markdown",
   "id": "8d114637",
   "metadata": {},
   "source": [
    "## 정규식의 이해\n",
    "- 문자 집합의 패턴이 일치하는지 검사하기 위해 사용하는 표현식\n",
    "- re 모듈을 import 하여야 사용할 수 있음\n",
    "- 작업의 패턴 표현\n",
    "    - 처리 하고자 하는 작업을 패턴으로 표현하는 방법\n",
    "    - 핸드폰 번호 검색: '-'로 구분된 3-(3|4)-4개의 숫자\n",
    "    - 성이 yoon인 사람: yoon으로 시작하는 문자열\n",
    "- 정규식 사용의 장점\n",
    "    - 작업을 패턴으로 표현하면 직관적인 표현이 됨\n",
    "    - 검색 대상이 큰 경우 보다 빠른 결과를 얻을 수 있음\n",
    "    - 코드의 작성 길이가 짧아짐\n",
    "   "
   ]
  },
  {
   "cell_type": "markdown",
   "id": "5626f8a0",
   "metadata": {},
   "source": [
    "## 정규식 사용법"
   ]
  },
  {
   "cell_type": "code",
   "execution_count": 9,
   "id": "2235befe",
   "metadata": {},
   "outputs": [
    {
     "name": "stdout",
     "output_type": "stream",
     "text": [
      "\n",
      "abc\n"
     ]
    }
   ],
   "source": [
    "print('\\nabc')"
   ]
  },
  {
   "cell_type": "code",
   "execution_count": 10,
   "id": "38e96201",
   "metadata": {},
   "outputs": [
    {
     "name": "stdout",
     "output_type": "stream",
     "text": [
      "\\nabc\n"
     ]
    }
   ],
   "source": [
    "print(r\"\\nabc\")"
   ]
  },
  {
   "cell_type": "code",
   "execution_count": 11,
   "id": "5ab370d5",
   "metadata": {},
   "outputs": [
    {
     "name": "stdout",
     "output_type": "stream",
     "text": [
      "<class 're.Pattern'> <class 're.Match'>\n",
      "3~6에 abc존재\n",
      "3~6에 abc존재\n",
      "3~6에 abc존재\n"
     ]
    }
   ],
   "source": [
    "pattern = re.compile(r'abc')  # raw string 패턴 문자열 -> pattern으로 객체화 시킴\n",
    "\n",
    "mc1 = re.search(pattern, '123abcd') # '123abcd' 에서 pattern의 패턴이 존재하는가?\n",
    "mc2 = re.search(r'abc', '123abcd')  # '123abcd'에서 'abc'의 패턴이 존재하는가? -> Match 객체\n",
    "mc3 = pattern.search('123abcd')\n",
    "\n",
    "print(type(pattern), type(mc1), end='\\n')\n",
    "\n",
    "for mc in mc1, mc2, mc3:\n",
    "    print(f'{mc.start()}~{mc.end()}에 {mc.group()}존재')\n"
   ]
  },
  {
   "cell_type": "markdown",
   "id": "a343c5d7",
   "metadata": {},
   "source": [
    "### Practice"
   ]
  },
  {
   "cell_type": "code",
   "execution_count": 114,
   "id": "d0e12dc6",
   "metadata": {},
   "outputs": [
    {
     "name": "stdout",
     "output_type": "stream",
     "text": [
      "3~6에 abc이 존재\n",
      "3~6에 abc이 존재\n",
      "3~6에 abc이 존재\n"
     ]
    }
   ],
   "source": [
    "# '123abcd'에서 'abc'의 패턴을 탐색하기\n",
    "\n",
    "pattern = re.compile(r'abc')\n",
    "\n",
    "mc1 = re.search(pattern, '123abcd')\n",
    "mc2 = re.search(r'abc','123abcd')\n",
    "mc3 = pattern.search('123abcd')\n",
    "\n",
    "for i in mc1, mc2, mc3:\n",
    "    print(f'{i.start()}~{i.end()}에 {i.group()}이 존재')"
   ]
  },
  {
   "cell_type": "code",
   "execution_count": 118,
   "id": "10195497",
   "metadata": {},
   "outputs": [
    {
     "name": "stdout",
     "output_type": "stream",
     "text": [
      "010-9999-1444는 알맞는 번호이며 패턴은 0~13에 있습니다.\n",
      "02-333-9999는 알맞는 번호이며 패턴은 0~11에 있습니다.\n",
      "010-1234-5678는 알맞는 번호이며 패턴은 0~13에 있습니다.\n",
      "010-9876-5432는 알맞는 번호이며 패턴은 0~13에 있습니다.\n"
     ]
    }
   ],
   "source": [
    "# 여러 번호 중에 정확한 번호만을 출력하기\n",
    "Number = ['010-9999-1444','Tel: 010-1111-2222', '02-333-9999',\n",
    "          '010-1234-567', '010-1234-5678', '010-9876-5432']\n",
    "\n",
    "pattern = re.compile(r'^[0-9]{2,3}-[0-9]{3,4}-[0-9]{4}$')\n",
    "\n",
    "for number in Number:\n",
    "    number = re.search(pattern, number)\n",
    "    if number:\n",
    "        print(f'{number.group()}는 알맞는 번호이며 패턴은 {number.start()}~{number.end()}에 있습니다.')"
   ]
  },
  {
   "cell_type": "code",
   "execution_count": 138,
   "id": "8ea0c450",
   "metadata": {},
   "outputs": [
    {
     "name": "stdout",
     "output_type": "stream",
     "text": [
      "python@mail.example.com\n",
      "python+kr@example.com\n",
      "python-dojang@example.co.kr\n",
      "python_10@example.info\n"
     ]
    }
   ],
   "source": [
    "# 이메일 주소 검사하기\n",
    "emails = ['python@mail.example.com', 'python+kr@example.com',              # 올바른 형식\n",
    "          'python-dojang@example.co.kr', 'python_10@example.info',         # 올바른 형식\n",
    "          'python.dojang@e-xample.com',                                    # 올바른 형식\n",
    "          '@example.com', 'python@example', 'python@example-com']          # 잘못된 형식\n",
    "\n",
    "pattern = re.compile(r'^[a-zA-Z+-_.]+@[a-zA-Z.]+\\.[a-z]+$')\n",
    "\n",
    "for email in emails:\n",
    "    check = re.search(pattern, email)\n",
    "    if check:\n",
    "        print(email)"
   ]
  },
  {
   "cell_type": "markdown",
   "id": "5adde489",
   "metadata": {},
   "source": [
    "## Character Class\n",
    "- character class: [ ] 내부에 문자를 나열한 것\n",
    "    - 나열된 문자 중 한 개 문자의 사용을 의미\n",
    "- 종류:\n",
    "    - [abc]: abc 중 한 개 문자\n",
    "    - [a-z]: a부터 z까지 범위의 문자 중 한 개 문자\n",
    "    - [a-zA-Z]: 알파벳 소문자, 대문자 모두 중 한 개 문자\n",
    "    - [^0-9]: ^를 사용하면 not의 의미임, 숫자를 제외한 모든 문자에서 한 개 문자\n",
    "    - [0-9]는 '1'이나 '2'와 같은 str타입이지만 의미가 숫자인 것을 말한다."
   ]
  },
  {
   "cell_type": "code",
   "execution_count": 88,
   "id": "cdc50aa7",
   "metadata": {},
   "outputs": [
    {
     "name": "stdout",
     "output_type": "stream",
     "text": [
      "2~5에 3ab존재\n"
     ]
    }
   ],
   "source": [
    "# 첫번째 글자 숫자, 두번째 글자 a/b/c 중 한 글자, 세번째 글자 c~z 사이 글자가 아닌 글자\n",
    "mc = re.search(r'[0-9][abc][^c-z]', '123abcd')\n",
    "\n",
    "if mc:\n",
    "    print(f'{mc.start()}~{mc.end()}에 {mc.group()}존재')\n",
    "else:\n",
    "    print('문자열에 패턴이 존재하지 않음')"
   ]
  },
  {
   "cell_type": "markdown",
   "id": "a280f3d9",
   "metadata": {},
   "source": [
    "### Practice"
   ]
  },
  {
   "cell_type": "code",
   "execution_count": 144,
   "id": "9eb4e8da",
   "metadata": {},
   "outputs": [
    {
     "name": "stdout",
     "output_type": "stream",
     "text": [
      "test_list에서 3번째 요소는 0에서 3까지 1ca이 존재합니다\n"
     ]
    }
   ],
   "source": [
    "# 첫번째 글자 숫자, 두번째 글자 a/b/c 중 한 글자, 세번째 글자 c~z 사이 글자가 아닌 글자\n",
    "# 어느 시작지점에서 어느 끝 지점에 어떤 패턴이 존재하는 지를 출력하시오\n",
    "\n",
    "test_list = ['123aseci', 'adx123eo', '1cazdie', '1xijdclkdn']\n",
    "\n",
    "check = re.compile(r'^[0-9][abc][^c-z]')\n",
    "\n",
    "for index, word in enumerate(test_list, start=1):\n",
    "    test = re.search(check, word)\n",
    "    if test:\n",
    "        print(f'test_list에서 {index}번째 요소는 {test.start()}에서 {test.end()}까지 {test.group()}이 존재합니다')"
   ]
  },
  {
   "cell_type": "markdown",
   "id": "8524ad04",
   "metadata": {},
   "source": [
    "## 횟수 관련 메타 문자\n",
    "- 메타문자: 특별한 용도로 사용되는 문자\n",
    "    - x*: x를 0개 이상 사용(없어도 된다)\n",
    "    - x+: x를 1개 이상 사용\n",
    "    - x?: x를 0 또는 1개 사용(없어도 되고 있으면 1번 사용된다)\n",
    "    - x{n}: x를 n개 사용\n",
    "    - x{n,k}: x를 n개 이상, k개 이하 사용"
   ]
  },
  {
   "cell_type": "code",
   "execution_count": 89,
   "id": "96bfe36a",
   "metadata": {},
   "outputs": [],
   "source": [
    "def printMatch(pstr, data):\n",
    "    print(pstr)\n",
    "    for x in data:\n",
    "        mc = re.search(pstr, x)\n",
    "        maxLen = max(len(x) for x in data)\n",
    "        if mc:\n",
    "            print(f'{x:{maxLen}} : {mc.start()}~{mc.end()}에 {mc.group()}존재함')\n",
    "        else:\n",
    "            print(f'{x:{maxLen}} : 문자열에 {pstr} 패턴이 존재하지 않음')"
   ]
  },
  {
   "cell_type": "code",
   "execution_count": 91,
   "id": "5c5abfda",
   "metadata": {},
   "outputs": [
    {
     "name": "stdout",
     "output_type": "stream",
     "text": [
      "[0-9]*\n",
      "     : 0~0에 존재함\n",
      "1    : 0~1에 1존재함\n",
      "12   : 0~2에 12존재함\n",
      "1234 : 0~4에 1234존재함\n",
      "abc  : 0~0에 존재함\n",
      "1a   : 0~1에 1존재함\n"
     ]
    }
   ],
   "source": [
    "# 숫자가 0회 이상 사용된 패턴 찾기 (Greedy)\n",
    "# Greedy: 가장 긴 문자를 반환한다.\n",
    "dataList = ('','1','12','1234','abc','1a')\n",
    "printMatch(r'[0-9]*',dataList)"
   ]
  },
  {
   "cell_type": "code",
   "execution_count": 94,
   "id": "a45144e7",
   "metadata": {
    "scrolled": true
   },
   "outputs": [
    {
     "name": "stdout",
     "output_type": "stream",
     "text": [
      "[a-z]+\n",
      "c    : 0~1에 c존재함\n",
      "ab   : 0~2에 ab존재함\n",
      "abcd : 0~4에 abcd존재함\n",
      "a12  : 0~1에 a존재함\n",
      "123  : 문자열에 [a-z]+ 패턴이 존재하지 않음\n",
      "ABC  : 문자열에 [a-z]+ 패턴이 존재하지 않음\n"
     ]
    }
   ],
   "source": [
    "# 알파벳 소문자가 1회 이상 사용된 패턴 찾기 (Greedy)\n",
    "dataList = ('c', 'ab', 'abcd', 'a12', '123', 'ABC')\n",
    "printMatch(r'[a-z]+',dataList)"
   ]
  },
  {
   "cell_type": "code",
   "execution_count": 97,
   "id": "3784fc03",
   "metadata": {},
   "outputs": [
    {
     "name": "stdout",
     "output_type": "stream",
     "text": [
      "[a-z]+?\n",
      "c    : 0~1에 c존재함\n",
      "ab   : 0~1에 a존재함\n",
      "abcd : 0~1에 a존재함\n",
      "a12  : 0~1에 a존재함\n",
      "123  : 문자열에 [a-z]+? 패턴이 존재하지 않음\n",
      "ABC  : 문자열에 [a-z]+? 패턴이 존재하지 않음\n"
     ]
    }
   ],
   "source": [
    "\n",
    "dataList = ('c', 'ab', 'abcd', 'a12', '123', 'ABC')\n",
    "printMatch(r'[a-z]+?',dataList)"
   ]
  },
  {
   "cell_type": "code",
   "execution_count": 95,
   "id": "d4ed3559",
   "metadata": {},
   "outputs": [
    {
     "name": "stdout",
     "output_type": "stream",
     "text": [
      "[A-Z]?\n",
      "    : 0~0에 존재함\n",
      "F   : 0~1에 F존재함\n",
      "AB  : 0~1에 A존재함\n",
      "1C2 : 0~0에 존재함\n",
      "123 : 0~0에 존재함\n"
     ]
    }
   ],
   "source": [
    "# 알파벳 대문자가 없거나 1회 사용된 패턴 찾기\n",
    "dataList = ('', 'F', 'AB', '1C2', '123')\n",
    "printMatch(r'[A-Z]?', dataList)"
   ]
  },
  {
   "cell_type": "code",
   "execution_count": 98,
   "id": "961a4478",
   "metadata": {},
   "outputs": [
    {
     "name": "stdout",
     "output_type": "stream",
     "text": [
      "[0-9]{3}\n",
      "123      : 0~3에 123존재함\n",
      "12345    : 0~3에 123존재함\n",
      "12       : 문자열에 [0-9]{3} 패턴이 존재하지 않음\n",
      "ab1234de : 2~5에 123존재함\n"
     ]
    }
   ],
   "source": [
    "# 숫자가 3회 연속 사용된 패턴 찾기\n",
    "dataList = ('123', '12345', '12', 'ab1234de')\n",
    "printMatch(r'[0-9]{3}', dataList)"
   ]
  },
  {
   "cell_type": "code",
   "execution_count": 99,
   "id": "9fad65b8",
   "metadata": {},
   "outputs": [
    {
     "name": "stdout",
     "output_type": "stream",
     "text": [
      "[0-9]{2,4}\n",
      "1     : 문자열에 [0-9]{2,4} 패턴이 존재하지 않음\n",
      "12    : 0~2에 12존재함\n",
      "123   : 0~3에 123존재함\n",
      "1234  : 0~4에 1234존재함\n",
      "12345 : 0~4에 1234존재함\n"
     ]
    }
   ],
   "source": [
    "# 숫자가 2회 ~ 4회 연속 사용된 패턴 찾기\n",
    "dataList = ('1', '12','123', '1234', '12345')\n",
    "printMatch(r'[0-9]{2,4}',dataList)"
   ]
  },
  {
   "cell_type": "code",
   "execution_count": 101,
   "id": "a2da4210",
   "metadata": {},
   "outputs": [
    {
     "name": "stdout",
     "output_type": "stream",
     "text": [
      "[0-9]{3,}\n",
      "12        : 문자열에 [0-9]{3,} 패턴이 존재하지 않음\n",
      "123       : 0~3에 123존재함\n",
      "1234      : 0~4에 1234존재함\n",
      "12345     : 0~5에 12345존재함\n",
      "abc1234ef : 3~7에 1234존재함\n"
     ]
    }
   ],
   "source": [
    "# 숫자가 3회 이상 연속 사용된 패턴 찾기\n",
    "dataList = ('12','123', '1234', '12345', 'abc1234ef')\n",
    "printMatch(r'[0-9]{3,}', dataList)"
   ]
  },
  {
   "cell_type": "code",
   "execution_count": 102,
   "id": "2a2d0d87",
   "metadata": {},
   "outputs": [
    {
     "name": "stdout",
     "output_type": "stream",
     "text": [
      "[0-9]{,3}\n",
      "abc   : 0~0에 존재함\n",
      "1     : 0~1에 1존재함\n",
      "12    : 0~2에 12존재함\n",
      "123   : 0~3에 123존재함\n",
      "1234  : 0~3에 123존재함\n",
      "12345 : 0~3에 123존재함\n"
     ]
    }
   ],
   "source": [
    "# 숫자가 3회 이하 연속 사용된 패턴 찾기 (0개 포함)\n",
    "dataList = ('abc', '1', '12', '123', '1234', '12345')\n",
    "printMatch(r'[0-9]{,3}', dataList)"
   ]
  },
  {
   "cell_type": "markdown",
   "id": "31d04891",
   "metadata": {},
   "source": [
    "### Practice\n",
    "- 메타문자: 특별한 용도로 사용되는 문자\n",
    "    - x*: x를 0개 이상 사용(없어도 된다)\n",
    "    - x+: x를 1개 이상 사용\n",
    "    - x?: x를 0 또는 1개 사용(없어도 되고 있으면 1번 사용된다)\n",
    "    - x{n}: x를 n개 사용\n",
    "    - x{n,k}: x를 n개 이상, k개 이하 사용"
   ]
  },
  {
   "cell_type": "code",
   "execution_count": 192,
   "id": "82991de9",
   "metadata": {},
   "outputs": [
    {
     "name": "stdout",
     "output_type": "stream",
     "text": [
      "xps은 규칙에 성립합니다.\n",
      "test은 규칙에 성립합니다.\n",
      "hi은 규칙에 성립합니다.\n",
      "xxxxxx은 규칙에 성립합니다.\n",
      "ktx은 규칙에 성립합니다.\n"
     ]
    }
   ],
   "source": [
    "test = ['xps', 'test', 'hi', 'xxxxxx', 'ktx']\n",
    "\n",
    "def ttt(strings):\n",
    "    \n",
    "    for string in strings:\n",
    "        regex = re.search(r'x?', string)\n",
    "        if regex:\n",
    "            print(f'{string}은 규칙에 성립합니다.')\n",
    "        else:\n",
    "            print(f'{string}은 규칙에 성립하지 않습니다.')\n",
    "            \n",
    "ttt(test)"
   ]
  },
  {
   "cell_type": "code",
   "execution_count": 183,
   "id": "d47d1a0b",
   "metadata": {},
   "outputs": [
    {
     "name": "stdout",
     "output_type": "stream",
     "text": [
      "xadb :1은 \"x+\"규칙에 만족하며 0~1에 규칙이 존재하며 일치하는 구간은 x입니다.\n",
      "adv은 \"x+\"규칙에 만족하지 않습니다.\n",
      "adexe :1은 \"x+\"규칙에 만족하며 3~4에 규칙이 존재하며 일치하는 구간은 x입니다.\n",
      "<re.Match object; span=(3, 4), match='x'>\n"
     ]
    }
   ],
   "source": [
    "test = ['xadb', 'adv', 'adexe']\n",
    "def tt(strings):\n",
    "    \n",
    "    for string in strings:\n",
    "        check = re.search('x+', string)\n",
    "        maxlEn = max(len(string) for string in string)\n",
    "        if check:\n",
    "            print(f'{string} :{maxlEn}은 \"x+\"규칙에 만족하며 {check.start()}~{check.end()}에 규칙이 존재하며 일치하는 규칙은 {check.group()}입니다.', end='\\n')\n",
    "        else:\n",
    "            print(f'{string}은 \"x+\"규칙에 만족하지 않습니다.', end='\\n')\n",
    "    print(check)\n",
    "tt(test)"
   ]
  },
  {
   "cell_type": "code",
   "execution_count": 175,
   "id": "5a2f40d3",
   "metadata": {},
   "outputs": [
    {
     "name": "stdout",
     "output_type": "stream",
     "text": [
      "\"ddddd\"는 \"x*\"규칙에 포함됩니다.\n"
     ]
    }
   ],
   "source": [
    "te = re.search('x*', 'ddddd')\n",
    "if te:\n",
    "    print(f'\"ddddd\"는 \"x*\"규칙에 포함됩니다.')"
   ]
  },
  {
   "cell_type": "code",
   "execution_count": 165,
   "id": "c361e01e",
   "metadata": {},
   "outputs": [
    {
     "name": "stdout",
     "output_type": "stream",
     "text": [
      "[0-9]{,3}\n",
      "abc  : 0~0에 이 존재함\n",
      "1    : 0~1에 1이 존재함\n",
      "12   : 0~2에 12이 존재함\n",
      "123  : 0~3에 123이 존재함\n",
      "1234 : 0~3에 123이 존재함\n",
      "12345: 0~3에 123이 존재함\n"
     ]
    }
   ],
   "source": [
    "def PrintMatch(pstr, tstrs):\n",
    "    print(pstr)\n",
    "    \n",
    "    for tstr in tstrs:\n",
    "        regex = re.search(pstr, tstr)\n",
    "        maxLen = max(len(tstr) for tstr in tstrs)\n",
    "        if regex:\n",
    "            print(f'{tstr:{maxLen}}: {regex.start()}~{regex.end()}에 {regex.group()}이 존재함')\n",
    "        else:\n",
    "            print(f'{tstr:{maxLen}}: 문자열에 {pstr} 패턴이 존재하지 않음')\n",
    "            \n",
    "# 숫자가 3회 이하 연속 사용된 패턴 찾기 (0개 포함)        \n",
    "tstrs = ('abc', '1', '12', '123', '1234', '12345')\n",
    "PrintMatch(r'[0-9]{,3}', tstrs)\n"
   ]
  },
  {
   "cell_type": "code",
   "execution_count": 171,
   "id": "655cb6ae",
   "metadata": {},
   "outputs": [
    {
     "name": "stdout",
     "output_type": "stream",
     "text": [
      "[0-9]{3,}\n",
      "12       : 문자열에 [0-9]{3,} 패턴이 존재하지 않음\n",
      "123      : 0~3에 123이 존재함\n",
      "1234     : 0~4에 1234이 존재함\n",
      "12345    : 0~5에 12345이 존재함\n",
      "abc1234ef: 3~7에 1234이 존재함\n"
     ]
    }
   ],
   "source": [
    "# 숫자가 3회 이상 연속 사용된 패턴 찾기\n",
    "dataList = ('12','123', '1234', '12345', 'abc1234ef')\n",
    "PrintMatch(r'[0-9]{3,}',dataList)"
   ]
  },
  {
   "cell_type": "code",
   "execution_count": 170,
   "id": "7077af95",
   "metadata": {},
   "outputs": [
    {
     "name": "stdout",
     "output_type": "stream",
     "text": [
      "[0-9]{2,4}\n",
      "1    : 문자열에 [0-9]{2,4} 패턴이 존재하지 않음\n",
      "12   : 0~2에 12이 존재함\n",
      "123  : 0~3에 123이 존재함\n",
      "1234 : 0~4에 1234이 존재함\n",
      "12345: 0~4에 1234이 존재함\n"
     ]
    }
   ],
   "source": [
    "# 숫자가 2회 ~ 4회 연속 사용된 패턴 찾기\n",
    "dataList = ('1', '12','123', '1234', '12345')\n",
    "PrintMatch(r'[0-9]{2,4}',dataList)"
   ]
  },
  {
   "cell_type": "code",
   "execution_count": 166,
   "id": "00620735",
   "metadata": {},
   "outputs": [
    {
     "name": "stdout",
     "output_type": "stream",
     "text": [
      "[0-9]{3}\n",
      "123     : 0~3에 123이 존재함\n",
      "12345   : 0~3에 123이 존재함\n",
      "12      : 문자열에 [0-9]{3} 패턴이 존재하지 않음\n",
      "ab1234de: 2~5에 123이 존재함\n"
     ]
    }
   ],
   "source": [
    "# 숫자가 3회 연속 사용된 패턴 찾기\n",
    "dataList = ('123', '12345', '12', 'ab1234de')\n",
    "PrintMatch(r'[0-9]{3}',dataList)"
   ]
  },
  {
   "cell_type": "code",
   "execution_count": 167,
   "id": "537c7d78",
   "metadata": {},
   "outputs": [
    {
     "name": "stdout",
     "output_type": "stream",
     "text": [
      "[A-Z]?\n",
      "   : 0~0에 이 존재함\n",
      "F  : 0~1에 F이 존재함\n",
      "AB : 0~1에 A이 존재함\n",
      "1C2: 0~0에 이 존재함\n",
      "123: 0~0에 이 존재함\n"
     ]
    }
   ],
   "source": [
    "# 알파벳 대문자가 없거나 1회 사용된 패턴 찾기\n",
    "dataList = ('', 'F', 'AB', '1C2', '123')\n",
    "PrintMatch(r'[A-Z]?',dataList)"
   ]
  },
  {
   "cell_type": "code",
   "execution_count": 168,
   "id": "d2a49973",
   "metadata": {},
   "outputs": [
    {
     "name": "stdout",
     "output_type": "stream",
     "text": [
      "[a-zA-z]+\n",
      "c   : 0~1에 c이 존재함\n",
      "ab  : 0~2에 ab이 존재함\n",
      "abcd: 0~4에 abcd이 존재함\n",
      "a12 : 0~1에 a이 존재함\n",
      "123 : 문자열에 [a-zA-z]+ 패턴이 존재하지 않음\n",
      "ABC : 0~3에 ABC이 존재함\n"
     ]
    }
   ],
   "source": [
    "# 알파벳 소문자가 1회 이상 사용된 패턴 찾기 (Greedy)\n",
    "dataList = ('c', 'ab', 'abcd', 'a12', '123', 'ABC')\n",
    "PrintMatch(r'[a-zA-z]+', dataList)"
   ]
  },
  {
   "cell_type": "code",
   "execution_count": 169,
   "id": "dc73e60a",
   "metadata": {},
   "outputs": [
    {
     "name": "stdout",
     "output_type": "stream",
     "text": [
      "[0-9]*\n",
      "    : 0~0에 이 존재함\n",
      "1   : 0~1에 1이 존재함\n",
      "12  : 0~2에 12이 존재함\n",
      "1234: 0~4에 1234이 존재함\n",
      "abc : 0~0에 이 존재함\n",
      "1a  : 0~1에 1이 존재함\n"
     ]
    }
   ],
   "source": [
    "# 숫자가 0회 이상 사용된 패턴 찾기 (Greedy)\n",
    "# Greedy: 가장 긴 문자를 반환한다.\n",
    "dataList = ('','1','12','1234','abc','1a')\n",
    "PrintMatch(r'[0-9]*', dataList)"
   ]
  },
  {
   "cell_type": "markdown",
   "id": "8f8e26ea",
   "metadata": {},
   "source": [
    "## 여러 가지 메타 문자\n",
    "\n",
    "- .: 문자 한 개(\\n은 제외)\n",
    "- ^x: 문자열의 시작이 x\n",
    "- x$: 문자열의 끝이 x\n",
    "- x|y: x,y 중 하나 (여러번 나열 가능)\n",
    "    - x|y|z (x, y, z 중 하나)"
   ]
  },
  {
   "cell_type": "code",
   "execution_count": 104,
   "id": "513f3e8e",
   "metadata": {},
   "outputs": [
    {
     "name": "stdout",
     "output_type": "stream",
     "text": [
      "^a..o\n",
      "a12o  : 0~4에 a12o존재함\n",
      "abco  : 0~4에 abco존재함\n",
      "aBo   : 문자열에 ^a..o 패턴이 존재하지 않음\n",
      "a123o : 문자열에 ^a..o 패턴이 존재하지 않음\n"
     ]
    }
   ],
   "source": [
    "# a로 시작하고 o로 끝나는데 사이에 2개의 문자가 있는 패턴 검색\n",
    "dataList = ('a12o','abco','aBo','a123o')\n",
    "printMatch(r'^a..o', dataList)"
   ]
  },
  {
   "cell_type": "code",
   "execution_count": 107,
   "id": "ae88de80",
   "metadata": {},
   "outputs": [
    {
     "name": "stdout",
     "output_type": "stream",
     "text": [
      "result of search .abc:  None\n",
      "result of search .abc:  <re.Match object; span=(0, 4), match='\\nabc'> \n",
      "abc\n"
     ]
    },
    {
     "data": {
      "text/plain": [
       "'\\nabc'"
      ]
     },
     "metadata": {},
     "output_type": "display_data"
    }
   ],
   "source": [
    "# \\n이 포함된 패턴을 검색하고 싶다면?\n",
    "ret = re.search('.abc','\\nabc')\n",
    "print('result of search .abc: ', ret)\n",
    "# None 값이 나오게 된다.\n",
    "\n",
    "ret = re.search('.abc','\\nabc', re.S)\n",
    "print('result of search .abc: ', ret, ret.group())\n",
    "display(ret.group())"
   ]
  },
  {
   "cell_type": "code",
   "execution_count": 108,
   "id": "0ff58a96",
   "metadata": {},
   "outputs": [
    {
     "name": "stdout",
     "output_type": "stream",
     "text": [
      "^[a-z]+\n",
      "a12    : 0~1에 a존재함\n",
      "kbs    : 0~3에 kbs존재함\n",
      "123a   : 문자열에 ^[a-z]+ 패턴이 존재하지 않음\n",
      "KBstar : 문자열에 ^[a-z]+ 패턴이 존재하지 않음\n"
     ]
    }
   ],
   "source": [
    "# 1개 이상의 알파벳 소문자로 시작되는 패턴에서 '알파벳 소문자' 검색\n",
    "dataList = ('a12','kbs','123a','KBstar')\n",
    "printMatch(r'^[a-z]+', dataList)"
   ]
  },
  {
   "cell_type": "code",
   "execution_count": 109,
   "id": "8e0746f9",
   "metadata": {},
   "outputs": [
    {
     "name": "stdout",
     "output_type": "stream",
     "text": [
      "[0-9]+$\n",
      "ab123 : 2~5에 123존재함\n",
      "UP3   : 2~3에 3존재함\n",
      "a12b  : 문자열에 [0-9]+$ 패턴이 존재하지 않음\n"
     ]
    }
   ],
   "source": [
    "# 1개 이상의 숫자로 끝나는 패턴에서 '숫자'검색\n",
    "dataList= ('ab123','UP3','a12b')\n",
    "printMatch(r'[0-9]+$', dataList)"
   ]
  },
  {
   "cell_type": "code",
   "execution_count": 110,
   "id": "36983677",
   "metadata": {},
   "outputs": [
    {
     "name": "stdout",
     "output_type": "stream",
     "text": [
      "abc|123\n",
      "abcdef : 0~3에 abc존재함\n",
      "-1234- : 1~4에 123존재함\n",
      "12431  : 문자열에 abc|123 패턴이 존재하지 않음\n",
      "axybz  : 문자열에 abc|123 패턴이 존재하지 않음\n"
     ]
    }
   ],
   "source": [
    "# abc 또는 123 패턴 찾기\n",
    "dataList = ('abcdef','-1234-','12431','axybz')\n",
    "printMatch(r'abc|123', dataList)"
   ]
  },
  {
   "cell_type": "code",
   "execution_count": 145,
   "id": "ebc577f3",
   "metadata": {},
   "outputs": [
    {
     "name": "stdout",
     "output_type": "stream",
     "text": [
      "881103-1231233 => None\n",
      "891312-1234512 => None\n",
      "1990-12-28 => None\n"
     ]
    }
   ],
   "source": []
  },
  {
   "cell_type": "markdown",
   "id": "ab00a90a",
   "metadata": {},
   "source": [
    "## 그룹 관련 메타 문자\n",
    "\n",
    "- ( x ): ( )안의 내용을 그룹화하고 내용이 캡처됨, 그룹 번호 1번부터 부여\n",
    "- \\1...\\99: 캡쳐된 그룹 1번 ~ 99번 사용\n",
    "- (?:x): 그룹으로 인정되지만, 캡처 및 그룹번호 부여되지 않음\n",
    "- ```(?P<name>x)```: ( )안의 내용을 그룹화하고 내용을 캡쳐함. 그룹의 이름을 지정\n",
    "    - 사용 시 'name'으로 사용 (예) match.group('name')\n",
    "    - 그룹 번호로도 사용할 수 있음 (위치에 따른 번호)\n",
    "- 캡처: 저장되는 것을 의미하며, 후에 그룹번호를 사용해 꺼내 사용 가능함\n",
    "- 다른 메타 문자 종류는 ```re.__doc__```를 사용하도록 한다."
   ]
  },
  {
   "cell_type": "code",
   "execution_count": null,
   "id": "0a268592",
   "metadata": {},
   "outputs": [],
   "source": [
    "# 1. 숫자 그룹 => 숫자 3글자\n",
    "# 2. 구분 기호 그룹 => : 또는 - 또는 공백 문자가 있을 수 있으며, 그룹 지정\n",
    "# 3. 그룹번호 부여하지 않은 숫자 => 숫자 3글자 또는 4글자\n",
    "# 4. 2번에서 사용된 구분 기호 => 첫 번째 구분 기호와 동일한 것을 사용함\n",
    "# 5. 이름을 pnum으로 갖는 숫자 그룹 => 숫자 4글자\n",
    "\n",
    "pattern = re.compile(r'')\n",
    "mc = re.search"
   ]
  },
  {
   "cell_type": "code",
   "execution_count": null,
   "id": "ef79b353",
   "metadata": {},
   "outputs": [],
   "source": []
  },
  {
   "cell_type": "code",
   "execution_count": null,
   "id": "c8f89945",
   "metadata": {},
   "outputs": [],
   "source": []
  },
  {
   "cell_type": "code",
   "execution_count": null,
   "id": "f60274e4",
   "metadata": {},
   "outputs": [],
   "source": []
  },
  {
   "cell_type": "code",
   "execution_count": null,
   "id": "070baf49",
   "metadata": {},
   "outputs": [],
   "source": []
  },
  {
   "cell_type": "code",
   "execution_count": null,
   "id": "2b41ffd0",
   "metadata": {},
   "outputs": [],
   "source": []
  },
  {
   "cell_type": "code",
   "execution_count": null,
   "id": "6866a8de",
   "metadata": {},
   "outputs": [],
   "source": []
  },
  {
   "cell_type": "code",
   "execution_count": null,
   "id": "0cd9494c",
   "metadata": {},
   "outputs": [],
   "source": []
  },
  {
   "cell_type": "code",
   "execution_count": null,
   "id": "985f6efc",
   "metadata": {},
   "outputs": [],
   "source": []
  },
  {
   "cell_type": "code",
   "execution_count": null,
   "id": "1f8d985b",
   "metadata": {},
   "outputs": [],
   "source": []
  },
  {
   "cell_type": "code",
   "execution_count": null,
   "id": "5e2b0b1f",
   "metadata": {},
   "outputs": [],
   "source": []
  },
  {
   "cell_type": "code",
   "execution_count": null,
   "id": "7ed11f78",
   "metadata": {},
   "outputs": [],
   "source": []
  },
  {
   "cell_type": "code",
   "execution_count": null,
   "id": "d2ca19cb",
   "metadata": {},
   "outputs": [],
   "source": []
  },
  {
   "cell_type": "code",
   "execution_count": null,
   "id": "c28792b9",
   "metadata": {},
   "outputs": [],
   "source": []
  },
  {
   "cell_type": "code",
   "execution_count": null,
   "id": "94cd3847",
   "metadata": {},
   "outputs": [],
   "source": []
  },
  {
   "cell_type": "code",
   "execution_count": null,
   "id": "2fee290b",
   "metadata": {},
   "outputs": [],
   "source": []
  },
  {
   "cell_type": "code",
   "execution_count": null,
   "id": "2033caf8",
   "metadata": {},
   "outputs": [],
   "source": []
  },
  {
   "cell_type": "code",
   "execution_count": null,
   "id": "b1f91baf",
   "metadata": {},
   "outputs": [],
   "source": []
  },
  {
   "cell_type": "code",
   "execution_count": null,
   "id": "011ebbdb",
   "metadata": {},
   "outputs": [],
   "source": []
  },
  {
   "cell_type": "code",
   "execution_count": null,
   "id": "faa945be",
   "metadata": {},
   "outputs": [],
   "source": []
  },
  {
   "cell_type": "code",
   "execution_count": null,
   "id": "524c0579",
   "metadata": {},
   "outputs": [],
   "source": []
  },
  {
   "cell_type": "code",
   "execution_count": null,
   "id": "050c53be",
   "metadata": {},
   "outputs": [],
   "source": []
  },
  {
   "cell_type": "code",
   "execution_count": null,
   "id": "c2154f70",
   "metadata": {},
   "outputs": [],
   "source": []
  },
  {
   "cell_type": "code",
   "execution_count": null,
   "id": "98f220ba",
   "metadata": {},
   "outputs": [],
   "source": []
  },
  {
   "cell_type": "code",
   "execution_count": null,
   "id": "8b199e90",
   "metadata": {},
   "outputs": [],
   "source": []
  },
  {
   "cell_type": "code",
   "execution_count": null,
   "id": "a858daf9",
   "metadata": {},
   "outputs": [],
   "source": []
  },
  {
   "cell_type": "code",
   "execution_count": null,
   "id": "778ec43b",
   "metadata": {},
   "outputs": [],
   "source": []
  },
  {
   "cell_type": "code",
   "execution_count": null,
   "id": "a8946a30",
   "metadata": {},
   "outputs": [],
   "source": []
  },
  {
   "cell_type": "code",
   "execution_count": null,
   "id": "378490e6",
   "metadata": {},
   "outputs": [],
   "source": []
  },
  {
   "cell_type": "code",
   "execution_count": null,
   "id": "9259315e",
   "metadata": {},
   "outputs": [],
   "source": []
  },
  {
   "cell_type": "code",
   "execution_count": null,
   "id": "07116c2e",
   "metadata": {},
   "outputs": [],
   "source": []
  },
  {
   "cell_type": "code",
   "execution_count": null,
   "id": "9be43302",
   "metadata": {},
   "outputs": [],
   "source": []
  },
  {
   "cell_type": "code",
   "execution_count": null,
   "id": "c067c53c",
   "metadata": {},
   "outputs": [],
   "source": []
  },
  {
   "cell_type": "code",
   "execution_count": null,
   "id": "450450f8",
   "metadata": {},
   "outputs": [],
   "source": []
  },
  {
   "cell_type": "code",
   "execution_count": null,
   "id": "a87ec72c",
   "metadata": {},
   "outputs": [],
   "source": []
  },
  {
   "cell_type": "code",
   "execution_count": null,
   "id": "47861ae4",
   "metadata": {},
   "outputs": [],
   "source": []
  },
  {
   "cell_type": "code",
   "execution_count": null,
   "id": "43e4bb26",
   "metadata": {},
   "outputs": [],
   "source": []
  },
  {
   "cell_type": "code",
   "execution_count": null,
   "id": "4b8e215f",
   "metadata": {},
   "outputs": [],
   "source": []
  },
  {
   "cell_type": "code",
   "execution_count": null,
   "id": "7b17c213",
   "metadata": {},
   "outputs": [],
   "source": []
  },
  {
   "cell_type": "code",
   "execution_count": null,
   "id": "8c1ce5a2",
   "metadata": {},
   "outputs": [],
   "source": []
  },
  {
   "cell_type": "code",
   "execution_count": null,
   "id": "e9b8da88",
   "metadata": {},
   "outputs": [],
   "source": []
  },
  {
   "cell_type": "code",
   "execution_count": null,
   "id": "8aa472f9",
   "metadata": {},
   "outputs": [],
   "source": []
  },
  {
   "cell_type": "code",
   "execution_count": null,
   "id": "d5d101ee",
   "metadata": {},
   "outputs": [],
   "source": []
  },
  {
   "cell_type": "code",
   "execution_count": null,
   "id": "cc857aff",
   "metadata": {},
   "outputs": [],
   "source": []
  },
  {
   "cell_type": "code",
   "execution_count": null,
   "id": "c3872ef8",
   "metadata": {},
   "outputs": [],
   "source": []
  },
  {
   "cell_type": "code",
   "execution_count": null,
   "id": "392a9184",
   "metadata": {},
   "outputs": [],
   "source": []
  }
 ],
 "metadata": {
  "kernelspec": {
   "display_name": "Python 3",
   "language": "python",
   "name": "python3"
  },
  "language_info": {
   "codemirror_mode": {
    "name": "ipython",
    "version": 3
   },
   "file_extension": ".py",
   "mimetype": "text/x-python",
   "name": "python",
   "nbconvert_exporter": "python",
   "pygments_lexer": "ipython3",
   "version": "3.8.8"
  },
  "toc": {
   "base_numbering": 1,
   "nav_menu": {},
   "number_sections": true,
   "sideBar": true,
   "skip_h1_title": false,
   "title_cell": "Table of Contents",
   "title_sidebar": "Contents",
   "toc_cell": false,
   "toc_position": {
    "height": "calc(100% - 180px)",
    "left": "10px",
    "top": "150px",
    "width": "384px"
   },
   "toc_section_display": true,
   "toc_window_display": true
  }
 },
 "nbformat": 4,
 "nbformat_minor": 5
}
