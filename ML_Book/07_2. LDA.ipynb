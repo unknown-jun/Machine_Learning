{
 "cells": [
  {
   "cell_type": "markdown",
   "id": "32255be0",
   "metadata": {},
   "source": [
    "# 판별 분석(Discriminant Analysis)\n",
    "**판별 분석의 정의**  \n",
    "- 두개 이상의 모집단에서 추출된 표본들이 지니고 있는 정보를 이용하여 이 표본들이 어느 모집단에서 추출된 것인지 결정해 줄 수 있는 기준을 찾는 분석법\n",
    "![image](https://user-images.githubusercontent.com/70187490/132177556-f3afba38-21eb-4b91-9f5d-391f3ea57048.png)\n",
    "- 좋은 기준 x1축(LD1)에 투영된 선형 판별 벡터는 두가지 클래스로 잘 구분해줌\n",
    "- 나쁜 기준 x2축(LD2)에 투영된 선형 판별 벡터는 클래스 판별 정보가 없어 좋은 선형 벡터가 아님  \n",
    "\n",
    "\n",
    "**판별 분석의 기초 개념**  \n",
    "- 판별 변수(Discriminant variable)\n",
    "    - 판별 변수는 어떤 집단에 속하는지 판별하기 위한 변수(X: 사람의 정보유형)로서 독립 변수 중 판별력이 높은 변수(연령, 소득, 결혼 유무가 될수 있음)를 뜻함.\n",
    "    - 판별 변수를 선택하는데 판별 기여도 외에 고려해야 할 사항은 다른 독립변수들과의 상관관계이며,상관관계가 높은 두 독립변수를 선택하는 것 보다는 \n",
    "    - 두 독립변수 중 하나를 판별 변수로 선택하고 그것과 상관관계가 적은 독립변수를 선택함으로써 효과적인 판별 함수를 만들 수 있음\n",
    "    - 예를 들어 대츨금을 반환하지 않은 사람의 정보 유형에서 연령, 소득, 직업, 결혼 유무의 feature가 존재한다면\n",
    "    - 소득/직업이 상관관계가 높고 연령/직업/결혼 유무과 같이 상관관계가 적은 독립변수라면\n",
    "    - 연령/직업/결혼 유무를 선택해야 한다.  \n",
    "- 판별 함수(Discriminant function)\n",
    "    - 판별 분석이 이용되기 위해서는 각 개체는 여러 집단 중에서 어느 집단에 속해 있는지 알려져 있어야 하며(supervised learning)\n",
    "    - 소속 집단이 이미 알려진 경우에 대하여 변수들(X)을 측정하고 \n",
    "    - 이들 변수들을 이용하여 각 잡단을 가장 잘 구분해 낼 수 있는 판별식을 만들어 분별하는 과정을 포함하게 됨\n",
    "    - 즉, 판별 함수를 이용하여 각 개체들이 소속집단에 얼마나 잘 판별되는 가에 대한 판별력을 측정하고 새로운 대상을 어느 집단으로 분류할 것이냐를 예측하는데 주요 목적이 있음\n",
    "    - LDA를 쓸 것이냐 QDA를 쓸 것이냐\n",
    "- 판별 점수(Discriminant score)\n",
    "    - 판별 점수는 어떤 대상이 어떤 집단에 속하는지 판별하기 위하여 그 대상의 판별 변수들의 값을 판별 함수에 대입하여 구한 값을 뜻함\n",
    "    - Accuracy Score, Recall, F1 score 등등\n",
    "- 표본의 크기\n",
    "    - 전체 표본의 크기는 통상적으로 독립변수의 개수보다 3배(최소 2배) 이상 되어야 함\n",
    "    - 종속 변수의 집단 각각의 표본의 크기 중 최소 크기가 독립변수의 개수보다 커야함  \n",
    "    (판별력을 좌우하는 것이 전체 표본의 수가 아니라 가장 적은 집단의 표본 수이기 때문임)  \n",
    "\n",
    "![image](https://user-images.githubusercontent.com/70187490/132180786-331b91cf-08e3-4690-87c8-3351c70a6a39.png)\n",
    "- 위의 그림에서 판별 함수는 $X_1$, $X_2$, $Z$\n",
    "- A, B를 가장 잘 나누게 하는 Z를 고르게 하는 것이 LDA\n",
    "- LDA의 판별 함수는 판별 점수의 집단 간 변동과 집단 내 변동을 최대화하는 판별 함수를 도출해야 함\n",
    "    - 클래스 간 분산은 최대한 크게 가져가고, 클래스 내부의 분산은 최대한 작게 가져가야 함\n",
    "![image](https://user-images.githubusercontent.com/70187490/132182566-ff36fa8c-b46e-4b0b-bd79-97216b7f931d.png)"
   ]
  },
  {
   "cell_type": "markdown",
   "id": "ddca8979",
   "metadata": {},
   "source": [
    "# 선형 판별 분석(Linear Discriminant Analysis) 배경\n",
    "- LDA는 특정 곤간상에서 클래스 분리를 최대화하는 축을 찾기 위해 클래스 간 분산(between-class-scatter)과 클래스 내부 분산(within-class scatter)의 비율을 최대화하는 방식으로 차원을 축소함\n",
    "\n",
    "**가정**\n",
    "- 각 클래스 집단은 **정규분포(normal distribution)**형태의 확률분포를 가짐\n",
    "- 각 클래스 집단은 **비슷한 현태의 공분산(covariance)**구조를 가짐\n",
    "    - 공분산: 2개의 확률변수의 상관 정도를 나타내는 값\n",
    "![image](https://user-images.githubusercontent.com/70187490/132182889-e843d4bb-c99a-43f0-b0cc-1b8226e604aa.png)\n",
    "![image](https://user-images.githubusercontent.com/70187490/132183547-1254ab6a-3555-447e-90b2-247841bd49b7.png)\n",
    "- LDA, QDA 모두는 판별과 차원축소의 기능을 가지고 있음\n",
    "    - 2차원 (두가지 독립변수)의 두 가지 범주(주황, 파랑)를 갖는 데이터를 분류하는 문제에서 LDA는 먼저 하나의 차원(1d)에 projection을 하여 차원을 축소시킴\n",
    "        - LDA는 차원축소의 개념을 포함함\n",
    "        - 2차원 자료들을 판별 축에 정사영 시킨 분포의 형태를 고려   \n",
    "        \n",
    "**LDA의 결정 경계(decision boundary)**\n",
    "- projection 축(실선)에 직교하는 축(점선)\n",
    "- 정사영(projection)은 두 분포의 특징이 아래의 목표를 달성해야 함\n",
    "    - 각 클래스 집단의 **평균의 차이가 큰 지점**을 결정 경계로 지정\n",
    "    - 각 클래스 집단의 **분산이 작은 지점을 결정 경계**로 지정\n",
    "    - 즉, 분산 대비 평균의 차이를 극대화하는 결정경계를 찾고자 하는 것\n",
    "    - 사영 데이터의 분포에서 겹치는 영역이 작은 결정 경계를 선택하면 됨  \n",
    "    \n",
    "    \n",
    "**LDA를 구하는 방식**  \n",
    "- 일반적으로 LDA를 구하는 스텝은 PCA와 유사하나 가장 큰 차이점은 공분산 행렬이 아니라 클래스 간 분산과 클래스 내부 분산 행렬을 생성한 뒤, 이 행렬에 기반해 고유벡터를 구하고 입력 데이터를 투영함\n",
    "    1. 클래스 내부와 클래스 간 분산 행렬을 구함. 이 두개의 행렬은 입력 데이터의 결정값 클래스 별로 개별 피처의 평균(mean vector)를 기반으로 구함\n",
    "    2. 클래스 내부 분산 행렬을 $S_W$, 클래스 간 분산 행렬을 $S_B$라고 하면 다음 식으로 두 행렬을 고유벡터로 분해할 수 있다.\n",
    "    $$S_W^TS_B^T=\\begin{bmatrix}e_1 \\ ... \\ e_n\\end{bmatrix}\\begin{bmatrix} \\lambda_1 \\ ... \\ 0 \\\\ ... \\ ... \\ ... \\\\ 0 \\ \\ ... \\ \\lambda_n\\end{bmatrix}\\begin{bmatrix}e_1^T \\ \\\\ ... \\ \\\\ e_n^T\\end{bmatrix}$$\n",
    "    3. 고유값이 가장 큰 순으로 K개(LDA 변환 차수 만큼) 추출\n",
    "    4. 고유값이 가장 큰 순으로 추출된 고유벡터를 이용해 새롭게 입력 데이터를 변환\n",
    "![image](https://user-images.githubusercontent.com/70187490/132184717-a438ec04-eeee-44bb-95b2-1c8de05201ee.png)\n",
    "\n",
    "**LDA의 장점**\n",
    "- 변수 간(x) 공분산 구조를 반영\n",
    "- 공분산 구조 가정이 살짝 위반되더라도 비교적 Robust하게 동작함  \n",
    "**LDA의 단점**\n",
    "- 가장 작은 그룹의 샘플 수가 설명변수의 개수보다 많아야 함\n",
    "- 정규분포 가정에 크게 벗어나는 경우 잘 동작하지 못함\n",
    "- 범주 사이(y)에 공분산 구조가 많이 다른 경우 반영하지 못함\n",
    "    - 이차판별분석법(QDA)를 통해 해결 가능"
   ]
  },
  {
   "cell_type": "markdown",
   "id": "fab4fb99",
   "metadata": {},
   "source": [
    "> 붓꽃 데이터 세트에 LDA 적용하기"
   ]
  },
  {
   "cell_type": "code",
   "execution_count": 1,
   "id": "6e96669a",
   "metadata": {},
   "outputs": [],
   "source": [
    "from sklearn.datasets import load_iris\n",
    "from sklearn.preprocessing import StandardScaler\n",
    "from sklearn.discriminant_analysis import LinearDiscriminantAnalysis\n",
    "\n",
    "iris = load_iris()\n",
    "iris_scaled = StandardScaler().fit_transform(iris.data)"
   ]
  },
  {
   "cell_type": "markdown",
   "id": "f18fbd7f",
   "metadata": {},
   "source": [
    "- 2 개의 컴포넌트로 붓꽃 데이터를 LDA 변환\n",
    "- LDA는 지도학습이기에 클래스의 결정값이 변환 시에 필요함"
   ]
  },
  {
   "cell_type": "code",
   "execution_count": 2,
   "id": "35aa83ed",
   "metadata": {},
   "outputs": [
    {
     "name": "stdout",
     "output_type": "stream",
     "text": [
      "(150, 2)\n"
     ]
    }
   ],
   "source": [
    "lda = LinearDiscriminantAnalysis(n_components=2)\n",
    "lda.fit(iris_scaled, iris.target)\n",
    "iris_lda = lda.transform(iris_scaled)\n",
    "print(iris_lda.shape)"
   ]
  },
  {
   "cell_type": "code",
   "execution_count": 3,
   "id": "b4fab1d2",
   "metadata": {},
   "outputs": [
    {
     "data": {
      "image/png": "[encoded data removed]",
      "text/plain": [
       "<Figure size 432x288 with 1 Axes>"
      ]
     },
     "metadata": {
      "needs_background": "light"
     },
     "output_type": "display_data"
    }
   ],
   "source": [
    "import pandas as pd\n",
    "import matplotlib.pyplot as plt\n",
    "%matplotlib inline\n",
    "\n",
    "lda_columns = ['lda_component_1','lda_component_2']\n",
    "irisDF_lda = pd.DataFrame(iris_lda, columns=lda_columns)\n",
    "irisDF_lda['target']=iris.target\n",
    "\n",
    "# 클래스별 다른 marker 사용\n",
    "markers = ['^','s','o']\n",
    "\n",
    "# setosa의 target값은 0, versicolor는 1, virginica는 2. 각 target별로 다른 모양으로 산점도로 표시\n",
    "for i, markers in enumerate(markers):\n",
    "    x_axis_data = irisDF_lda[irisDF_lda['target']==i]['lda_component_1']\n",
    "    y_axis_data = irisDF_lda[irisDF_lda['target']==i]['lda_component_2']\n",
    "    \n",
    "    plt.scatter(x_axis_data, y_axis_data, marker=markers, label=iris.target_names[i])\n",
    "    \n",
    "plt.legend(loc='upper right')\n",
    "plt.xlabel('lda_component_1')\n",
    "plt.ylabel('lda_component_2');"
   ]
  },
  {
   "cell_type": "markdown",
   "id": "290daa5a",
   "metadata": {},
   "source": [
    "분류모델 생성/평가와 시각화"
   ]
  },
  {
   "cell_type": "code",
   "execution_count": 4,
   "id": "99697b9c",
   "metadata": {},
   "outputs": [],
   "source": [
    "import seaborn as sns\n",
    "iris = sns.load_dataset('iris')\n",
    "X=iris.drop('species', axis=1)\n",
    "y=iris['species']"
   ]
  },
  {
   "cell_type": "code",
   "execution_count": 5,
   "id": "34a19853",
   "metadata": {},
   "outputs": [],
   "source": [
    "from sklearn.preprocessing import LabelEncoder\n",
    "classle=LabelEncoder()\n",
    "y=classle.fit_transform(iris['species'].values)"
   ]
  },
  {
   "cell_type": "code",
   "execution_count": 6,
   "id": "cbc7c9b7",
   "metadata": {},
   "outputs": [],
   "source": [
    "from sklearn.model_selection import train_test_split\n",
    "X_train, X_test, y_train, y_test = train_test_split(X, y, test_size=0.3, random_state=123, stratify=y)"
   ]
  },
  {
   "cell_type": "code",
   "execution_count": 7,
   "id": "9f7ea972",
   "metadata": {},
   "outputs": [],
   "source": [
    "cld = LinearDiscriminantAnalysis(n_components=2,        # n_components의 초기값은 min(n_classes-1, n_features)\n",
    "                                                        # iris 데이터는 n_class가 3이고 n_features가 5이기 때문에 이 자료에서 default 값은 1이 된다.\n",
    "                                 store_covariance=True) # covariance을 저장하여 출력이 가능하게 함\n",
    "\n",
    "cld.fit(X_train, y_train)\n",
    "y_train_pred = cld.predict(X_train)\n",
    "y_test_pred = cld.predict(X_test)"
   ]
  },
  {
   "cell_type": "code",
   "execution_count": 8,
   "id": "98d06f16",
   "metadata": {},
   "outputs": [
    {
     "name": "stdout",
     "output_type": "stream",
     "text": [
      "0.9714285714285714\n",
      "0.9777777777777777\n"
     ]
    }
   ],
   "source": [
    "from sklearn.metrics import accuracy_score\n",
    "print(accuracy_score(y_train, y_train_pred)) # train data에 대한 accuracy\n",
    "print(accuracy_score(y_test, y_test_pred)) # test data에 대한 accuracy"
   ]
  },
  {
   "cell_type": "code",
   "execution_count": 9,
   "id": "063711bc",
   "metadata": {
    "scrolled": true
   },
   "outputs": [
    {
     "data": {
      "text/plain": [
       "array([[15,  0,  0],\n",
       "       [ 0, 14,  1],\n",
       "       [ 0,  0, 15]], dtype=int64)"
      ]
     },
     "execution_count": 9,
     "metadata": {},
     "output_type": "execute_result"
    }
   ],
   "source": [
    "from sklearn.metrics import confusion_matrix\n",
    "confusion_matrix(y_test, y_test_pred)"
   ]
  },
  {
   "cell_type": "code",
   "execution_count": 10,
   "id": "04e841fe",
   "metadata": {},
   "outputs": [
    {
     "data": {
      "image/png": "[encoded data removed]",
      "text/plain": [
       "<Figure size 432x288 with 1 Axes>"
      ]
     },
     "metadata": {
      "needs_background": "light"
     },
     "output_type": "display_data"
    }
   ],
   "source": [
    "cld=LinearDiscriminantAnalysis()\n",
    "X_lda = cld.fit_transform(X_train, y_train)\n",
    "\n",
    "plt.xlabel('LD1')\n",
    "plt.ylabel('LD2')\n",
    "plt.scatter(\n",
    "            X_lda[:,0],\n",
    "            X_lda[:,1],\n",
    "            c=y_train,\n",
    "            cmap='rainbow',\n",
    "            alpha=0.7,\n",
    "            edgecolors='b');"
   ]
  },
  {
   "cell_type": "markdown",
   "id": "8c07583e",
   "metadata": {},
   "source": [
    "출처:   \n",
    "파이썬 머신러닝 완벽가이드  \n",
    "[세종대. 최유경 교수 6주차 판별분석 기계학습 Part1](https://youtu.be/geIlsP8aPvg)  "
   ]
  }
 ],
 "metadata": {
  "kernelspec": {
   "display_name": "Python 3",
   "language": "python",
   "name": "python3"
  },
  "language_info": {
   "codemirror_mode": {
    "name": "ipython",
    "version": 3
   },
   "file_extension": ".py",
   "mimetype": "text/x-python",
   "name": "python",
   "nbconvert_exporter": "python",
   "pygments_lexer": "ipython3",
   "version": "3.8.8"
  },
  "toc": {
   "base_numbering": 1,
   "nav_menu": {},
   "number_sections": true,
   "sideBar": true,
   "skip_h1_title": false,
   "title_cell": "Table of Contents",
   "title_sidebar": "Contents",
   "toc_cell": false,
   "toc_position": {},
   "toc_section_display": true,
   "toc_window_display": false
  },
  "varInspector": {
   "cols": {
    "lenName": 16,
    "lenType": 16,
    "lenVar": 40
   },
   "kernels_config": {
    "python": {
     "delete_cmd_postfix": "",
     "delete_cmd_prefix": "del ",
     "library": "var_list.py",
     "varRefreshCmd": "print(var_dic_list())"
    },
    "r": {
     "delete_cmd_postfix": ") ",
     "delete_cmd_prefix": "rm(",
     "library": "var_list.r",
     "varRefreshCmd": "cat(var_dic_list()) "
    }
   },
   "types_to_exclude": [
    "module",
    "function",
    "builtin_function_or_method",
    "instance",
    "_Feature"
   ],
   "window_display": false
  }
 },
 "nbformat": 4,
 "nbformat_minor": 5
}
