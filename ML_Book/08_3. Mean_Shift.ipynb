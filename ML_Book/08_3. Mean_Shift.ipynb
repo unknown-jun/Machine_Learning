{
 "cells": [
  {
   "cell_type": "markdown",
   "id": "14e06c6c",
   "metadata": {},
   "source": [
    "# 1. 평균 이동(Mean Shift)\n",
    "- K-means Clustering의 단점\n",
    "    - K the number of Clusters)를 사전에 정의해야 함\n",
    "    - 초기 중심점(Centroid) 설정에 따라 수렴 여부가 크게 영향을 받음\n",
    "- Mean Shift Clustering\n",
    "    - KDE(Kernel Density Estimation)을 이용하여 data point들이 density가 큰 쪽으로 이동하면서 군집화\n",
    "    - 자동으로 군집 개수(number of clusters)를 결정\n",
    "    - But, 시간이 오래 걸림\n"
   ]
  },
  {
   "cell_type": "markdown",
   "id": "b38d9ba1",
   "metadata": {},
   "source": [
    "## 1_1. Mean Shift의 main Idea: KDE\n",
    "![image](https://user-images.githubusercontent.com/70187490/132974130-2bd9ef36-8992-45f4-bffd-614f19bfb3a3.png)\n",
    "\n",
    "\n",
    "- 확률밀도함수를 구하기 위해 일반적으로 히스토그램을 사용한다\n",
    "- 하지만 히스토그램 밀도추정의 문제점은\n",
    "    - Bin의 경계에서 불연속성이 나타나며\n",
    "    - Bin의 크기에 따라 히스토그램이 달라진다.\n",
    "- 이러한 문제점을 해결하기 위해서 커널 밀도 추정(KDE: Kernel Density Estimation)이 등장"
   ]
  },
  {
   "cell_type": "markdown",
   "id": "346eafc4",
   "metadata": {},
   "source": [
    "## 1_2. KDE(Kernel Density Estimation)\n",
    "- 커널함수를 통해 어떤 변수의 PDF(Probability Density Function; 확률밀도함수)를 추정하는 방식\n",
    "- 히스토그램은 Bin을 통해 165 $\\leqslant$ x $<$170 의 등급으로 밀도수를 정하기 때문에 불연속성이 발생(어느곳은 5개, 어느곳은 0개)\n",
    "- 커널함수는 이를 부드럽게 표시하자라는 concept \n",
    "- 예측값은 나올 확률이 연속적으로 분포가 되어있다고 가정\n",
    "    - ex. 170.1cm의 예측값이 170의 등급에 속할 확률은 0.35%, 169의 등급에 확률은 0.24%\n",
    "- 이를 정규분포화시켜 확인해보자라는 것이 KDE\n",
    "![image](https://user-images.githubusercontent.com/70187490/132972886-2a06d3ed-0aa5-4bbb-a5ae-c98f1c701bed.png)\n",
    "\n",
    "$$f(x) = \\frac{1}{nh}\\sum^n_{i=1}K \\left( \\frac{x-x_i}{h} \\right)$$\n",
    "- $x_i$: 각각의 data point\n",
    "- $h$: 얼마나 관대하게 봐줄지를 설정하는 폭 (bandwidth, 대역폭) \n",
    "\n",
    "- 예측값($x$)과 data point의 차를 bandwidth로 나눈 후 위에서 구한 커널함수를 이용해 각각의 거리를 구하고\n",
    "- 이를 다 더하여 평균을 내어 그래프를 완성시킨 것이 아래의 그래프\n",
    "![image](https://user-images.githubusercontent.com/70187490/132973123-e427340b-f211-4b4e-9718-59d8b98c2f83.png)\n",
    "\n",
    "- bandwidth의 차이에 따른 그래프의 변화 (첫번째 그림은 $h=2$인 히스토그램)\n",
    "\n",
    "![image](https://user-images.githubusercontent.com/70187490/132973356-7d470ca4-6a6e-4764-92a6-b5e0746478ef.png)\n",
    "\n"
   ]
  },
  {
   "cell_type": "markdown",
   "id": "fe6cc75c",
   "metadata": {},
   "source": [
    "- Optimal Bandwidth: $h= \\left( \\frac{4 \\sigma^5}{3n} \\right)^{\\frac{1}{5}} \\approx 1.06 \\sigma n^{-1/5}$\n",
    "    - 단, $n$은 샘플 데이터의 수\n",
    "    - $\\sigma$는 샘플 데이터의 표준편차\n",
    "    - 라고 주장하는 학자도 있다.\n",
    "## 1_3. Bandwidth(h)에 따른 KDE의 변화\n",
    "![image](https://user-images.githubusercontent.com/70187490/132973458-3d969487-b62d-4460-a80f-dde20a44c952.png)\n",
    "\n",
    "- 1번 그림은 overfitting\n",
    "- 4번 그림은 underfitting\n",
    "- 적절한 h를 찾는 것이 중요하다"
   ]
  },
  {
   "cell_type": "markdown",
   "id": "4dd8dce3",
   "metadata": {},
   "source": [
    "![image](https://user-images.githubusercontent.com/70187490/132974006-dd197619-4003-4367-8341-c21611de07f4.png)"
   ]
  },
  {
   "cell_type": "code",
   "execution_count": null,
   "id": "709b3c45",
   "metadata": {},
   "outputs": [],
   "source": []
  },
  {
   "cell_type": "code",
   "execution_count": 12,
   "id": "3c49678f",
   "metadata": {},
   "outputs": [
    {
     "name": "stdout",
     "output_type": "stream",
     "text": [
      "cluster labels 유형: [0 1 2 3 4 5]\n"
     ]
    }
   ],
   "source": [
    "import numpy as np\n",
    "from sklearn.datasets import make_blobs\n",
    "from sklearn.cluster import MeanShift\n",
    "\n",
    "# std가 0.7인 3개 군집 데이터를 만듬\n",
    "X, y = make_blobs(n_samples=200, n_features=2, centers=3, \n",
    "                  cluster_std=0.7, random_state=0)\n",
    "meanshift = MeanShift(bandwidth=0.8)\n",
    "cluster_labels = meanshift.fit_predict(X)\n",
    "print('cluster labels 유형:', np.unique(cluster_labels))"
   ]
  },
  {
   "cell_type": "markdown",
   "id": "62d871b6",
   "metadata": {},
   "source": [
    "- 군집이 0부터 5까지 지나치게 세분화되었음  \n",
    "- 일반적으로 bandwidth값을 작게 할수록 군집 개수가 많아짐"
   ]
  },
  {
   "cell_type": "code",
   "execution_count": 4,
   "id": "ef715f37",
   "metadata": {
    "scrolled": true
   },
   "outputs": [
    {
     "name": "stdout",
     "output_type": "stream",
     "text": [
      "cluster labels 유형: [0 1 2]\n"
     ]
    }
   ],
   "source": [
    "# bandwidth를 살짝 높인 1.0으로 해서 MeanShift를 수행\n",
    "meanshift = MeanShift(bandwidth=1)\n",
    "cluster_labels = meanshift.fit_predict(X)\n",
    "print('cluster labels 유형:', np.unique(cluster_labels))"
   ]
  },
  {
   "cell_type": "markdown",
   "id": "9ff73445",
   "metadata": {},
   "source": [
    "- 데이터의 분포 유형에 따라 bandwidth 값의 변화는 군집화 개수에 큰 영향을 미칠 수 있다.\n",
    "- 따라서 bandwidth 값의 변화는 군집화 개수에 큰 영향을 미칠 수 있음\n",
    "- 사이킷런의 최적화된 bandwidth 값을 찾기 위해서 estimate_bandwidth( ) 함수를 제공함"
   ]
  },
  {
   "cell_type": "code",
   "execution_count": 11,
   "id": "f8758a05",
   "metadata": {},
   "outputs": [
    {
     "name": "stdout",
     "output_type": "stream",
     "text": [
      "bandwidth 값: 1.816\n"
     ]
    }
   ],
   "source": [
    "from sklearn.cluster import estimate_bandwidth\n",
    "\n",
    "bandwidth = estimate_bandwidth(X)\n",
    "print('bandwidth 값:', round(bandwidth,3))"
   ]
  },
  {
   "cell_type": "markdown",
   "id": "703e0c9e",
   "metadata": {},
   "source": [
    "estimate_bandwidth( )로 측정된 bandwidth를 평균 이동 입력값으로 적용해 동일한 make_blobs( ) 데이터 세트에 군집화를 수행"
   ]
  },
  {
   "cell_type": "code",
   "execution_count": 13,
   "id": "545cab44",
   "metadata": {},
   "outputs": [
    {
     "name": "stdout",
     "output_type": "stream",
     "text": [
      "cluster labels 유형: [0 1 2]\n"
     ]
    }
   ],
   "source": [
    "import pandas as pd\n",
    "\n",
    "clusterDF = pd.DataFrame(data=X, columns=['ftr1','ftr2'])\n",
    "clusterDF['target'] = y\n",
    "\n",
    "# estimate_bandwidth()로 최적의 bandwidth 계산\n",
    "best_bandwidth = estimate_bandwidth(X)\n",
    "\n",
    "meanshift = MeanShift(bandwidth=best_bandwidth)\n",
    "cluster_labels = meanshift.fit_predict(X)\n",
    "print('cluster labels 유형:', np.unique(cluster_labels))"
   ]
  },
  {
   "cell_type": "code",
   "execution_count": 14,
   "id": "b1b91f38",
   "metadata": {},
   "outputs": [
    {
     "data": {
      "image/png": "[encoded data removed]",
      "text/plain": [
       "<Figure size 432x288 with 1 Axes>"
      ]
     },
     "metadata": {
      "needs_background": "light"
     },
     "output_type": "display_data"
    }
   ],
   "source": [
    "import matplotlib.pyplot as plt\n",
    "%matplotlib inline\n",
    "\n",
    "clusterDF['meanshift_label'] = cluster_labels\n",
    "centers = meanshift.cluster_centers_\n",
    "unique_labels = np.unique(cluster_labels)\n",
    "markers = ['o','s','^','x','*']\n",
    "\n",
    "for label in unique_labels:\n",
    "    label_cluster = clusterDF[clusterDF['meanshift_label']==label]\n",
    "    center_x_y = centers[label]\n",
    "    # 군집별로 다른 마커로 산점도 적용\n",
    "    plt.scatter(x=label_cluster['ftr1'], y=label_cluster['ftr2'], \n",
    "                edgecolor='k', marker=markers[label])\n",
    "    \n",
    "    # 군집별 중심 표현\n",
    "    plt.scatter(x=center_x_y[0], y=center_x_y[1], s=200, color='gray', alpha=0.9)\n",
    "    plt.scatter(x=center_x_y[0], y=center_x_y[1], s=70, color='k', marker='$%d$' % label)\n",
    "    \n",
    "plt.show()"
   ]
  },
  {
   "cell_type": "code",
   "execution_count": 17,
   "id": "b7de8ea1",
   "metadata": {},
   "outputs": [
    {
     "data": {
      "text/html": [
       "<div>\n",
       "<style scoped>\n",
       "    .dataframe tbody tr th:only-of-type {\n",
       "        vertical-align: middle;\n",
       "    }\n",
       "\n",
       "    .dataframe tbody tr th {\n",
       "        vertical-align: top;\n",
       "    }\n",
       "\n",
       "    .dataframe thead th {\n",
       "        text-align: right;\n",
       "    }\n",
       "</style>\n",
       "<table border=\"1\" class=\"dataframe\">\n",
       "  <thead>\n",
       "    <tr style=\"text-align: right;\">\n",
       "      <th></th>\n",
       "      <th></th>\n",
       "      <th>meanshift_label</th>\n",
       "    </tr>\n",
       "    <tr>\n",
       "      <th>target</th>\n",
       "      <th>meanshift_label</th>\n",
       "      <th></th>\n",
       "    </tr>\n",
       "  </thead>\n",
       "  <tbody>\n",
       "    <tr>\n",
       "      <th>0</th>\n",
       "      <th>0</th>\n",
       "      <td>67</td>\n",
       "    </tr>\n",
       "    <tr>\n",
       "      <th>1</th>\n",
       "      <th>1</th>\n",
       "      <td>67</td>\n",
       "    </tr>\n",
       "    <tr>\n",
       "      <th>2</th>\n",
       "      <th>2</th>\n",
       "      <td>66</td>\n",
       "    </tr>\n",
       "  </tbody>\n",
       "</table>\n",
       "</div>"
      ],
      "text/plain": [
       "                        meanshift_label\n",
       "target meanshift_label                 \n",
       "0      0                             67\n",
       "1      1                             67\n",
       "2      2                             66"
      ]
     },
     "execution_count": 17,
     "metadata": {},
     "output_type": "execute_result"
    }
   ],
   "source": [
    "clusterDF.groupby('target')['meanshift_label'].value_counts().to_frame()"
   ]
  }
 ],
 "metadata": {
  "kernelspec": {
   "display_name": "Python 3",
   "language": "python",
   "name": "python3"
  },
  "language_info": {
   "codemirror_mode": {
    "name": "ipython",
    "version": 3
   },
   "file_extension": ".py",
   "mimetype": "text/x-python",
   "name": "python",
   "nbconvert_exporter": "python",
   "pygments_lexer": "ipython3",
   "version": "3.8.8"
  },
  "toc": {
   "base_numbering": 1,
   "nav_menu": {},
   "number_sections": false,
   "sideBar": true,
   "skip_h1_title": false,
   "title_cell": "Table of Contents",
   "title_sidebar": "Contents",
   "toc_cell": false,
   "toc_position": {},
   "toc_section_display": true,
   "toc_window_display": false
  },
  "varInspector": {
   "cols": {
    "lenName": 16,
    "lenType": 16,
    "lenVar": 40
   },
   "kernels_config": {
    "python": {
     "delete_cmd_postfix": "",
     "delete_cmd_prefix": "del ",
     "library": "var_list.py",
     "varRefreshCmd": "print(var_dic_list())"
    },
    "r": {
     "delete_cmd_postfix": ") ",
     "delete_cmd_prefix": "rm(",
     "library": "var_list.r",
     "varRefreshCmd": "cat(var_dic_list()) "
    }
   },
   "types_to_exclude": [
    "module",
    "function",
    "builtin_function_or_method",
    "instance",
    "_Feature"
   ],
   "window_display": false
  }
 },
 "nbformat": 4,
 "nbformat_minor": 5
}
