{
 "cells": [
  {
   "cell_type": "markdown",
   "id": "0306c74d",
   "metadata": {},
   "source": [
    "# LightGBM\n",
    "\n",
    "XGBoost의 최대 단점은 수행시간이 오래 걸림 -> 이로인해 GridSearchCV를 활용하여 튜닝이 어려움  \n",
    "LightGBM은 XGBoost보다 학습 수행시간이 적으며 메모리 사용량도 상대적으로 적음  \n",
    "\n",
    "<br>\n",
    "\n",
    "하지만 예측 성능에 대한 차이는 없음  \n",
    "또한 기능상 다양성이 LightGBM이 다소 더 다양함  \n",
    "단점으로는 10,000건 이하의 데이터 세트에 적용할 경우 과적합이 발생하기 쉬움  \n",
    "\n",
    "<br>\n",
    "\n",
    "LightGBM은 리프 중심 트리 분할(Leaf Wise)방식을 사용 -> 수평적 방식  \n",
    "기존의 대부분 트리 기반 모델은 트리의 깊이를 줄이기 위해 균형 트리 분할(Level Wise)방식을 사용 -> 수직적 방식  \n",
    "수직적 방식의 장점은 오버피팅에 더 강한 구조를 가질 수 있음  \n",
    "반대로 균형을 맞추기 위한 시간이 필요하다는 상대적 단점이 있음  \n",
    "LightGBM의 리프 중심 트리 분할 방식은 트리의 균형을 맞추지 않음  \n",
    "대신 최대 손실 값(Max delta loss)을 가지는 리프 노드를 지속적으로 분할하면서 트리의 깊이가 깊어지고 비대칭적 규칙 트리가 생성됨  \n",
    "하지만 최대 손실값을 가지는 리프노드를 지속적으로 분할해 생성된 규칙 트리는 반복할수록 결국 균형트리 방식보다 예측 오류 손실을 최소화 할수 있다는 것이 기본 concept"
   ]
  },
  {
   "cell_type": "markdown",
   "id": "f6e34ed4",
   "metadata": {},
   "source": [
    "LightGBM의 XGBoost 대비 장점은\n",
    "- 더 빠른 학습과 예측 수행시간\n",
    "- 더 작은 메모리 사용량\n",
    "- 카테고리형 피처의 자동 변환과 최적 분할  \n",
    "(원-핫 인코딩 등을 사용하지 않고도 카테고리형 피처를 최적으로 변환하고 이에 따른 노드 분할 수행)  \n",
    "\n",
    "LightGBM은 대용량 데이터에 뛰어난 예측 성능 및 병렬 컴퓨팅 기능을 제공하고 있으며, 최근에는 GPU까지 지원함  \n",
    "\n",
    "<br>\n",
    "\n",
    "LightGBM 또한 파이썬 래퍼용만 개발되었지만 사이킷런 래퍼도 개발됨  \n",
    "사이킷런의 기반 Estimator를 상속받아 작성된 래퍼는 fit( ), predict( ) 기반의 학습 및 예측과 사이킷런이 제공하는 다양한 유틸리티의 활용이 가능"
   ]
  },
  {
   "cell_type": "markdown",
   "id": "6616efbe",
   "metadata": {},
   "source": [
    "## LightGBM 하이퍼 파라미터\n"
   ]
  }
 ],
 "metadata": {
  "kernelspec": {
   "display_name": "Python 3",
   "language": "python",
   "name": "python3"
  },
  "language_info": {
   "codemirror_mode": {
    "name": "ipython",
    "version": 3
   },
   "file_extension": ".py",
   "mimetype": "text/x-python",
   "name": "python",
   "nbconvert_exporter": "python",
   "pygments_lexer": "ipython3",
   "version": "3.8.8"
  },
  "toc": {
   "base_numbering": 1,
   "nav_menu": {},
   "number_sections": true,
   "sideBar": true,
   "skip_h1_title": false,
   "title_cell": "Table of Contents",
   "title_sidebar": "Contents",
   "toc_cell": false,
   "toc_position": {},
   "toc_section_display": true,
   "toc_window_display": false
  }
 },
 "nbformat": 4,
 "nbformat_minor": 5
}
