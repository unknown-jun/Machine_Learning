{
 "cells": [
  {
   "cell_type": "markdown",
   "id": "fb5b1920",
   "metadata": {},
   "source": [
    "# 로지스틱 회귀\n",
    "- 로지스틱 회귀는 선형 회귀 방식을 분류에 적용한 알고리즘\n",
    "- 시그모이드(Sigmoid) 함수 최적선을 찾고 이 시그모이드 함수의 반환 값을 확률로 간주해 확률에 따라 분류를 결정함\n",
    "- 시그모이드 함수의 정의는 $y=\\frac{1}{1+{e}^{-x}}$\n",
    "- 시그모이드 함수는 x 값이 +,- 로 아무리 커지거나 작아져도 y값은 항상 0과 1 사이의 값을 반환함\n",
    "- x값이 커지면 1에 근사하며 x값이 작아지면 0에 근사함\n",
    "- 그리고 x가 0일때는 0.5\n",
    "> 위스콘신 유방암 데이터 세트를 로지스틱 회귀를 이용해 암 여부를 판단하는 예지"
   ]
  },
  {
   "cell_type": "code",
   "execution_count": 7,
   "id": "c19ea5e6",
   "metadata": {},
   "outputs": [
    {
     "name": "stdout",
     "output_type": "stream",
     "text": [
      "accuracy: 0.977\n",
      "roc_aucL 0.972\n"
     ]
    }
   ],
   "source": [
    "import pandas as pd\n",
    "import matplotlib.pyplot as plt\n",
    "\n",
    "from sklearn.datasets import load_breast_cancer\n",
    "from sklearn.linear_model import LogisticRegression\n",
    "from sklearn.preprocessing import StandardScaler\n",
    "from sklearn.model_selection import train_test_split\n",
    "from sklearn.metrics import accuracy_score, roc_auc_score\n",
    "cancer = load_breast_cancer()\n",
    "\n",
    "# StandardScaler( )로 평균이 0, 분산이 1로 데이터 분포도 변환\n",
    "scaler = StandardScaler()\n",
    "data_scaled = scaler.fit_transform(cancer.data)\n",
    "\n",
    "X_train, X_test, y_train, y_test = train_test_split(data_scaled, cancer.target,\n",
    "                                                   test_size =0.3, random_state = 0)\n",
    "\n",
    "# 로지스틱 회귀를 이용해 학습 및 예측 수행\n",
    "lr_clf = LogisticRegression()\n",
    "lr_clf.fit(X_train, y_train)\n",
    "lr_preds = lr_clf.predict(X_test)\n",
    "\n",
    "# 정확도와 roc_auc 측정\n",
    "print('accuracy: {0:.3f}'.format(accuracy_score(y_test, lr_preds)))\n",
    "print('roc_aucL {0:.3f}'.format(roc_auc_score(y_test, lr_preds)))"
   ]
  },
  {
   "cell_type": "markdown",
   "id": "1ecfa5ee",
   "metadata": {},
   "source": [
    "# 파라미터 조정\n",
    "- LogisticRegression의 주요 하이퍼 파라미터는 penalty와 C가 있음\n",
    "- penalty는 규제(Regularization)의 유형을 설정하며 'l2'로 설정 시 L2 규제를, 'l1'로 설정 시 L1 규제를 뜻함. (Default = 'l2')\n",
    "- C는 규제 강도를 조절하는 alpha 값의 역수, C가 작을 수록 규제 강도가 큼\n",
    "> GridSearchCV를 이용해 하이퍼 파라미터를 최적화하는 예"
   ]
  },
  {
   "cell_type": "code",
   "execution_count": 12,
   "id": "99480164",
   "metadata": {},
   "outputs": [
    {
     "name": "stdout",
     "output_type": "stream",
     "text": [
      "최적 하이퍼 파라미터:{'C': 1, 'penalty': 'l2'}, 최적 평균 정확도: 0.975\n"
     ]
    }
   ],
   "source": [
    "from sklearn.model_selection import GridSearchCV\n",
    "\n",
    "params = {'penalty':['l2'],\n",
    "          'C':[0.01, 0.1, 1, 2, 5, 10]}\n",
    "\n",
    "grid_clf = GridSearchCV(lr_clf, param_grid=params, scoring='accuracy', cv=3)\n",
    "grid_clf.fit(data_scaled, cancer.target)\n",
    "print('최적 하이퍼 파라미터:{0}, 최적 평균 정확도: {1:.3f}'.format(grid_clf.best_params_,\n",
    "                                                              grid_clf.best_score_))"
   ]
  }
 ],
 "metadata": {
  "kernelspec": {
   "display_name": "Python 3",
   "language": "python",
   "name": "python3"
  },
  "language_info": {
   "codemirror_mode": {
    "name": "ipython",
    "version": 3
   },
   "file_extension": ".py",
   "mimetype": "text/x-python",
   "name": "python",
   "nbconvert_exporter": "python",
   "pygments_lexer": "ipython3",
   "version": "3.8.8"
  },
  "toc": {
   "base_numbering": 1,
   "nav_menu": {},
   "number_sections": true,
   "sideBar": true,
   "skip_h1_title": false,
   "title_cell": "Table of Contents",
   "title_sidebar": "Contents",
   "toc_cell": false,
   "toc_position": {},
   "toc_section_display": true,
   "toc_window_display": false
  },
  "varInspector": {
   "cols": {
    "lenName": 16,
    "lenType": 16,
    "lenVar": 40
   },
   "kernels_config": {
    "python": {
     "delete_cmd_postfix": "",
     "delete_cmd_prefix": "del ",
     "library": "var_list.py",
     "varRefreshCmd": "print(var_dic_list())"
    },
    "r": {
     "delete_cmd_postfix": ") ",
     "delete_cmd_prefix": "rm(",
     "library": "var_list.r",
     "varRefreshCmd": "cat(var_dic_list()) "
    }
   },
   "types_to_exclude": [
    "module",
    "function",
    "builtin_function_or_method",
    "instance",
    "_Feature"
   ],
   "window_display": false
  }
 },
 "nbformat": 4,
 "nbformat_minor": 5
}
