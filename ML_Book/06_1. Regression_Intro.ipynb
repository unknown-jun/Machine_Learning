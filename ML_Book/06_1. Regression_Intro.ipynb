{
 "cells": [
  {
   "cell_type": "markdown",
   "id": "77a9640d",
   "metadata": {},
   "source": [
    "# 회귀의 개요\n",
    "회귀: 여러 개의 독립변수와 한 개의 종속변수 간의 상관관계를 모델링하는 기법을 통칭  \n",
    "-> 아파트의 방 개수, 방 크기, 주변 학군 등 여러 개의 독립변수에 따라 아파트 가격이라는 종속변수가 어떤 관게를 나타내는지를 모델링하고 예측하는 것  \n",
    "$$Y=W_1X_1 \\ + \\ W_2X_2 \\ + \\ W_3X_3 + ... + W_nX_n $$\n",
    "- Y는 종속변수, 즉 아파트 가격  \n",
    "- X_1, X_2, ..., X_n은 방 개수, 방 크기, 주변 학군 등의 독립변수를 의미  \n",
    "- W_1, W_2, ..., W_n은 이 독립변수의 값에 영향을 미치는 회귀 계수(Regression coefficients)  \n",
    "\n",
    "머신러닝 관점에서 보면\n",
    "- X_1, X_2, ..., X_n의 독립변수는 피처\n",
    "- Y의 종속변수는 결정 값  \n",
    "> 머신러닝 회귀 예측의 핵심은 주어진 피처와 결정 값 데이터 기반에서 학습을 통해 **최적의 회귀 계수**를 찾아내는 것\n"
   ]
  },
  {
   "cell_type": "code",
   "execution_count": null,
   "id": "7266bee2",
   "metadata": {},
   "outputs": [],
   "source": []
  }
 ],
 "metadata": {
  "kernelspec": {
   "display_name": "Python 3",
   "language": "python",
   "name": "python3"
  },
  "language_info": {
   "codemirror_mode": {
    "name": "ipython",
    "version": 3
   },
   "file_extension": ".py",
   "mimetype": "text/x-python",
   "name": "python",
   "nbconvert_exporter": "python",
   "pygments_lexer": "ipython3",
   "version": "3.8.8"
  },
  "toc": {
   "base_numbering": 1,
   "nav_menu": {},
   "number_sections": true,
   "sideBar": true,
   "skip_h1_title": false,
   "title_cell": "Table of Contents",
   "title_sidebar": "Contents",
   "toc_cell": false,
   "toc_position": {},
   "toc_section_display": true,
   "toc_window_display": false
  }
 },
 "nbformat": 4,
 "nbformat_minor": 5
}
