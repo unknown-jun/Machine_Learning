{
 "cells": [
  {
   "cell_type": "markdown",
   "id": "52a82093",
   "metadata": {},
   "source": [
    "# 이차 판별 분석(QDA)\n",
    "**이차판별분석의 정의**  \n",
    "- k(범주의 수)와 관계없이 공통 공분산 구조에 대한 가정을 만족하지 못하는 경우에 QDA 적용\n",
    "    - 즉, Y의 범주별로 서로 다른 공분산 구조를 가진 경우에 활용 가능  \n",
    "    \n",
    "**LDA와 QDA의 비교**  \n",
    "- LDA의 결정 경계는 선형으로 가정하고 있어 서로 다른 공분산 분류에 어려움이 있음 (첫번째 그림)\n",
    "    - 단, LDA도 같은 공분산의 비선형 분류 가능(두번째 그림)\n",
    "        - 변수의 제곱을 한 추가적인 변수들을 통해 보완\n",
    "- QDA는 서로 다른 공분산 데이터 분류 가능(세번째 그림 참고)\n",
    "    - 상대적 장점 비선형 분류 가능\n",
    "- QDA는 서로 다른 공분산 데이터 분류를 위해 샘플이 많이 필요함\n",
    "    - 상대적 단점: 설명 변수의 개수가 많을 경우, 추정해야 하는 모수가 많아짐\n",
    "        - 즉, 연산량이 큼  \n",
    "  \n",
    "![image](https://user-images.githubusercontent.com/70187490/132194683-e169fca4-7ce3-44a0-94de-d5f53bea8e40.png)\n",
    "**QDA: 클래스별 서로 다른 모수를 갖는 정규분포 분석**  \n",
    "- 예를 들어 $y$가 1, 2, 3이라는 3개의 클래스를 가지고 각 클래스에서의 $x$의 확률분포가 다음과 같은 기대값과 공분산 행렬을 가진다고 가정하자\n",
    "$$\\mu_1 = \\begin{bmatrix}0 \\\\ 0 \\end{bmatrix}, \\mu_2 = \\begin{bmatrix} 1 \\\\ 1 \\end{bmatrix}, \\mu_3 = \\begin{bmatrix} -1 \\\\ 1 \\end{bmatrix}$$\n",
    "$$\\sum_1 = \\begin{bmatrix} 0.7 \\ \\ \\ \\ 0 \\\\ 0 \\ \\ \\ \\ 0.7 \\end{bmatrix}, \\sum_2 = \\begin{bmatrix} 0.8 \\ \\ \\ \\ 0.2 \\\\ 0.2 \\ \\ \\ \\ 0.8 \\end{bmatrix},\\sum_3 = \\begin{bmatrix} 0.8 \\ \\ \\ \\ 0.2 \\\\ 0.2 \\ \\ \\ \\ 0.8 \\end{bmatrix}$$\n",
    "- $y$의 사전 확률은 다음과 같이 동일하다\n",
    "$$P(Y=1) = P(Y=2) = P(Y=3)=\\frac{1}{3}$$\n",
    "![image](https://user-images.githubusercontent.com/70187490/132197238-a8675f04-c1cd-4b9b-9891-7978b291ab78.png)\n",
    "![image](https://user-images.githubusercontent.com/70187490/132197305-e7ac2994-baea-4bd3-b6bd-7e23fa6f3b37.png)"
   ]
  },
  {
   "cell_type": "code",
   "execution_count": 1,
   "id": "3c0ce038",
   "metadata": {},
   "outputs": [
    {
     "data": {
      "text/plain": [
       "array(['setosa', 'versicolor', 'virginica'], dtype=object)"
      ]
     },
     "execution_count": 1,
     "metadata": {},
     "output_type": "execute_result"
    }
   ],
   "source": [
    "import seaborn as sns\n",
    "import pandas as pd\n",
    "\n",
    "iris = sns.load_dataset('iris')\n",
    "X = iris.drop('species', axis=1)\n",
    "y = iris['species']\n",
    "y.unique()"
   ]
  },
  {
   "cell_type": "code",
   "execution_count": 2,
   "id": "6b6585a5",
   "metadata": {},
   "outputs": [
    {
     "data": {
      "text/plain": [
       "array([0, 1, 2])"
      ]
     },
     "execution_count": 2,
     "metadata": {},
     "output_type": "execute_result"
    }
   ],
   "source": [
    "from sklearn.preprocessing import LabelEncoder\n",
    "\n",
    "classle = LabelEncoder()\n",
    "y=classle.fit_transform(iris['species'].values)\n",
    "pd.Series(y).unique()"
   ]
  },
  {
   "cell_type": "code",
   "execution_count": 3,
   "id": "40913edf",
   "metadata": {},
   "outputs": [],
   "source": [
    "from sklearn.model_selection import train_test_split\n",
    "X_train, X_test, y_train, y_test = train_test_split(X, y, test_size=0.3, random_state=123, stratify=y)"
   ]
  },
  {
   "cell_type": "code",
   "execution_count": 4,
   "id": "456def09",
   "metadata": {},
   "outputs": [],
   "source": [
    "from sklearn.discriminant_analysis import QuadraticDiscriminantAnalysis\n",
    "\n",
    "cqd = QuadraticDiscriminantAnalysis(store_covariance=True)\n",
    "\n",
    "cqd.fit(X_train, y_train)\n",
    "y_train_pred = cqd.predict(X_train)\n",
    "y_test_pred = cqd.predict(X_test)"
   ]
  },
  {
   "cell_type": "code",
   "execution_count": 5,
   "id": "2e9e7946",
   "metadata": {
    "scrolled": true
   },
   "outputs": [
    {
     "name": "stdout",
     "output_type": "stream",
     "text": [
      "0.9809523809523809\n",
      "0.9777777777777777\n"
     ]
    },
    {
     "data": {
      "text/plain": [
       "array([[15,  0,  0],\n",
       "       [ 0, 14,  1],\n",
       "       [ 0,  0, 15]], dtype=int64)"
      ]
     },
     "execution_count": 5,
     "metadata": {},
     "output_type": "execute_result"
    }
   ],
   "source": [
    "from sklearn.metrics import accuracy_score, confusion_matrix\n",
    "\n",
    "print(accuracy_score(y_train, y_train_pred))\n",
    "print(accuracy_score(y_test, y_test_pred))\n",
    "confusion_matrix(y_test, y_test_pred)"
   ]
  },
  {
   "cell_type": "code",
   "execution_count": 6,
   "id": "40926f2d",
   "metadata": {},
   "outputs": [
    {
     "data": {
      "text/plain": [
       "<AxesSubplot:xlabel='petal_length', ylabel='petal_width'>"
      ]
     },
     "execution_count": 6,
     "metadata": {},
     "output_type": "execute_result"
    },
    {
     "data": {
      "image/png": "[encoded data removed]",
      "text/plain": [
       "<Figure size 432x288 with 1 Axes>"
      ]
     },
     "metadata": {
      "needs_background": "light"
     },
     "output_type": "display_data"
    }
   ],
   "source": [
    "import numpy as np\n",
    "import matplotlib.pyplot as plt\n",
    "\n",
    "X = np.array(iris[['petal_length', 'petal_width']])\n",
    "y = iris['species']\n",
    "y = np.where(y=='setosa', 0, np.where(y=='versicolor', 1, 2))\n",
    "\n",
    "cqd = QuadraticDiscriminantAnalysis(store_covariance=True)\n",
    "cqd.fit(X, y)\n",
    "\n",
    "x_min, x_max = X[:, 0].min() - .1, X[:, 0].max() + .1\n",
    "y_min, y_max = X[:, 1].min() - .1, X[:, 1].max() + .1\n",
    "xx, yy = np.meshgrid(np.arange(x_min, x_max, 0.01), \n",
    "                     np.arange(y_min, y_max, 0.01))\n",
    "XY = np.c_[xx.ravel(), yy.ravel()]\n",
    "pred_cqd = cqd.predict(XY)\n",
    "Z = pred_cqd.reshape(xx.shape)\n",
    "\n",
    "plt.contourf(xx, yy, Z)\n",
    "plt.axis('off')\n",
    "\n",
    "sns.scatterplot(x='petal_length', \n",
    "                y='petal_width', \n",
    "                hue='species', \n",
    "                style='species', \n",
    "                s=100, \n",
    "                data=iris)"
   ]
  },
  {
   "cell_type": "markdown",
   "id": "76ef0976",
   "metadata": {},
   "source": [
    "출처:  \n",
    "[세종대. 최유경 교수 6주차 판별분석 기계학습 Part2](https://youtu.be/WdxIxchlBvo)"
   ]
  }
 ],
 "metadata": {
  "kernelspec": {
   "display_name": "Python 3",
   "language": "python",
   "name": "python3"
  },
  "language_info": {
   "codemirror_mode": {
    "name": "ipython",
    "version": 3
   },
   "file_extension": ".py",
   "mimetype": "text/x-python",
   "name": "python",
   "nbconvert_exporter": "python",
   "pygments_lexer": "ipython3",
   "version": "3.8.8"
  },
  "toc": {
   "base_numbering": 1,
   "nav_menu": {},
   "number_sections": true,
   "sideBar": true,
   "skip_h1_title": false,
   "title_cell": "Table of Contents",
   "title_sidebar": "Contents",
   "toc_cell": false,
   "toc_position": {},
   "toc_section_display": true,
   "toc_window_display": false
  },
  "varInspector": {
   "cols": {
    "lenName": 16,
    "lenType": 16,
    "lenVar": 40
   },
   "kernels_config": {
    "python": {
     "delete_cmd_postfix": "",
     "delete_cmd_prefix": "del ",
     "library": "var_list.py",
     "varRefreshCmd": "print(var_dic_list())"
    },
    "r": {
     "delete_cmd_postfix": ") ",
     "delete_cmd_prefix": "rm(",
     "library": "var_list.r",
     "varRefreshCmd": "cat(var_dic_list()) "
    }
   },
   "types_to_exclude": [
    "module",
    "function",
    "builtin_function_or_method",
    "instance",
    "_Feature"
   ],
   "window_display": false
  }
 },
 "nbformat": 4,
 "nbformat_minor": 5
}
