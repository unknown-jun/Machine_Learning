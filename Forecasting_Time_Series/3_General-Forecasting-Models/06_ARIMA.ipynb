{
 "cells": [
  {
   "cell_type": "markdown",
   "id": "f6bc7c40",
   "metadata": {},
   "source": [
    "# ARIMA\n",
    "## Components of ARIAM\n",
    "1. AR - AutoRegression(자기회귀 모델)\n",
    "2. I - Integrated (통합)\n",
    "3. MA - Moving Average(이동평균 모델)\n",
    "\n",
    "### AR\n",
    "AR은 변화하는 관심 변수, 즉 우리가 예측하려는 새로운 미래의 y값이 데이터 자체의 lag된 값 즉, 이전의 값으로 회귀한다는 것을 의미  \n",
    "${\\displaystyle y_{t} = c + \\phi_{1}y_{t-1} + \\phi_{2}y_{t-2} + \\dots + \\phi_{p}y_{t-p} + \\varepsilon_{t}}$   \n",
    "$\\phi_{1}, \\phi_{2}$와 같은 이전(lag된)값의 계수을 가지고 얼마나 많은 지연을 고려해야 되는지를 결정해야 한다.  \n",
    "\n",
    "### MR\n",
    "MR 성분은 회귀 오차가 실제로 오차 항들의 선형 조합임을 나타냄  \n",
    "오차 항들의 이 선형 조합은 과거의 다양한 시간에 동시적으로 발생한 오차 항 값들의 조합  \n",
    "지연된 관찰 값에 적용된 이동평균 모델에서 나온 관찰 값과 잔여 오차 사이의 의존성을 이용함  \n",
    "그래서 Pandas의 이동평균을 plot으로 나타날 때 시계열에서 noise를 'smoothing'했다는 걸 기억한다.  \n",
    "그러면 그건 실제 값들과 그런 평탄화된 이동평균 값의 차이가 될 것이다.  \n",
    "이 오차를 이용하여 또 다른 단순화된 회귀모델을 구성할 수 있다.  \n",
    "$\\epsilon_t + \\theta_1\\epsilon_{t-1}+ \\cdots+\\theta_q\\epsilon_{t-q}$  \n",
    "$\\epsilon$: 잔차항  \n",
    "역시 MA를 구축하기 위해 이동평균모델에서 얼마나 많은 지연을 해야 할지를 결정해야 한다. \n",
    "이 MA에 대한 또 다른 차수를 선택할 수 있는데 이는 일반화된 버전이다.  \n",
    "우리가 결정해야 할 매개변수는 q이다.\n",
    "\n",
    "### Integrated\n",
    "I는 값과 이전 값의 차이로 데이터 값이 대체되었음을 나타냄 $\\rightarrow$ 차분\n",
    "즉, 정상 상태를 얻어서 AR과 MA가 함께 작동하도록 하기 위해서 몇개의 차분을 가져야 하느냐는 것\n",
    "\n",
    "## Non-seasonal ARIMA\n",
    "비계절성 ARIMA 모델은 일반적으로 ARIMA(p,d,q)라고 표기한다. \n",
    "p, d, q는 음수가 아닌 정수  \n",
    "p = AR 모델의 차수  \n",
    "d = 데이터의 차분 횟수  \n",
    "q = MR 모델의 차수\n",
    "\n",
    "ARMA($p^\\prime$, $q$)는 다음과 같이 정의된다.  \n",
    "$\\underbrace{X_t - \\alpha_1X_{t-1}-\\cdots-\\alpha_{p^\\prime}X_{t-p^\\prime}}_{AR}=\\underbrace{\\epsilon_t+\\theta_1\\epsilon_{t-1}+\\cdots+\\theta_q\\epsilon_{t-q}}_{MR}$  \n",
    "$X_t=$시계열 데이터  \n",
    "$t=$ 인덱스  \n",
    "$\\alpha=$ AR 모델의 매개변수  \n",
    "좌변 = AR에서 우리가 원하는 차수 p를 선택해야 하고, 이전 지연 값을 기초로 한 실제 회귀 모델  \n",
    "우변 = $\\epsilon_t$는 오차항이고 $\\theta$는 MA 모델의 매개변수들\n",
    "\n",
    "위의 식을 수학적 표현을 이용해서 간단히 표기하면 다음과 같이 정의할 수 있다.  \n",
    "${\\displaystyle \\underbrace{\\left( 1-\\sum_{i=1}^{p^{\\prime}}\\alpha_iL^i\\right)X_t}_{AR} = \\underbrace{\\left( 1+\\sum_{i=1}^q\\theta_iL^i\\right)\\epsilon_t}_{MA}}$  \n",
    "$L= $지연 연산자  \n",
    "\n",
    "ARIMA($p^{\\prime}$, $d$, $q$)는 다음과 같이 정의한다.  \n",
    "${\\displaystyle\\left( 1-\\sum_{i=1}^{p^{\\prime}}\\phi_iL^i\\right)(1-L)^dX_t = \\left( 1+\\sum_{i=1}^q\\theta_iL^i\\right)\\epsilon_t}$   \n",
    "$I$의 구성요소는 $1-L$, 즉 지연 연산자의 d 제곱이 된다. $\\rightarrow$ 차분을 나타내는 수학적 표현\n",
    "\n",
    "즉, ARIMA 모델은 잔여오차를 기반으로 한 자기회귀 모델과 이동평균 모델와 이 두 모델을 stationary하게 만드는 차분이 합쳐진 모델이다.  \n",
    "ARIMA 모델을 적용시키기 위해 해야할 일은 p(AR 모델의 차수), d(MA 모델의 차수), p(차분의 횟수)를 구해야 한다."
   ]
  },
  {
   "cell_type": "markdown",
   "id": "69616a38",
   "metadata": {},
   "source": [
    "# Choosing ARIMA Orders\n",
    "ARIMA 모델의 p,d,q를 구하는 가장 고전적인 방식은 ACF, PACF plot을 읽는 방법이다.  \n",
    "맨 처음 지역, 즉 lag-1에서 자기상관 plot이 양의 자기상관을 나타내면 이는 지연과 관련하여 실제로 AR 항을 포함시키고 사용함을 암시한다.  \n",
    "만일 첫 번째 지연에서 음의 자기상관을 나타내는 자기상관 plot이라면, MA항을 사용해야 한다.  \n",
    "p는 모델의 AR에 포함된 관찰 값의 개수였고 d는 원 관찰값들이 차분된 횟수였으며 q는 이동평균의 window의 크기였다.(MA의 차수)  \n",
    "![image](https://user-images.githubusercontent.com/70187490/152482727-8b1d468a-a927-4cce-a9ce-3e496e2148c9.png)\n",
    "\n",
    "통상적으로 지연 k 뒤에 가파르게 하강한다. 이러한 가파르게 하강하는 지연을 세면서 AR의 차수인 k를 사용해야 한다라는 것을 알 수 있다.  \n",
    "만약 점진적으로 감소한다면, MA 모델을 사용해야 한다.  \n",
    "AR 모델은 부분 자기상관 함수로 가장 잘 식별이 가능하며, MA 모델은 자기상관 함수로 가장 잘 식별할 수 있다.  \n",
    "\n",
    "<br>\n",
    "\n",
    "하지만 일반적인 상황에선 ACF와 PACF를 읽는 것이 쉽지 않을 수 있다.  \n",
    "그래서 다양한 p, d, q 값들의 조합에 대해서 GridSearch를 사용하는 것이 효과적이며 일반적이다.  \n",
    "그러한 결과로 나온 AIC값을 평가 기준으로 해서 어떤 모델이 가장 성능이 비교한다.\n",
    "\n",
    "<br>\n",
    "\n",
    "pmdarima 라이브러리는 AIC를 평가 기준으로 사용해서 다양한 ARIMA 모델들의 성능을 비교한다.  \n",
    "AIC 정보 기준을 사용한 이유는 간단한 모델에 비해 유의미한 개선사항이 없으면 매우 높은 차수의 모델에 벌점을 주기 때문  \n",
    "그렇게 해서 훈련 데이터의 오버피팅을 방지하게 된다.  \n",
    "AIC의 방정식은 다음과 같다.  \n",
    "$\\text{AIC}=2k-2\\ln(\\hat L)$  \n",
    "$k$를 모델에서 예측된 매개변수의 개수라고 하고, $L$을 모델의 우도 함수의 최댓값이다."
   ]
  },
  {
   "cell_type": "code",
   "execution_count": 1,
   "id": "44e0d1ea",
   "metadata": {},
   "outputs": [],
   "source": [
    "import pandas as pd\n",
    "import numpy as np\n",
    "import warnings\n",
    "warnings.filterwarnings('ignore')\n",
    "\n",
    "# Load a non-stationary dataset\n",
    "df1 = pd.read_csv('../Data/airline_passengers.csv',\n",
    "                 index_col='Month',\n",
    "                 parse_dates=True)\n",
    "df1.index.freq = 'MS'\n",
    "\n",
    "# load a stationary dataset\n",
    "df2 = pd.read_csv('../Data/DailyTotalFemaleBirths.csv',\n",
    "                 index_col='Date',\n",
    "                 parse_dates=True)\n",
    "df2.index.freq = 'D'"
   ]
  },
  {
   "cell_type": "code",
   "execution_count": 2,
   "id": "3e98fb03",
   "metadata": {},
   "outputs": [
    {
     "name": "stdout",
     "output_type": "stream",
     "text": [
      "Fit ARIMA: order=(0, 1, 0); AIC=2650.760, BIC=2658.555, Fit time=0.008 seconds\n",
      "Fit ARIMA: order=(1, 1, 0); AIC=2565.234, BIC=2576.925, Fit time=0.014 seconds\n",
      "Fit ARIMA: order=(0, 1, 1); AIC=2463.584, BIC=2475.275, Fit time=0.036 seconds\n",
      "Fit ARIMA: order=(1, 1, 1); AIC=2460.154, BIC=2475.742, Fit time=0.082 seconds\n"
     ]
    },
    {
     "name": "stderr",
     "output_type": "stream",
     "text": [
      "C:\\Users\\Jun\\anaconda3\\envs\\tsa_course\\lib\\site-packages\\statsmodels\\base\\model.py:508: ConvergenceWarning: Maximum Likelihood optimization failed to converge. Check mle_retvals\n",
      "  \"Check mle_retvals\", ConvergenceWarning)\n"
     ]
    },
    {
     "name": "stdout",
     "output_type": "stream",
     "text": [
      "Fit ARIMA: order=(1, 1, 2); AIC=2460.515, BIC=2480.000, Fit time=0.264 seconds\n",
      "Fit ARIMA: order=(2, 1, 2); AIC=2461.879, BIC=2485.262, Fit time=0.293 seconds\n",
      "Fit ARIMA: order=(2, 1, 1); AIC=2461.271, BIC=2480.757, Fit time=0.112 seconds\n",
      "Total fit time: 0.814 seconds\n"
     ]
    },
    {
     "name": "stderr",
     "output_type": "stream",
     "text": [
      "C:\\Users\\Jun\\anaconda3\\envs\\tsa_course\\lib\\site-packages\\statsmodels\\base\\model.py:508: ConvergenceWarning: Maximum Likelihood optimization failed to converge. Check mle_retvals\n",
      "  \"Check mle_retvals\", ConvergenceWarning)\n"
     ]
    }
   ],
   "source": [
    "from pmdarima import auto_arima\n",
    "\n",
    "stepwise_fit = auto_arima(df2['Births'], start_p=0, start_q=0, max_p=6, max_q=3, seasonal=False, trace=True) \n",
    "# start_p = 0: AR 성분이 없다는 뜻\n",
    "# max_p (or q): 상한값을 설정\n",
    "# seasonal: 데이터에 계절성이 있냐 없냐\n",
    "# trace: auto_arima가 피팅하려고 하는 첫 몇 개의 ARIMA를 출력해줌\n",
    "# auto_arima는 자동적으로 gridsearch 기능을 지원하며 AIC를 기준으로 early stop기능까지도 지원한다."
   ]
  },
  {
   "cell_type": "code",
   "execution_count": 3,
   "id": "abd28178",
   "metadata": {},
   "outputs": [
    {
     "data": {
      "text/html": [
       "<table class=\"simpletable\">\n",
       "<caption>ARIMA Model Results</caption>\n",
       "<tr>\n",
       "  <th>Dep. Variable:</th>        <td>D.y</td>       <th>  No. Observations:  </th>    <td>364</td>   \n",
       "</tr>\n",
       "<tr>\n",
       "  <th>Model:</th>          <td>ARIMA(1, 1, 1)</td>  <th>  Log Likelihood     </th> <td>-1226.077</td>\n",
       "</tr>\n",
       "<tr>\n",
       "  <th>Method:</th>             <td>css-mle</td>     <th>  S.D. of innovations</th>   <td>7.000</td>  \n",
       "</tr>\n",
       "<tr>\n",
       "  <th>Date:</th>          <td>Sat, 05 Feb 2022</td> <th>  AIC                </th> <td>2460.154</td> \n",
       "</tr>\n",
       "<tr>\n",
       "  <th>Time:</th>              <td>12:22:46</td>     <th>  BIC                </th> <td>2475.742</td> \n",
       "</tr>\n",
       "<tr>\n",
       "  <th>Sample:</th>                <td>1</td>        <th>  HQIC               </th> <td>2466.350</td> \n",
       "</tr>\n",
       "<tr>\n",
       "  <th></th>                       <td> </td>        <th>                     </th>     <td> </td>    \n",
       "</tr>\n",
       "</table>\n",
       "<table class=\"simpletable\">\n",
       "<tr>\n",
       "      <td></td>         <th>coef</th>     <th>std err</th>      <th>z</th>      <th>P>|z|</th>  <th>[0.025</th>    <th>0.975]</th>  \n",
       "</tr>\n",
       "<tr>\n",
       "  <th>const</th>     <td>    0.0152</td> <td>    0.014</td> <td>    1.068</td> <td> 0.286</td> <td>   -0.013</td> <td>    0.043</td>\n",
       "</tr>\n",
       "<tr>\n",
       "  <th>ar.L1.D.y</th> <td>    0.1299</td> <td>    0.056</td> <td>    2.334</td> <td> 0.020</td> <td>    0.021</td> <td>    0.239</td>\n",
       "</tr>\n",
       "<tr>\n",
       "  <th>ma.L1.D.y</th> <td>   -0.9694</td> <td>    0.019</td> <td>  -51.415</td> <td> 0.000</td> <td>   -1.006</td> <td>   -0.932</td>\n",
       "</tr>\n",
       "</table>\n",
       "<table class=\"simpletable\">\n",
       "<caption>Roots</caption>\n",
       "<tr>\n",
       "    <td></td>   <th>            Real</th>  <th>         Imaginary</th> <th>         Modulus</th>  <th>        Frequency</th>\n",
       "</tr>\n",
       "<tr>\n",
       "  <th>AR.1</th> <td>           7.6996</td> <td>          +0.0000j</td> <td>           7.6996</td> <td>           0.0000</td>\n",
       "</tr>\n",
       "<tr>\n",
       "  <th>MA.1</th> <td>           1.0316</td> <td>          +0.0000j</td> <td>           1.0316</td> <td>           0.0000</td>\n",
       "</tr>\n",
       "</table>"
      ],
      "text/plain": [
       "<class 'statsmodels.iolib.summary.Summary'>\n",
       "\"\"\"\n",
       "                             ARIMA Model Results                              \n",
       "==============================================================================\n",
       "Dep. Variable:                    D.y   No. Observations:                  364\n",
       "Model:                 ARIMA(1, 1, 1)   Log Likelihood               -1226.077\n",
       "Method:                       css-mle   S.D. of innovations              7.000\n",
       "Date:                Sat, 05 Feb 2022   AIC                           2460.154\n",
       "Time:                        12:22:46   BIC                           2475.742\n",
       "Sample:                             1   HQIC                          2466.350\n",
       "                                                                              \n",
       "==============================================================================\n",
       "                 coef    std err          z      P>|z|      [0.025      0.975]\n",
       "------------------------------------------------------------------------------\n",
       "const          0.0152      0.014      1.068      0.286      -0.013       0.043\n",
       "ar.L1.D.y      0.1299      0.056      2.334      0.020       0.021       0.239\n",
       "ma.L1.D.y     -0.9694      0.019    -51.415      0.000      -1.006      -0.932\n",
       "                                    Roots                                    \n",
       "=============================================================================\n",
       "                  Real          Imaginary           Modulus         Frequency\n",
       "-----------------------------------------------------------------------------\n",
       "AR.1            7.6996           +0.0000j            7.6996            0.0000\n",
       "MA.1            1.0316           +0.0000j            1.0316            0.0000\n",
       "-----------------------------------------------------------------------------\n",
       "\"\"\""
      ]
     },
     "execution_count": 3,
     "metadata": {},
     "output_type": "execute_result"
    }
   ],
   "source": [
    "stepwise_fit.summary()\n",
    "# summary를 호출함으로써 가장 성능이 좋은 모델에 대한 report를 출력한다.\n"
   ]
  },
  {
   "cell_type": "code",
   "execution_count": 4,
   "id": "c5ac5fc7",
   "metadata": {},
   "outputs": [
    {
     "name": "stderr",
     "output_type": "stream",
     "text": [
      "C:\\Users\\Jun\\anaconda3\\envs\\tsa_course\\lib\\site-packages\\pmdarima\\arima\\auto.py:870: ModelFitWarning: Unable to fit ARIMA for order=(0, 1, 0) seasonal_order=(1, 0, 1, 12); data is likely non-stationary. (if you do not want to see these warnings, run with error_action=\"ignore\")\n",
      "  ModelFitWarning)\n"
     ]
    },
    {
     "name": "stdout",
     "output_type": "stream",
     "text": [
      "Fit ARIMA: order=(0, 1, 0) seasonal_order=(1, 0, 1, 12); AIC=nan, BIC=nan, Fit time=nan seconds\n",
      "Fit ARIMA: order=(0, 1, 0) seasonal_order=(0, 0, 0, 12); AIC=1415.278, BIC=1421.203, Fit time=0.012 seconds\n",
      "Fit ARIMA: order=(1, 1, 0) seasonal_order=(1, 0, 0, 12); AIC=nan, BIC=nan, Fit time=nan seconds\n"
     ]
    },
    {
     "name": "stderr",
     "output_type": "stream",
     "text": [
      "C:\\Users\\Jun\\anaconda3\\envs\\tsa_course\\lib\\site-packages\\pmdarima\\arima\\auto.py:870: ModelFitWarning: Unable to fit ARIMA for order=(1, 1, 0) seasonal_order=(1, 0, 0, 12); data is likely non-stationary. (if you do not want to see these warnings, run with error_action=\"ignore\")\n",
      "  ModelFitWarning)\n"
     ]
    },
    {
     "name": "stdout",
     "output_type": "stream",
     "text": [
      "Fit ARIMA: order=(0, 1, 1) seasonal_order=(0, 0, 1, 12); AIC=1299.259, BIC=1311.110, Fit time=0.217 seconds\n",
      "Fit ARIMA: order=(0, 1, 1) seasonal_order=(1, 0, 1, 12); AIC=nan, BIC=nan, Fit time=nan seconds\n",
      "Fit ARIMA: order=(0, 1, 1) seasonal_order=(0, 0, 0, 12); AIC=1398.827, BIC=1407.716, Fit time=0.059 seconds\n",
      "Fit ARIMA: order=(0, 1, 1) seasonal_order=(0, 0, 2, 12); AIC=nan, BIC=nan, Fit time=nan seconds\n",
      "Fit ARIMA: order=(0, 1, 1) seasonal_order=(1, 0, 2, 12); AIC=nan, BIC=nan, Fit time=nan seconds\n"
     ]
    },
    {
     "name": "stderr",
     "output_type": "stream",
     "text": [
      "C:\\Users\\Jun\\anaconda3\\envs\\tsa_course\\lib\\site-packages\\pmdarima\\arima\\auto.py:870: ModelFitWarning: Unable to fit ARIMA for order=(0, 1, 1) seasonal_order=(1, 0, 1, 12); data is likely non-stationary. (if you do not want to see these warnings, run with error_action=\"ignore\")\n",
      "  ModelFitWarning)\n",
      "C:\\Users\\Jun\\anaconda3\\envs\\tsa_course\\lib\\site-packages\\pmdarima\\arima\\auto.py:870: ModelFitWarning: Unable to fit ARIMA for order=(0, 1, 1) seasonal_order=(0, 0, 2, 12); data is likely non-stationary. (if you do not want to see these warnings, run with error_action=\"ignore\")\n",
      "  ModelFitWarning)\n",
      "C:\\Users\\Jun\\anaconda3\\envs\\tsa_course\\lib\\site-packages\\pmdarima\\arima\\auto.py:870: ModelFitWarning: Unable to fit ARIMA for order=(0, 1, 1) seasonal_order=(1, 0, 2, 12); data is likely non-stationary. (if you do not want to see these warnings, run with error_action=\"ignore\")\n",
      "  ModelFitWarning)\n"
     ]
    },
    {
     "name": "stdout",
     "output_type": "stream",
     "text": [
      "Fit ARIMA: order=(1, 1, 1) seasonal_order=(0, 0, 1, 12); AIC=1301.228, BIC=1316.042, Fit time=0.348 seconds\n",
      "Fit ARIMA: order=(0, 1, 0) seasonal_order=(0, 0, 1, 12); AIC=1304.383, BIC=1313.271, Fit time=0.163 seconds\n",
      "Fit ARIMA: order=(0, 1, 2) seasonal_order=(0, 0, 1, 12); AIC=1301.136, BIC=1315.950, Fit time=0.230 seconds\n"
     ]
    },
    {
     "name": "stderr",
     "output_type": "stream",
     "text": [
      "C:\\Users\\Jun\\anaconda3\\envs\\tsa_course\\lib\\site-packages\\statsmodels\\base\\model.py:508: ConvergenceWarning: Maximum Likelihood optimization failed to converge. Check mle_retvals\n",
      "  \"Check mle_retvals\", ConvergenceWarning)\n",
      "C:\\Users\\Jun\\anaconda3\\envs\\tsa_course\\lib\\site-packages\\pmdarima\\arima\\auto.py:870: ModelFitWarning: Unable to fit ARIMA for order=(1, 1, 2) seasonal_order=(1, 0, 1, 12); data is likely non-stationary. (if you do not want to see these warnings, run with error_action=\"ignore\")\n",
      "  ModelFitWarning)\n",
      "C:\\Users\\Jun\\anaconda3\\envs\\tsa_course\\lib\\site-packages\\pmdarima\\arima\\auto.py:870: ModelFitWarning: Unable to fit ARIMA for order=(1, 1, 2) seasonal_order=(0, 0, 2, 12); data is likely non-stationary. (if you do not want to see these warnings, run with error_action=\"ignore\")\n",
      "  ModelFitWarning)\n",
      "C:\\Users\\Jun\\anaconda3\\envs\\tsa_course\\lib\\site-packages\\pmdarima\\arima\\auto.py:870: ModelFitWarning: Unable to fit ARIMA for order=(1, 1, 2) seasonal_order=(1, 0, 2, 12); data is likely non-stationary. (if you do not want to see these warnings, run with error_action=\"ignore\")\n",
      "  ModelFitWarning)\n"
     ]
    },
    {
     "name": "stdout",
     "output_type": "stream",
     "text": [
      "Fit ARIMA: order=(1, 1, 2) seasonal_order=(0, 0, 1, 12); AIC=1278.175, BIC=1295.952, Fit time=0.598 seconds\n",
      "Fit ARIMA: order=(1, 1, 2) seasonal_order=(1, 0, 1, 12); AIC=nan, BIC=nan, Fit time=nan seconds\n",
      "Fit ARIMA: order=(1, 1, 2) seasonal_order=(0, 0, 0, 12); AIC=1371.827, BIC=1386.641, Fit time=0.114 seconds\n",
      "Fit ARIMA: order=(1, 1, 2) seasonal_order=(0, 0, 2, 12); AIC=nan, BIC=nan, Fit time=nan seconds\n",
      "Fit ARIMA: order=(1, 1, 2) seasonal_order=(1, 0, 2, 12); AIC=nan, BIC=nan, Fit time=nan seconds\n",
      "Fit ARIMA: order=(2, 1, 2) seasonal_order=(0, 0, 1, 12); AIC=1267.601, BIC=1288.341, Fit time=0.457 seconds\n"
     ]
    },
    {
     "name": "stderr",
     "output_type": "stream",
     "text": [
      "C:\\Users\\Jun\\anaconda3\\envs\\tsa_course\\lib\\site-packages\\statsmodels\\base\\model.py:508: ConvergenceWarning: Maximum Likelihood optimization failed to converge. Check mle_retvals\n",
      "  \"Check mle_retvals\", ConvergenceWarning)\n",
      "C:\\Users\\Jun\\anaconda3\\envs\\tsa_course\\lib\\site-packages\\pmdarima\\arima\\auto.py:870: ModelFitWarning: Unable to fit ARIMA for order=(2, 1, 3) seasonal_order=(0, 0, 1, 12); data is likely non-stationary. (if you do not want to see these warnings, run with error_action=\"ignore\")\n",
      "  ModelFitWarning)\n",
      "C:\\Users\\Jun\\anaconda3\\envs\\tsa_course\\lib\\site-packages\\pmdarima\\arima\\auto.py:870: ModelFitWarning: Unable to fit ARIMA for order=(3, 1, 3) seasonal_order=(0, 0, 1, 12); data is likely non-stationary. (if you do not want to see these warnings, run with error_action=\"ignore\")\n",
      "  ModelFitWarning)\n",
      "C:\\Users\\Jun\\anaconda3\\envs\\tsa_course\\lib\\site-packages\\pmdarima\\arima\\auto.py:870: ModelFitWarning: Unable to fit ARIMA for order=(2, 1, 2) seasonal_order=(1, 0, 1, 12); data is likely non-stationary. (if you do not want to see these warnings, run with error_action=\"ignore\")\n",
      "  ModelFitWarning)\n"
     ]
    },
    {
     "name": "stdout",
     "output_type": "stream",
     "text": [
      "Fit ARIMA: order=(2, 1, 1) seasonal_order=(0, 0, 1, 12); AIC=1269.486, BIC=1287.263, Fit time=0.652 seconds\n",
      "Fit ARIMA: order=(2, 1, 3) seasonal_order=(0, 0, 1, 12); AIC=nan, BIC=nan, Fit time=nan seconds\n",
      "Fit ARIMA: order=(3, 1, 3) seasonal_order=(0, 0, 1, 12); AIC=nan, BIC=nan, Fit time=nan seconds\n",
      "Fit ARIMA: order=(2, 1, 2) seasonal_order=(1, 0, 1, 12); AIC=nan, BIC=nan, Fit time=nan seconds\n",
      "Fit ARIMA: order=(2, 1, 2) seasonal_order=(0, 0, 0, 12); AIC=1344.044, BIC=1361.821, Fit time=0.300 seconds\n",
      "Fit ARIMA: order=(2, 1, 2) seasonal_order=(0, 0, 2, 12); AIC=nan, BIC=nan, Fit time=nan seconds\n",
      "Fit ARIMA: order=(2, 1, 2) seasonal_order=(1, 0, 2, 12); AIC=nan, BIC=nan, Fit time=nan seconds\n",
      "Fit ARIMA: order=(3, 1, 2) seasonal_order=(0, 0, 1, 12); AIC=nan, BIC=nan, Fit time=nan seconds\n",
      "Total fit time: 3.191 seconds\n"
     ]
    },
    {
     "name": "stderr",
     "output_type": "stream",
     "text": [
      "C:\\Users\\Jun\\anaconda3\\envs\\tsa_course\\lib\\site-packages\\statsmodels\\base\\model.py:508: ConvergenceWarning: Maximum Likelihood optimization failed to converge. Check mle_retvals\n",
      "  \"Check mle_retvals\", ConvergenceWarning)\n",
      "C:\\Users\\Jun\\anaconda3\\envs\\tsa_course\\lib\\site-packages\\pmdarima\\arima\\auto.py:870: ModelFitWarning: Unable to fit ARIMA for order=(2, 1, 2) seasonal_order=(0, 0, 2, 12); data is likely non-stationary. (if you do not want to see these warnings, run with error_action=\"ignore\")\n",
      "  ModelFitWarning)\n",
      "C:\\Users\\Jun\\anaconda3\\envs\\tsa_course\\lib\\site-packages\\pmdarima\\arima\\auto.py:870: ModelFitWarning: Unable to fit ARIMA for order=(2, 1, 2) seasonal_order=(1, 0, 2, 12); data is likely non-stationary. (if you do not want to see these warnings, run with error_action=\"ignore\")\n",
      "  ModelFitWarning)\n",
      "C:\\Users\\Jun\\anaconda3\\envs\\tsa_course\\lib\\site-packages\\pmdarima\\arima\\auto.py:870: ModelFitWarning: Unable to fit ARIMA for order=(3, 1, 2) seasonal_order=(0, 0, 1, 12); data is likely non-stationary. (if you do not want to see these warnings, run with error_action=\"ignore\")\n",
      "  ModelFitWarning)\n"
     ]
    }
   ],
   "source": [
    "stepwise_fit = auto_arima(df1['Thousands of Passengers'], start_p=0, start_q=0, max_p=4, max_q=4, \n",
    "                          seasonal=True, trace=True, m=12)\n",
    "# m: 계절당 기간의 개수\n",
    "## 분기 데이터라면 m이 4가 될것이며 월간 데이터라면 12가 될걸이며 연간 데이터면 1이다.(연간 데이터가 1이라면 seasonal data가 아니라는 말이다.)"
   ]
  },
  {
   "cell_type": "code",
   "execution_count": 5,
   "id": "4ad4b7df",
   "metadata": {},
   "outputs": [
    {
     "data": {
      "text/html": [
       "<table class=\"simpletable\">\n",
       "<caption>Statespace Model Results</caption>\n",
       "<tr>\n",
       "  <th>Dep. Variable:</th>                  <td>y</td>               <th>  No. Observations:  </th>    <td>144</td>  \n",
       "</tr>\n",
       "<tr>\n",
       "  <th>Model:</th>           <td>SARIMAX(2, 1, 2)x(0, 0, 1, 12)</td> <th>  Log Likelihood     </th> <td>-626.801</td>\n",
       "</tr>\n",
       "<tr>\n",
       "  <th>Date:</th>                   <td>Sat, 05 Feb 2022</td>        <th>  AIC                </th> <td>1267.601</td>\n",
       "</tr>\n",
       "<tr>\n",
       "  <th>Time:</th>                       <td>12:22:49</td>            <th>  BIC                </th> <td>1288.341</td>\n",
       "</tr>\n",
       "<tr>\n",
       "  <th>Sample:</th>                         <td>0</td>               <th>  HQIC               </th> <td>1276.029</td>\n",
       "</tr>\n",
       "<tr>\n",
       "  <th></th>                             <td> - 144</td>             <th>                     </th>     <td> </td>   \n",
       "</tr>\n",
       "<tr>\n",
       "  <th>Covariance Type:</th>               <td>opg</td>              <th>                     </th>     <td> </td>   \n",
       "</tr>\n",
       "</table>\n",
       "<table class=\"simpletable\">\n",
       "<tr>\n",
       "      <td></td>         <th>coef</th>     <th>std err</th>      <th>z</th>      <th>P>|z|</th>  <th>[0.025</th>    <th>0.975]</th>  \n",
       "</tr>\n",
       "<tr>\n",
       "  <th>intercept</th> <td>    0.7024</td> <td>    0.168</td> <td>    4.169</td> <td> 0.000</td> <td>    0.372</td> <td>    1.033</td>\n",
       "</tr>\n",
       "<tr>\n",
       "  <th>ar.L1</th>     <td>    1.4368</td> <td>    0.109</td> <td>   13.169</td> <td> 0.000</td> <td>    1.223</td> <td>    1.651</td>\n",
       "</tr>\n",
       "<tr>\n",
       "  <th>ar.L2</th>     <td>   -0.7066</td> <td>    0.080</td> <td>   -8.815</td> <td> 0.000</td> <td>   -0.864</td> <td>   -0.549</td>\n",
       "</tr>\n",
       "<tr>\n",
       "  <th>ma.L1</th>     <td>   -1.4832</td> <td>    0.174</td> <td>   -8.524</td> <td> 0.000</td> <td>   -1.824</td> <td>   -1.142</td>\n",
       "</tr>\n",
       "<tr>\n",
       "  <th>ma.L2</th>     <td>    0.5033</td> <td>    0.175</td> <td>    2.877</td> <td> 0.004</td> <td>    0.160</td> <td>    0.846</td>\n",
       "</tr>\n",
       "<tr>\n",
       "  <th>ma.S.L12</th>  <td>    0.7444</td> <td>    0.077</td> <td>    9.730</td> <td> 0.000</td> <td>    0.594</td> <td>    0.894</td>\n",
       "</tr>\n",
       "<tr>\n",
       "  <th>sigma2</th>    <td>  345.6775</td> <td>   37.222</td> <td>    9.287</td> <td> 0.000</td> <td>  272.723</td> <td>  418.631</td>\n",
       "</tr>\n",
       "</table>\n",
       "<table class=\"simpletable\">\n",
       "<tr>\n",
       "  <th>Ljung-Box (Q):</th>          <td>164.01</td> <th>  Jarque-Bera (JB):  </th> <td>10.84</td>\n",
       "</tr>\n",
       "<tr>\n",
       "  <th>Prob(Q):</th>                 <td>0.00</td>  <th>  Prob(JB):          </th> <td>0.00</td> \n",
       "</tr>\n",
       "<tr>\n",
       "  <th>Heteroskedasticity (H):</th>  <td>5.46</td>  <th>  Skew:              </th> <td>0.46</td> \n",
       "</tr>\n",
       "<tr>\n",
       "  <th>Prob(H) (two-sided):</th>     <td>0.00</td>  <th>  Kurtosis:          </th> <td>3.98</td> \n",
       "</tr>\n",
       "</table><br/><br/>Warnings:<br/>[1] Covariance matrix calculated using the outer product of gradients (complex-step)."
      ],
      "text/plain": [
       "<class 'statsmodels.iolib.summary.Summary'>\n",
       "\"\"\"\n",
       "                                 Statespace Model Results                                 \n",
       "==========================================================================================\n",
       "Dep. Variable:                                  y   No. Observations:                  144\n",
       "Model:             SARIMAX(2, 1, 2)x(0, 0, 1, 12)   Log Likelihood                -626.801\n",
       "Date:                            Sat, 05 Feb 2022   AIC                           1267.601\n",
       "Time:                                    12:22:49   BIC                           1288.341\n",
       "Sample:                                         0   HQIC                          1276.029\n",
       "                                            - 144                                         \n",
       "Covariance Type:                              opg                                         \n",
       "==============================================================================\n",
       "                 coef    std err          z      P>|z|      [0.025      0.975]\n",
       "------------------------------------------------------------------------------\n",
       "intercept      0.7024      0.168      4.169      0.000       0.372       1.033\n",
       "ar.L1          1.4368      0.109     13.169      0.000       1.223       1.651\n",
       "ar.L2         -0.7066      0.080     -8.815      0.000      -0.864      -0.549\n",
       "ma.L1         -1.4832      0.174     -8.524      0.000      -1.824      -1.142\n",
       "ma.L2          0.5033      0.175      2.877      0.004       0.160       0.846\n",
       "ma.S.L12       0.7444      0.077      9.730      0.000       0.594       0.894\n",
       "sigma2       345.6775     37.222      9.287      0.000     272.723     418.631\n",
       "===================================================================================\n",
       "Ljung-Box (Q):                      164.01   Jarque-Bera (JB):                10.84\n",
       "Prob(Q):                              0.00   Prob(JB):                         0.00\n",
       "Heteroskedasticity (H):               5.46   Skew:                             0.46\n",
       "Prob(H) (two-sided):                  0.00   Kurtosis:                         3.98\n",
       "===================================================================================\n",
       "\n",
       "Warnings:\n",
       "[1] Covariance matrix calculated using the outer product of gradients (complex-step).\n",
       "\"\"\""
      ]
     },
     "execution_count": 5,
     "metadata": {},
     "output_type": "execute_result"
    }
   ],
   "source": [
    "stepwise_fit.summary()"
   ]
  },
  {
   "cell_type": "markdown",
   "id": "3b0f3694",
   "metadata": {},
   "source": [
    "# ARMA"
   ]
  },
  {
   "cell_type": "code",
   "execution_count": 6,
   "id": "96aa381e",
   "metadata": {},
   "outputs": [],
   "source": [
    "import pandas as pd\n",
    "import numpy as np\n",
    "\n",
    "import warnings\n",
    "warnings.filterwarnings('ignore')\n",
    "\n",
    "from statsmodels.tsa.arima_model import ARMA, ARIMA, ARMAResults, ARIMAResults\n",
    "from statsmodels.graphics.tsaplots import plot_acf, plot_pacf    # p와 q의 차원을 결정하는 고전적인 방법으로 plot\n",
    "from pmdarima import auto_arima     # GridSearch로 p,d,q를 찾게 해줌\n",
    "\n",
    "# Stationary dataset\n",
    "df1 = pd.read_csv('../Data/DailyTotalFemaleBirths.csv',\n",
    "                 index_col='Date',\n",
    "                 parse_dates=True)\n",
    "df1.index.freq = 'D'\n",
    "df1 = df1[:120]\n",
    "\n",
    "df2 = pd.read_csv('../Data/TradeInventories.csv',\n",
    "                 index_col='Date',\n",
    "                 parse_dates=True)\n",
    "df2.index.freq='MS'"
   ]
  },
  {
   "cell_type": "code",
   "execution_count": 7,
   "id": "e64f1381",
   "metadata": {},
   "outputs": [
    {
     "data": {
      "image/png": "[encoded data removed]",
      "text/plain": [
       "<Figure size 864x360 with 1 Axes>"
      ]
     },
     "metadata": {
      "needs_background": "light"
     },
     "output_type": "display_data"
    }
   ],
   "source": [
    "df1['Births'].plot(figsize=(12, 5));"
   ]
  },
  {
   "cell_type": "markdown",
   "id": "a4242b75",
   "metadata": {},
   "source": [
    "어떤 명확한 추세나 명확한 계절성을 보이지 않는다 $\\rightarrow$ stationary data  \n",
    "단지 잡음이 많고 일일 출생이 40 정도에서 변동이 보이는 것으로 보인다.  "
   ]
  },
  {
   "cell_type": "code",
   "execution_count": 8,
   "id": "58558471",
   "metadata": {},
   "outputs": [],
   "source": [
    "from statsmodels.tsa.stattools import adfuller\n",
    "\n",
    "def adf_test(Series, title=''):\n",
    "    print(f'Augmented Dickey-Fuller Test: {title}')\n",
    "    result = adfuller(Series.dropna(), autolag='AIC')\n",
    "    \n",
    "    labels = ['ADF test statistic', 'p-value', '# lags used', '# observations']\n",
    "    out = pd.Series(result[0:4], index=labels)\n",
    "\n",
    "    for key, val in result[4].items():\n",
    "        out[f'critical value ({key})'] = val\n",
    "        \n",
    "    print(out.to_string(), '\\n') \n",
    "        \n",
    "    if result[1] <= 0.05:\n",
    "        print('귀무가설에 반하는 증거가 확실합니다')\n",
    "        print('귀무가설을 기각합니다.')\n",
    "        print('이 데이터에선 단위근이 없으며 정상적입니다.')\n",
    "    else:\n",
    "        print('귀무가설을 기각할 증거가 불충분합니다.')\n",
    "        print('귀무가설을 기각하지 못합니다.')\n",
    "        print('이 데이터에선 단위근이 있으며 비정상적입니다.')"
   ]
  },
  {
   "cell_type": "code",
   "execution_count": 9,
   "id": "6065d39d",
   "metadata": {},
   "outputs": [
    {
     "name": "stdout",
     "output_type": "stream",
     "text": [
      "Augmented Dickey-Fuller Test: \n",
      "ADF test statistic     -9.855384e+00\n",
      "p-value                 4.373545e-17\n",
      "# lags used             0.000000e+00\n",
      "# observations          1.190000e+02\n",
      "critical value (1%)    -3.486535e+00\n",
      "critical value (5%)    -2.886151e+00\n",
      "critical value (10%)   -2.579896e+00 \n",
      "\n",
      "귀무가설에 반하는 증거가 확실합니다\n",
      "귀무가설을 기각합니다.\n",
      "이 데이터에선 단위근이 없으며 정상적입니다.\n"
     ]
    }
   ],
   "source": [
    "adf_test(df1['Births'])"
   ]
  },
  {
   "cell_type": "code",
   "execution_count": 10,
   "id": "7e201670",
   "metadata": {
    "scrolled": true
   },
   "outputs": [
    {
     "data": {
      "text/html": [
       "<table class=\"simpletable\">\n",
       "<caption>ARMA Model Results</caption>\n",
       "<tr>\n",
       "  <th>Dep. Variable:</th>         <td>y</td>        <th>  No. Observations:  </th>    <td>120</td>  \n",
       "</tr>\n",
       "<tr>\n",
       "  <th>Model:</th>            <td>ARMA(0, 0)</td>    <th>  Log Likelihood     </th> <td>-409.745</td>\n",
       "</tr>\n",
       "<tr>\n",
       "  <th>Method:</th>               <td>css</td>       <th>  S.D. of innovations</th>   <td>7.357</td> \n",
       "</tr>\n",
       "<tr>\n",
       "  <th>Date:</th>          <td>Sat, 05 Feb 2022</td> <th>  AIC                </th>  <td>823.489</td>\n",
       "</tr>\n",
       "<tr>\n",
       "  <th>Time:</th>              <td>12:22:49</td>     <th>  BIC                </th>  <td>829.064</td>\n",
       "</tr>\n",
       "<tr>\n",
       "  <th>Sample:</th>                <td>0</td>        <th>  HQIC               </th>  <td>825.753</td>\n",
       "</tr>\n",
       "<tr>\n",
       "  <th></th>                       <td> </td>        <th>                     </th>     <td> </td>   \n",
       "</tr>\n",
       "</table>\n",
       "<table class=\"simpletable\">\n",
       "<tr>\n",
       "    <td></td>       <th>coef</th>     <th>std err</th>      <th>z</th>      <th>P>|z|</th>  <th>[0.025</th>    <th>0.975]</th>  \n",
       "</tr>\n",
       "<tr>\n",
       "  <th>const</th> <td>   39.7833</td> <td>    0.672</td> <td>   59.240</td> <td> 0.000</td> <td>   38.467</td> <td>   41.100</td>\n",
       "</tr>\n",
       "</table>"
      ],
      "text/plain": [
       "<class 'statsmodels.iolib.summary.Summary'>\n",
       "\"\"\"\n",
       "                              ARMA Model Results                              \n",
       "==============================================================================\n",
       "Dep. Variable:                      y   No. Observations:                  120\n",
       "Model:                     ARMA(0, 0)   Log Likelihood                -409.745\n",
       "Method:                           css   S.D. of innovations              7.357\n",
       "Date:                Sat, 05 Feb 2022   AIC                            823.489\n",
       "Time:                        12:22:49   BIC                            829.064\n",
       "Sample:                             0   HQIC                           825.753\n",
       "                                                                              \n",
       "==============================================================================\n",
       "                 coef    std err          z      P>|z|      [0.025      0.975]\n",
       "------------------------------------------------------------------------------\n",
       "const         39.7833      0.672     59.240      0.000      38.467      41.100\n",
       "==============================================================================\n",
       "\"\"\""
      ]
     },
     "execution_count": 10,
     "metadata": {},
     "output_type": "execute_result"
    }
   ],
   "source": [
    "auto_arima(df1['Births'], seasonal=False).summary()"
   ]
  },
  {
   "cell_type": "code",
   "execution_count": 13,
   "id": "0bc407e2",
   "metadata": {},
   "outputs": [
    {
     "data": {
      "text/html": [
       "<table class=\"simpletable\">\n",
       "<caption>ARMA Model Results</caption>\n",
       "<tr>\n",
       "  <th>Dep. Variable:</th>      <td>Births</td>      <th>  No. Observations:  </th>    <td>90</td>   \n",
       "</tr>\n",
       "<tr>\n",
       "  <th>Model:</th>            <td>ARMA(2, 2)</td>    <th>  Log Likelihood     </th> <td>-307.905</td>\n",
       "</tr>\n",
       "<tr>\n",
       "  <th>Method:</th>             <td>css-mle</td>     <th>  S.D. of innovations</th>   <td>7.405</td> \n",
       "</tr>\n",
       "<tr>\n",
       "  <th>Date:</th>          <td>Sat, 05 Feb 2022</td> <th>  AIC                </th>  <td>627.809</td>\n",
       "</tr>\n",
       "<tr>\n",
       "  <th>Time:</th>              <td>12:23:31</td>     <th>  BIC                </th>  <td>642.808</td>\n",
       "</tr>\n",
       "<tr>\n",
       "  <th>Sample:</th>           <td>01-01-1959</td>    <th>  HQIC               </th>  <td>633.858</td>\n",
       "</tr>\n",
       "<tr>\n",
       "  <th></th>                 <td>- 03-31-1959</td>   <th>                     </th>     <td> </td>   \n",
       "</tr>\n",
       "</table>\n",
       "<table class=\"simpletable\">\n",
       "<tr>\n",
       "        <td></td>          <th>coef</th>     <th>std err</th>      <th>z</th>      <th>P>|z|</th>  <th>[0.025</th>    <th>0.975]</th>  \n",
       "</tr>\n",
       "<tr>\n",
       "  <th>const</th>        <td>   39.7549</td> <td>    0.912</td> <td>   43.607</td> <td> 0.000</td> <td>   37.968</td> <td>   41.542</td>\n",
       "</tr>\n",
       "<tr>\n",
       "  <th>ar.L1.Births</th> <td>   -0.1850</td> <td>    1.087</td> <td>   -0.170</td> <td> 0.865</td> <td>   -2.315</td> <td>    1.945</td>\n",
       "</tr>\n",
       "<tr>\n",
       "  <th>ar.L2.Births</th> <td>    0.4352</td> <td>    0.644</td> <td>    0.675</td> <td> 0.501</td> <td>   -0.828</td> <td>    1.698</td>\n",
       "</tr>\n",
       "<tr>\n",
       "  <th>ma.L1.Births</th> <td>    0.2777</td> <td>    1.097</td> <td>    0.253</td> <td> 0.801</td> <td>   -1.872</td> <td>    2.427</td>\n",
       "</tr>\n",
       "<tr>\n",
       "  <th>ma.L2.Births</th> <td>   -0.3999</td> <td>    0.679</td> <td>   -0.589</td> <td> 0.557</td> <td>   -1.730</td> <td>    0.930</td>\n",
       "</tr>\n",
       "</table>\n",
       "<table class=\"simpletable\">\n",
       "<caption>Roots</caption>\n",
       "<tr>\n",
       "    <td></td>   <th>            Real</th>  <th>         Imaginary</th> <th>         Modulus</th>  <th>        Frequency</th>\n",
       "</tr>\n",
       "<tr>\n",
       "  <th>AR.1</th> <td>          -1.3181</td> <td>          +0.0000j</td> <td>           1.3181</td> <td>           0.5000</td>\n",
       "</tr>\n",
       "<tr>\n",
       "  <th>AR.2</th> <td>           1.7434</td> <td>          +0.0000j</td> <td>           1.7434</td> <td>           0.0000</td>\n",
       "</tr>\n",
       "<tr>\n",
       "  <th>MA.1</th> <td>          -1.2718</td> <td>          +0.0000j</td> <td>           1.2718</td> <td>           0.5000</td>\n",
       "</tr>\n",
       "<tr>\n",
       "  <th>MA.2</th> <td>           1.9662</td> <td>          +0.0000j</td> <td>           1.9662</td> <td>           0.0000</td>\n",
       "</tr>\n",
       "</table>"
      ],
      "text/plain": [
       "<class 'statsmodels.iolib.summary.Summary'>\n",
       "\"\"\"\n",
       "                              ARMA Model Results                              \n",
       "==============================================================================\n",
       "Dep. Variable:                 Births   No. Observations:                   90\n",
       "Model:                     ARMA(2, 2)   Log Likelihood                -307.905\n",
       "Method:                       css-mle   S.D. of innovations              7.405\n",
       "Date:                Sat, 05 Feb 2022   AIC                            627.809\n",
       "Time:                        12:23:31   BIC                            642.808\n",
       "Sample:                    01-01-1959   HQIC                           633.858\n",
       "                         - 03-31-1959                                         \n",
       "================================================================================\n",
       "                   coef    std err          z      P>|z|      [0.025      0.975]\n",
       "--------------------------------------------------------------------------------\n",
       "const           39.7549      0.912     43.607      0.000      37.968      41.542\n",
       "ar.L1.Births    -0.1850      1.087     -0.170      0.865      -2.315       1.945\n",
       "ar.L2.Births     0.4352      0.644      0.675      0.501      -0.828       1.698\n",
       "ma.L1.Births     0.2777      1.097      0.253      0.801      -1.872       2.427\n",
       "ma.L2.Births    -0.3999      0.679     -0.589      0.557      -1.730       0.930\n",
       "                                    Roots                                    \n",
       "=============================================================================\n",
       "                  Real          Imaginary           Modulus         Frequency\n",
       "-----------------------------------------------------------------------------\n",
       "AR.1           -1.3181           +0.0000j            1.3181            0.5000\n",
       "AR.2            1.7434           +0.0000j            1.7434            0.0000\n",
       "MA.1           -1.2718           +0.0000j            1.2718            0.5000\n",
       "MA.2            1.9662           +0.0000j            1.9662            0.0000\n",
       "-----------------------------------------------------------------------------\n",
       "\"\"\""
      ]
     },
     "execution_count": 13,
     "metadata": {},
     "output_type": "execute_result"
    }
   ],
   "source": [
    "train = df1.iloc[:90]\n",
    "test = df1.iloc[90:]\n",
    "\n",
    "model = ARMA(train['Births'], order=(2, 2))\n",
    "results = model.fit()\n",
    "results.summary()"
   ]
  },
  {
   "cell_type": "code",
   "execution_count": 14,
   "id": "a4d7db29",
   "metadata": {},
   "outputs": [
    {
     "data": {
      "text/plain": [
       "1959-04-01    39.982226\n",
       "1959-04-02    39.992610\n",
       "1959-04-03    39.809831\n",
       "1959-04-04    39.848172\n",
       "1959-04-05    39.761538\n",
       "1959-04-06    39.794253\n",
       "1959-04-07    39.750499\n",
       "1959-04-08    39.772832\n",
       "1959-04-09    39.749660\n",
       "1959-04-10    39.763666\n",
       "1959-04-11    39.750990\n",
       "1959-04-12    39.759431\n",
       "1959-04-13    39.752353\n",
       "1959-04-14    39.757336\n",
       "1959-04-15    39.753334\n",
       "1959-04-16    39.756243\n",
       "1959-04-17    39.753963\n",
       "1959-04-18    39.755651\n",
       "1959-04-19    39.754346\n",
       "1959-04-20    39.755322\n",
       "1959-04-21    39.754574\n",
       "1959-04-22    39.755137\n",
       "1959-04-23    39.754707\n",
       "1959-04-24    39.755032\n",
       "1959-04-25    39.754785\n",
       "1959-04-26    39.754972\n",
       "1959-04-27    39.754829\n",
       "1959-04-28    39.754937\n",
       "1959-04-29    39.754855\n",
       "1959-04-30    39.754917\n",
       "Freq: D, Name: ARMA (2, 2) Predictions, dtype: float64"
      ]
     },
     "execution_count": 14,
     "metadata": {},
     "output_type": "execute_result"
    }
   ],
   "source": [
    "start = len(train)\n",
    "end = len(train) + len(test) - 1\n",
    "\n",
    "predictions = results.predict(start, end).rename('ARMA (2, 2) Predictions')\n",
    "predictions"
   ]
  },
  {
   "cell_type": "code",
   "execution_count": 15,
   "id": "09ea80c8",
   "metadata": {},
   "outputs": [
    {
     "name": "stdout",
     "output_type": "stream",
     "text": [
      "Error:  [0.05589996]\n"
     ]
    },
    {
     "data": {
      "image/png": "[encoded data removed]",
      "text/plain": [
       "<Figure size 864x576 with 1 Axes>"
      ]
     },
     "metadata": {
      "needs_background": "light"
     },
     "output_type": "display_data"
    }
   ],
   "source": [
    "print('Error: ',test.mean().values-predictions.mean())\n",
    "test['Births'].plot(figsize=(12, 8), legend=True)\n",
    "predictions.plot(legend=True);"
   ]
  },
  {
   "cell_type": "code",
   "execution_count": null,
   "id": "990ab1c8",
   "metadata": {},
   "outputs": [],
   "source": []
  },
  {
   "cell_type": "code",
   "execution_count": null,
   "id": "ec76e8b7",
   "metadata": {},
   "outputs": [],
   "source": []
  }
 ],
 "metadata": {
  "kernelspec": {
   "display_name": "Python 3 (ipykernel)",
   "language": "python",
   "name": "python3"
  },
  "language_info": {
   "codemirror_mode": {
    "name": "ipython",
    "version": 3
   },
   "file_extension": ".py",
   "mimetype": "text/x-python",
   "name": "python",
   "nbconvert_exporter": "python",
   "pygments_lexer": "ipython3",
   "version": "3.7.2"
  },
  "toc": {
   "base_numbering": 1,
   "nav_menu": {},
   "number_sections": true,
   "sideBar": true,
   "skip_h1_title": false,
   "title_cell": "Table of Contents",
   "title_sidebar": "Contents",
   "toc_cell": false,
   "toc_position": {},
   "toc_section_display": true,
   "toc_window_display": false
  },
  "varInspector": {
   "cols": {
    "lenName": 16,
    "lenType": 16,
    "lenVar": 40
   },
   "kernels_config": {
    "python": {
     "delete_cmd_postfix": "",
     "delete_cmd_prefix": "del ",
     "library": "var_list.py",
     "varRefreshCmd": "print(var_dic_list())"
    },
    "r": {
     "delete_cmd_postfix": ") ",
     "delete_cmd_prefix": "rm(",
     "library": "var_list.r",
     "varRefreshCmd": "cat(var_dic_list()) "
    }
   },
   "types_to_exclude": [
    "module",
    "function",
    "builtin_function_or_method",
    "instance",
    "_Feature"
   ],
   "window_display": false
  }
 },
 "nbformat": 4,
 "nbformat_minor": 5
}
