{
 "cells": [
  {
   "cell_type": "markdown",
   "id": "20489152",
   "metadata": {},
   "source": [
    "# Overview of ARIMA\n",
    "## Before studying ARIMA\n",
    "- ARIMA 모델이 모든 시계열 데이터를 완벽하게 예측할 수는 없다.\n",
    "    - ARIMA를 주식 정보에 적용하는 것은 올바르지 않는데, 주식 데이터엔 외부 요인이 너무 많기 때문에 타임 스탬프가 찍힌 주가 정보만으로는 예측할 수가 없음  \n",
    "    $\\rightarrow$ 시간 경과에 따른 주가 정보만으로 향후 주가는 예측 불가\n",
    "- ARIMA가 효과적인 경우는, 전체 시계열의 데이터와 타임 스탬프가 직접적인 관련성이 있을 때이다.\n",
    "- ARIMA 모델은 매우 복잡하기 때문에 이 노트북 뿐만이 아니라 다른 사이트들이나 textbook을 찾아봐야 할 수도 있다.\n",
    "\n",
    "## what is ARIMA\n",
    "- ARIMA(자기회귀 누적 이동평균) 모델에는 세 가지 구성요소가 있다\n",
    "    1. 자동 회귀(자기상관)를 나타내는 'AR'\n",
    "    2. 누적을 나타내는 'I'\n",
    "    3. 이동평균을 나타내는 'MA\n",
    "- ARIMA 모델은 '자기회귀 이동평균'모델인 ARMA 모델을 일반화한 것으로 기본적으로 '누적' 구성요소를 추가한 것\n",
    "- ARIMA 모델를 기반으로 다양한 유형의 모델이 만들어졌다.\n",
    "    - Non-seasonal ARIMA\n",
    "    - Seasonal ARIMA(SARIMA)\n",
    "    - 외생 변수가 추가된 모델(SARIMAX)\n",
    "    \n",
    "## Basic of ARIMA\n",
    "- ARIMA 모델은 데이터가 비정상성의 형태를 나타내는 경우에 적용이 가능\n",
    "- 'I' 구성요소로 불리는 ARIMA 모델의 '누적'된 부분에 해당하는 초기 차분의 단계를 한번 이상 적용하여 비정상성을 제거할 수 있다. \n",
    "- 비계절성 ARIMA 모델은 일반적으로 ARIMA(p, d, q)로 표시된다. (p, d, q는 비계절성 정수가 된다.)\n",
    "- AR(자기 회귀)는 단순히 현재의 관측치와 이전 기간의 관측치 간의 종속 관계를 활용하는 모델\n",
    "- I(누적 구성요소)는 차분을 의미하는 매개변수 d와 연관되어 있다. \n",
    "    - 누적 구성요소는 단순히 관측치의 차이를 알려줌 $\\rightarrow$ 데이터를 정상화하기 위한 차분 횟수\n",
    "    - 시계열을 정상화하기 위해, 이전 기간의 관측치에서 현재의 관측치를 차감함\n",
    "- MA(이동 평균)은 lag된 관측값에 적용된 이동 평균 모델의 잔차 오차와 관측값 간의 종속성을 사용함\n",
    "\n",
    "## Stationary vs Non-Stationary Data\n",
    "- 정상 시계열은 상수이며, 시간에 따른 평균과 분산이 일정함\n",
    "- 정상 데이터셋은 모델로 하여금 미래의 평균과 분산이 형재와 동일하다는 것을 예측하게 해줌\n",
    "### Mean needs to be constant\n",
    "![image](https://user-images.githubusercontent.com/70187490/151957474-baa690d6-fe98-46e0-81ed-f538a1a66643.png)\n",
    "- 평균값이 일정해야 한다는 말은 데이터셋 내에서 평균 값이 증가하거나 감소하는 추세를 보이면 안 됨(왼쪽 그래프)\n",
    "- 왼쪽 그래프는 정상 데이터셋으로 평균값이 대체로 일정함\n",
    "- 오른쪽 그래프는 비정상 데이터셋으로, 평균값이 뚜렷한 상승 추세를 보인다.\n",
    "\n",
    "### Variance should not be a function of time\n",
    "![image](https://user-images.githubusercontent.com/70187490/151957888-e432fe76-480f-4568-94d1-a90b6cfc9109.png)\n",
    "- 분산 또한 시간과 상관관계가 있어선 안됨\n",
    "- 왼쪽의 정상 데이터셋과 다르게, 비정상 데이터셋의 경우 분산이 시간 경과에 따라 변할 수 있음을 볼 수 있다.\n",
    "\n",
    "### Covariance should not be a function of time\n",
    "![image](https://user-images.githubusercontent.com/70187490/151958524-94a8f51f-db6a-4991-99eb-7eca0e9353cd.png)\n",
    "- 공분산 또한 시간과 상관관계가 있으면 안됨\n",
    "\n",
    "<br>\n",
    "\n",
    "- 데이터의 정상성은 육안으로만 판단하기 어려운 경우가 많기 때문에 보통 데이터의 정상성 여부를 정량적으로 알려주는 테스트를 사용한다. \n",
    "- 이 테스트 중 가장 일반화된 것은 Augmented Dickey-Fuller test\n",
    "\n",
    "<br>\n",
    "\n",
    "- 만약 데이터가 시각적으로나 수학적으로 비정상적인 것으로 판단된 경우 사용할 ARIMA 항의 유형에 기반하여 데이터를 평가하기 위해 정상화시켜야 한다.\n",
    "- 이때 I 항이 등장해서 데이터셋의 정상화를 위한 차분을 수행하게 된다. \n",
    "- 각 차분 단계마다 데이터 행의 손실이 발생하는데 보통 방대한 양의 데이터를 다루게 되어 몇 행쯤 손실되는 것은 큰 영향을 끼치지 못한다.\n",
    "\n",
    "<br>\n",
    "\n",
    "- 계절성 데이터는 계절별로 차분할 수도 있다.  \n",
    "$\\rightarrow$ 연간 계절성을 갖는 월별 데이터의 경우, 1이 아닌 12라는 시간 단위를 사용해 차분할 수 있다.\n",
    "- 또 다른 방법으로는 두 방법을 결합하는 것으로, 1차 차분에선 계절성 차분을 구함\n",
    "\n",
    "## p, d, q terms\n",
    "- p, d, q 항을 선택하는 방법은 크게 두 가지로 나뉜다.\n",
    "    1. AutoCorrelation plot과 Partial AutoCorrelation plot을 사용하여 해당 plot의 감소 형태에 따라 선택  \n",
    "    $\\rightarrow$ 이러한 plot을 읽는 것은 상당히 까다로울 수 있으며, 심히 주관적일 수도 있다.\n",
    "    2. Grid Search를 이용하여 p, d, q의 다양한 조합에 대해 ARIMA 모델을 여러번 실행하여 높은 평가기준을 선택하는 것"
   ]
  }
 ],
 "metadata": {
  "kernelspec": {
   "display_name": "Python 3 (ipykernel)",
   "language": "python",
   "name": "python3"
  },
  "language_info": {
   "codemirror_mode": {
    "name": "ipython",
    "version": 3
   },
   "file_extension": ".py",
   "mimetype": "text/x-python",
   "name": "python",
   "nbconvert_exporter": "python",
   "pygments_lexer": "ipython3",
   "version": "3.7.2"
  },
  "toc": {
   "base_numbering": 1,
   "nav_menu": {},
   "number_sections": true,
   "sideBar": true,
   "skip_h1_title": false,
   "title_cell": "Table of Contents",
   "title_sidebar": "Contents",
   "toc_cell": false,
   "toc_position": {},
   "toc_section_display": true,
   "toc_window_display": true
  },
  "varInspector": {
   "cols": {
    "lenName": 16,
    "lenType": 16,
    "lenVar": 40
   },
   "kernels_config": {
    "python": {
     "delete_cmd_postfix": "",
     "delete_cmd_prefix": "del ",
     "library": "var_list.py",
     "varRefreshCmd": "print(var_dic_list())"
    },
    "r": {
     "delete_cmd_postfix": ") ",
     "delete_cmd_prefix": "rm(",
     "library": "var_list.r",
     "varRefreshCmd": "cat(var_dic_list()) "
    }
   },
   "types_to_exclude": [
    "module",
    "function",
    "builtin_function_or_method",
    "instance",
    "_Feature"
   ],
   "window_display": false
  }
 },
 "nbformat": 4,
 "nbformat_minor": 5
}
