{
 "cells": [
  {
   "cell_type": "markdown",
   "id": "20f21a5a",
   "metadata": {},
   "source": [
    "# ACF and PACF\n",
    "ACF(AutoCorrelation Function=자기상관함수) plot, PACF(Partial AutoCorrelation Function=부분 자기상관함수) plot은 시계열 분석에서 매우 일반적인 유형의 plot들이다. 먼저 이 둘을 알기 위해선 Correlation(상관)이라는 용어에 대해서 알아야 한다."
   ]
  },
  {
   "cell_type": "markdown",
   "id": "16d5e134",
   "metadata": {},
   "source": [
    "## Correlation\n",
    "Correlation은 두 변수간의 선형 관계 강도를 의미한다. \n",
    "- 상관 계수는 -1부터 +1 사이의 값을 갖는데, 상관 계수가 양수에 가까울수록 양의 선형관계가 더 강하다는 것을 의미한다.  \n",
    "즉, 어떤 배열이 다른 배열과 강력한 양의 상관관계를 가지는 경우, 한 배열이 증가하면 다른 배열도 증가하는 관계다.\n",
    "- 상관 계수가 중간점인 0에 가까울수록, 전반적인 선형관계가 약함을 의미한다.  \n",
    "즉, 두 배열 간에 연관성이 없다는 것으로 상관관계가 없다는 뜻\n",
    "![image](https://user-images.githubusercontent.com/70187490/151764526-7470f5b4-a2b5-4fe1-a8b8-e83c060e6b92.png)\n",
    "위의 그림에서 윗줄은 1과 -1사이의 상관 계수를 보여주고 있다.  \n",
    "아래 줄에서는 완벽한 상관관계의 예를 볼 수 있는데 이에서 알수 있는 것은 두 배열이 계속 함께 증가/감소하는 한 사실상 기울기나 그 강도는 중요하지 않다."
   ]
  },
  {
   "attachments": {},
   "cell_type": "markdown",
   "id": "c64a3711",
   "metadata": {},
   "source": [
    "## AutoCorrelation\n",
    "자기 상관관계에서 plot은 현재 시계열과 그 시계열의 x차 시점 간의 상관관계를 보여준다.  \n",
    "- 여기서 중요한 점은 자기 상관의 경우 하나의 시계열만을 사용하며 다른 시계열과는 비교하지 않는다.  \n",
    "$\\rightarrow$동일한 데이터 배열에 대해 특정 시간 단위만큼 지연(lag) 또는 이동한(shift) 시점의 데이터를 비교하는 것.  \n",
    "- x 축은 지연 시간 단위의 수이며 y축은 상관관계이다.\n",
    "\n",
    "만약 어떤 판매 실적 데이터가 있다고 가정하고 기준 판매 데이터를 한 시점 이동한 판매 데이터와 비교한다고 하면 이를 통해 오늘과 어제의 판매 실적 간 상관관계를 알 수 있을 것이다.\n",
    "\n",
    "### How to create AutoCorrelation plot \n",
    "![image](https://user-images.githubusercontent.com/70187490/151768133-87fee8f5-0b69-4447-85a1-aebfb6bc6484.png)\n",
    "\n",
    "1. plot을 보면 특정한 날짜 i를 정하고 해당일의 판매 실적에 대한 plot을 그린 다음 하루 전인 i-1의 판매 실적과 비교한다.  \n",
    "2. 그럼 위의 plot처럼 둘 사이의 자기 상관관계를 계산할 수 있다.  \n",
    "만약 오늘과 어제의 판매 실적의 상관관계가 높으며, 임의로 상관계수를 0.8로 가정한다고 하자.  \n",
    "3. 여기서 자기 상관 plot을 그리기 위해 0.8의 상관계수를 기준으로 한다면 아까 한 시점만 이동했으므로 첫번째 자기 상관 plot은 오른쪽 그래프와 같이 그려질 것이다.  \n",
    "4. 오른쪽 plot이 바로 자기 상관 plot인데 현재 1차 시점에 대한 그림이다. y축은 자기 상관계수이며 동일 시계열에서 특정 시차 또는 이동 횟수별 관측값의 상관관계를 나타낸다.  \n",
    "5. 이런 식으로 모든 이동에 대한 단계가 반복이 되면서 자기 상관 plot을 그린다.\n",
    "\n",
    "**즉, 자기 상관 plot은 단순히 x차 시점의 자기 자신과의 상관관계를 보여주는 그래프**\n",
    "### Expample of ACF plot\n",
    "#### Gradual Decline\n",
    "![image](https://user-images.githubusercontent.com/70187490/151768515-45712019-7e4b-4525-8a85-df4f95c6668b.png)\n",
    "\n",
    "위의 그래프는 점진적인 감소 추세를 보이는데, 특히 계절성 데이터에서 흔한 유형이다.  \n",
    "이전에 봤던 항공기 탐승객 데이터셋의 자기 상관관계 plot이다.  \n",
    "이 plot에선 극대값이 있고 약간씩 증가하는 모습인데, 이는 특정 이동 횟수 이후에 상관관계가 증가하기 시작함을 나타낸다.  \n",
    "이러한 극대값은 12번째 이동 시점에 나타나는 경향을 보이는데, 그 이유는 12개월 즉 1년이 이런 항공기 탑승객의 계절성 주기였기 때문  \n",
    "이동 횟수가 늘수록 상관 계수가 점차 감소하는 것을 보면, 오래된 데이터와는 상관관계가 줄어든다는 것을 알 수 있지만 여전히 극대, 극소값이 있는 약간의 계절성을 확인할 수 있다.\n",
    "#### Sharp Drop-off\n",
    "![image](https://user-images.githubusercontent.com/70187490/151769107-ade972f2-e374-4536-8d29-75ad7fb32ed0.png)\n",
    "\n",
    "위의 그래프는 급격히 감소 추세를 보이는 데 이는 매우 일반적인 유형  \n",
    "특정 날짜와 하루 전의 데이터는 높은 상관관계를 보이지만 2~3일 전으로 거슬러 가면 시차에 따른 상관관계가 없는 경우  \n",
    "이렇게 빠르거나 서서히 감소하는 경향을 보이는 것은 타당한 일이다. 이유는 멀리 이동할수록 시계열이 자신과 상관관계를 가질 가능성이 줄어들기 때문이다. "
   ]
  },
  {
   "cell_type": "markdown",
   "id": "a2ae7475",
   "metadata": {},
   "source": [
    "## Partial AutoCorrelation \n",
    "부분 자기상관 plot은 기본적으로 전날의 잔차와 현재의 실제 값 사이의 관계의 plot을 그리는 것.  \n",
    "잔차간의 상관계수를 표현한 plot  \n",
    "보통 급격히 감소하는 형태를 보임\n",
    "\n",
    "<br>\n",
    "\n",
    "- 부분 자기상관의 이해 \n",
    "    - 만약 서로 다른 $k$값에 대해, $y_t$와 $y_{t-k}$의 관계를 측정하려 한다.\n",
    "    - $y_t$와 $y_{t-1}$이 상관 관계가 있다면, $y_{t-1}$과 $y_{t-2}$에도 상관관계가 있어야 한다.\n",
    "    - 하지만 $y_t$와 $y_{t-2}$는 ($y_t$를 예측하는데 사용될 수도 있는) $y_{t-2}$에 담긴 어떠한 새로운 정보 때문이 아니라 단순히 두 값 모두 $y_{t-1}$과 관련이 있기 때문에 상관관계를 가질 수도 있다.\n",
    "        - 이러한 문제를 극복하기 위해, **부분 자기상관값**을 이용할 수 있다.\n",
    "        - 이 값은 시차 $1, 2, 3, ..., k-1$의 효과를 제거한 후의 $y_t$와 $y_{t-k}$ 사이의 관계를 측정한다.\n",
    "        - 그래서 첫 번째 부분의 자기상관은 제거할 부분이 없어서 첫 번째 자기상관과 같다.\n",
    "        - 각 부분 자기상관은 자기회귀 모델의 마지막 계수처럼 측정할 수 있다.\n",
    "        \n",
    "### How to create PACF\n",
    "![image](https://user-images.githubusercontent.com/70187490/151801536-ee681c3e-87e5-4bfa-83f3-ef019ee34c9f.png)\n",
    "\n",
    "만약 i일과 i-1일의 판매 실적의 자기 상관 plot이 있다고 할 때, 기본적으로 i일과 i-1일의 판매 실적 사이에 선형 결합이 있고 이에 따른 잔차가 존재함  \n",
    "이러한 i-1일의 판매량에 대한 잔차의 plot을 그려보면 일반적인 잔차, 즉 오류를 확인할 수 있다. \n",
    "i-1일에 피팅된 잔차를 가지고 i-2일의 판매량과의 상관 plot을 그리고 다음엔 계속해서 이전 시점에 대해 이 과정을 반복한다. \n",
    "### Compare ACF with PACF\n",
    "ACF라고 부르는 자기 상관 함수는 현재의 관측값과 이전 시점의 관측값 간의 직간접 종속성 정보를 포함한 자기 상관관계를 보여줌  \n",
    "한편 PACF라고 부르는 부분 자기상관 함수는 현재와 이전 관측값 사이의 직접적 관계만 보여준다. "
   ]
  },
  {
   "cell_type": "markdown",
   "id": "a38166f7",
   "metadata": {},
   "source": [
    "# Practice code ACF and PACF\n",
    "## Perform standard imports and load datasets"
   ]
  },
  {
   "cell_type": "code",
   "execution_count": 3,
   "id": "6487a10e",
   "metadata": {},
   "outputs": [],
   "source": [
    "import pandas as pd\n",
    "import numpy as np\n",
    "import statsmodels.api as sm\n",
    "from statsmodels.tsa.stattools import acovf, acf, pacf, pacf_yw, pacf_ols\n",
    "\n",
    "# NON STATIONARY\n",
    "df1 = pd.read_csv('../Data/airline_passengers.csv',\n",
    "                 index_col='Month', \n",
    "                 parse_dates=True)\n",
    "df1.index.freq = 'MS'\n",
    "\n",
    "# STATIONARY\n",
    "df2 = pd.read_csv('../Data/DailyTotalFemaleBirths.csv',\n",
    "                 index_col='Date',\n",
    "                 parse_dates=True)\n",
    "df2.index.freq = 'D'"
   ]
  },
  {
   "cell_type": "markdown",
   "id": "ee0c1bc1",
   "metadata": {},
   "source": [
    "## Autocovariance for 1D\n",
    "$y=\\sin(x)$와 같이 결정론적인 방법에서는 주어진 $x$값들을 통해 항상 $y$의 값들을 알 수 있다. 하지만 절차확률적인 data에서는 항상 몇몇 무작위성이 있어 $y$의 값을 알수가 없다. 대신 과거의 값(혹은 lagged된 값)들을 분석하여 일어날 법한 예측치 $\\hat y$를 추정할 수 있다. \n",
    "\n",
    "<br>\n",
    "\n",
    "한 가지 유용한 기술은 바로 *covariance*(공분산)을 이용하는 것이다. covariance는 $x$와 $y$의 독립성과 비독립성에 대해 설명해주며 $x$의 분산은 $y$의 분산과 얼마나 관련되어 있는지를 묘사한다. 여기서 공분산의 크기는 중요하지 않은데 이는 $x$와 $y$의 단위가 매우 다를 수 있기 때문이다. 그러나 만약 공분산이 positive라는 의미는 $x$와 $y$가 변할 때 같은 변화로 움직인다는 것이며 이 두 변수는 서로 관련이 있을 것이다. \n",
    "\n",
    "<br>\n",
    "\n",
    "Time series에서 $x$는 고정된 간격이다. 여기서 $y_t$의 분산을 shift된 $y_{t+k}$의 값을 알아보고자 한다. 만약 stationary time series의 경우 $\\gamma$에 대한 자기 분산 함수는 다음과 같이 주어진다:  \n",
    "\n",
    "${\\displaystyle {\\gamma}_{XX}(t_{1},t_{2})=\\operatorname {Cov} \\left[X_{t_{1}},X_{t_{2}}\\right]=\\operatorname {E} [(X_{t_{1}}-\\mu _{t_{1}})(X_{t_{2}}-\\mu _{t_{2}})]}$\n",
    "\n",
    "$\\gamma_k$ 의 값은 다음과 같이 계산할 수 있다:\n",
    "\n",
    "${\\displaystyle \\gamma_k = \\frac 1 n \\sum\\limits_{t=1}^{n-k} (y_t - \\bar{y})(y_{t+k}-\\bar{y})}$\n"
   ]
  },
  {
   "cell_type": "markdown",
   "id": "3dcb4a12",
   "metadata": {},
   "source": [
    "<div class=\"alert alert-info\"><strong>A NOTE ON FORMULA CONVENTIONS: </strong>\n",
    "<br>우리가 사용한 $k$는 얼마나 lag(혹은 shift)가 되었는지를 나타낸 변수였다. 다른 책에서는 $k$ 대신에 $h$를 사용하기도 한다.</div>"
   ]
  },
  {
   "cell_type": "markdown",
   "id": "c6585942",
   "metadata": {},
   "source": [
    "### Autocovariance Example:\n",
    "5개의 시계열 관측값: {13, 5, 11, 12, 9}  \n",
    "$n=5$이므로 평균은 $\\bar y = 10$, 분산은 $\\sigma^2=8$  \n",
    "아래의 계산식에 따라 예시에서 주어진 값에 따른 covariance 값을 계산할 수 있다.  \n",
    "\n",
    "<br>\n",
    "\n",
    "$\\gamma_0=\\frac{(13-10)(13-10)+(5-10)(5-10)+(11-10)(11-10)+(12-10)(12-10)(9-10)(910)}{5}=\\frac{40}{5}=8.0$  \n",
    "$\\gamma_1=\\frac{(13-10)(5-10)+(5-10)(11-10)+(11-10)(12-10)+(12-10)(9-10)}{5}=\\frac{-20}{5}=-4.0$  \n",
    "$\\gamma_2=\\frac{(13-10)(11-10)+(5-10)(12-10)+(11-10)(9-10)}{5}=\\frac{-8}{5}=-1.6$  \n",
    "$\\gamma_3=\\frac{(13-10)(12-10)+(5-10)(9-10)}{5}=\\frac{11}{5}=2.2$  \n",
    "$\\gamma_4=\\frac{(13-10)(9-10}{5}=\\frac{-3}{5}=-0.6$  \n",
    "\n",
    "<br>\n",
    "\n"
   ]
  },
  {
   "cell_type": "code",
   "execution_count": 29,
   "id": "c2e40d7f",
   "metadata": {},
   "outputs": [
    {
     "data": {
      "text/plain": [
       "array([ 8. , -4. , -1.6,  2.2, -0.6])"
      ]
     },
     "execution_count": 29,
     "metadata": {},
     "output_type": "execute_result"
    }
   ],
   "source": [
    "df = pd.DataFrame({'a':[13, 5, 11, 12, 9]})\n",
    "acovf(df['a'])"
   ]
  },
  {
   "cell_type": "code",
   "execution_count": 4,
   "id": "7553e85a",
   "metadata": {},
   "outputs": [
    {
     "data": {
      "text/html": [
       "<div>\n",
       "<style scoped>\n",
       "    .dataframe tbody tr th:only-of-type {\n",
       "        vertical-align: middle;\n",
       "    }\n",
       "\n",
       "    .dataframe tbody tr th {\n",
       "        vertical-align: top;\n",
       "    }\n",
       "\n",
       "    .dataframe thead th {\n",
       "        text-align: right;\n",
       "    }\n",
       "</style>\n",
       "<table border=\"1\" class=\"dataframe\">\n",
       "  <thead>\n",
       "    <tr style=\"text-align: right;\">\n",
       "      <th></th>\n",
       "      <th>Thousands of Passengers</th>\n",
       "    </tr>\n",
       "    <tr>\n",
       "      <th>Month</th>\n",
       "      <th></th>\n",
       "    </tr>\n",
       "  </thead>\n",
       "  <tbody>\n",
       "    <tr>\n",
       "      <th>1949-01-01</th>\n",
       "      <td>112</td>\n",
       "    </tr>\n",
       "    <tr>\n",
       "      <th>1949-02-01</th>\n",
       "      <td>118</td>\n",
       "    </tr>\n",
       "    <tr>\n",
       "      <th>1949-03-01</th>\n",
       "      <td>132</td>\n",
       "    </tr>\n",
       "    <tr>\n",
       "      <th>1949-04-01</th>\n",
       "      <td>129</td>\n",
       "    </tr>\n",
       "    <tr>\n",
       "      <th>1949-05-01</th>\n",
       "      <td>121</td>\n",
       "    </tr>\n",
       "  </tbody>\n",
       "</table>\n",
       "</div>"
      ],
      "text/plain": [
       "            Thousands of Passengers\n",
       "Month                              \n",
       "1949-01-01                      112\n",
       "1949-02-01                      118\n",
       "1949-03-01                      132\n",
       "1949-04-01                      129\n",
       "1949-05-01                      121"
      ]
     },
     "execution_count": 4,
     "metadata": {},
     "output_type": "execute_result"
    }
   ],
   "source": [
    "df1.head()"
   ]
  },
  {
   "cell_type": "code",
   "execution_count": 5,
   "id": "16d58583",
   "metadata": {},
   "outputs": [
    {
     "data": {
      "text/html": [
       "<div>\n",
       "<style scoped>\n",
       "    .dataframe tbody tr th:only-of-type {\n",
       "        vertical-align: middle;\n",
       "    }\n",
       "\n",
       "    .dataframe tbody tr th {\n",
       "        vertical-align: top;\n",
       "    }\n",
       "\n",
       "    .dataframe thead th {\n",
       "        text-align: right;\n",
       "    }\n",
       "</style>\n",
       "<table border=\"1\" class=\"dataframe\">\n",
       "  <thead>\n",
       "    <tr style=\"text-align: right;\">\n",
       "      <th></th>\n",
       "      <th>Births</th>\n",
       "    </tr>\n",
       "    <tr>\n",
       "      <th>Date</th>\n",
       "      <th></th>\n",
       "    </tr>\n",
       "  </thead>\n",
       "  <tbody>\n",
       "    <tr>\n",
       "      <th>1959-01-01</th>\n",
       "      <td>35</td>\n",
       "    </tr>\n",
       "    <tr>\n",
       "      <th>1959-01-02</th>\n",
       "      <td>32</td>\n",
       "    </tr>\n",
       "    <tr>\n",
       "      <th>1959-01-03</th>\n",
       "      <td>30</td>\n",
       "    </tr>\n",
       "    <tr>\n",
       "      <th>1959-01-04</th>\n",
       "      <td>31</td>\n",
       "    </tr>\n",
       "    <tr>\n",
       "      <th>1959-01-05</th>\n",
       "      <td>44</td>\n",
       "    </tr>\n",
       "  </tbody>\n",
       "</table>\n",
       "</div>"
      ],
      "text/plain": [
       "            Births\n",
       "Date              \n",
       "1959-01-01      35\n",
       "1959-01-02      32\n",
       "1959-01-03      30\n",
       "1959-01-04      31\n",
       "1959-01-05      44"
      ]
     },
     "execution_count": 5,
     "metadata": {},
     "output_type": "execute_result"
    }
   ],
   "source": [
    "df2.head()"
   ]
  },
  {
   "cell_type": "code",
   "execution_count": 9,
   "id": "2ca37f2e",
   "metadata": {},
   "outputs": [
    {
     "data": {
      "text/plain": [
       "array([ 1.   , -0.5  , -0.2  ,  0.275, -0.075])"
      ]
     },
     "execution_count": 9,
     "metadata": {},
     "output_type": "execute_result"
    }
   ],
   "source": [
    "acf(df['a'])"
   ]
  },
  {
   "cell_type": "code",
   "execution_count": 14,
   "id": "9076938a",
   "metadata": {},
   "outputs": [
    {
     "data": {
      "text/plain": [
       "array([ 1.        , -0.625     , -1.18803419,  2.03764205,  0.8949589 ])"
      ]
     },
     "execution_count": 14,
     "metadata": {},
     "output_type": "execute_result"
    }
   ],
   "source": [
    "pacf_yw(df['a'], nlags=4, method='unbiased')"
   ]
  },
  {
   "cell_type": "code",
   "execution_count": 15,
   "id": "7c63bb5d",
   "metadata": {},
   "outputs": [
    {
     "data": {
      "text/plain": [
       "array([ 1.        , -0.49677419, -0.43181818,  0.53082621,  0.25434783])"
      ]
     },
     "execution_count": 15,
     "metadata": {},
     "output_type": "execute_result"
    }
   ],
   "source": [
    "pacf_ols(df['a'], nlags=4)"
   ]
  },
  {
   "cell_type": "code",
   "execution_count": 17,
   "id": "1f277d9b",
   "metadata": {},
   "outputs": [
    {
     "data": {
      "image/png": "[encoded data removed]",
      "text/plain": [
       "<Figure size 432x288 with 1 Axes>"
      ]
     },
     "metadata": {
      "needs_background": "light"
     },
     "output_type": "display_data"
    }
   ],
   "source": [
    "from pandas.plotting import lag_plot\n",
    "\n",
    "lag_plot(df1['Thousands of Passengers']);"
   ]
  },
  {
   "cell_type": "code",
   "execution_count": 18,
   "id": "50714664",
   "metadata": {},
   "outputs": [
    {
     "data": {
      "image/png": "[encoded data removed]",
      "text/plain": [
       "<Figure size 432x288 with 1 Axes>"
      ]
     },
     "metadata": {
      "needs_background": "light"
     },
     "output_type": "display_data"
    }
   ],
   "source": [
    "lag_plot(df2['Births']);"
   ]
  },
  {
   "cell_type": "code",
   "execution_count": 22,
   "id": "7f15cbd8",
   "metadata": {},
   "outputs": [
    {
     "data": {
      "image/png": "[encoded data removed]",
      "text/plain": [
       "<Figure size 432x288 with 1 Axes>"
      ]
     },
     "metadata": {
      "needs_background": "light"
     },
     "output_type": "display_data"
    }
   ],
   "source": [
    "from statsmodels.graphics.tsaplots import plot_acf, plot_pacf\n",
    "df1.plot();"
   ]
  },
  {
   "cell_type": "code",
   "execution_count": 24,
   "id": "18db5eb2",
   "metadata": {},
   "outputs": [
    {
     "data": {
      "image/png": "[encoded data removed]",
      "text/plain": [
       "<Figure size 432x288 with 1 Axes>"
      ]
     },
     "metadata": {
      "needs_background": "light"
     },
     "output_type": "display_data"
    }
   ],
   "source": [
    "plot_acf(df1, lags=40);"
   ]
  },
  {
   "cell_type": "code",
   "execution_count": 25,
   "id": "41257310",
   "metadata": {},
   "outputs": [
    {
     "data": {
      "image/png": "[encoded data removed]",
      "text/plain": [
       "<Figure size 432x288 with 1 Axes>"
      ]
     },
     "metadata": {
      "needs_background": "light"
     },
     "output_type": "display_data"
    }
   ],
   "source": [
    "plot_acf(df2, lags=40);"
   ]
  },
  {
   "cell_type": "code",
   "execution_count": 28,
   "id": "62398df5",
   "metadata": {},
   "outputs": [
    {
     "data": {
      "image/png": "[encoded data removed]",
      "text/plain": [
       "<Figure size 432x288 with 1 Axes>"
      ]
     },
     "metadata": {
      "needs_background": "light"
     },
     "output_type": "display_data"
    }
   ],
   "source": [
    "plot_pacf(df2, lags=40, title='Daily Female Births');"
   ]
  },
  {
   "cell_type": "code",
   "execution_count": null,
   "id": "101e58b6",
   "metadata": {},
   "outputs": [],
   "source": []
  }
 ],
 "metadata": {
  "kernelspec": {
   "display_name": "Python 3 (ipykernel)",
   "language": "python",
   "name": "python3"
  },
  "language_info": {
   "codemirror_mode": {
    "name": "ipython",
    "version": 3
   },
   "file_extension": ".py",
   "mimetype": "text/x-python",
   "name": "python",
   "nbconvert_exporter": "python",
   "pygments_lexer": "ipython3",
   "version": "3.7.2"
  },
  "toc": {
   "base_numbering": 1,
   "nav_menu": {},
   "number_sections": true,
   "sideBar": true,
   "skip_h1_title": false,
   "title_cell": "Table of Contents",
   "title_sidebar": "Contents",
   "toc_cell": false,
   "toc_position": {},
   "toc_section_display": true,
   "toc_window_display": true
  },
  "varInspector": {
   "cols": {
    "lenName": 16,
    "lenType": 16,
    "lenVar": 40
   },
   "kernels_config": {
    "python": {
     "delete_cmd_postfix": "",
     "delete_cmd_prefix": "del ",
     "library": "var_list.py",
     "varRefreshCmd": "print(var_dic_list())"
    },
    "r": {
     "delete_cmd_postfix": ") ",
     "delete_cmd_prefix": "rm(",
     "library": "var_list.r",
     "varRefreshCmd": "cat(var_dic_list()) "
    }
   },
   "types_to_exclude": [
    "module",
    "function",
    "builtin_function_or_method",
    "instance",
    "_Feature"
   ],
   "window_display": false
  }
 },
 "nbformat": 4,
 "nbformat_minor": 5
}
